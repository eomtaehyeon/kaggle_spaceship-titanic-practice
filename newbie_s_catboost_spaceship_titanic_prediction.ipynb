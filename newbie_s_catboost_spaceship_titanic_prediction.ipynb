{
  "cells": [
    {
      "cell_type": "markdown",
      "metadata": {
        "id": "view-in-github",
        "colab_type": "text"
      },
      "source": [
        "<a href=\"https://colab.research.google.com/github/eomtaehyeon/kaggle/blob/main/newbie_s_catboost_spaceship_titanic_prediction.ipynb\" target=\"_parent\"><img src=\"https://colab.research.google.com/assets/colab-badge.svg\" alt=\"Open In Colab\"/></a>"
      ]
    },
    {
      "cell_type": "code",
      "execution_count": null,
      "id": "01276557",
      "metadata": {
        "_cell_guid": "04b62804-c8cc-4e05-8f8b-52d6b8d47820",
        "_uuid": "11966e95-c9f3-4842-9d0c-a0a8cc619b21",
        "execution": {
          "iopub.execute_input": "2022-04-07T06:59:01.447815Z",
          "iopub.status.busy": "2022-04-07T06:59:01.447127Z",
          "iopub.status.idle": "2022-04-07T06:59:01.452538Z",
          "shell.execute_reply": "2022-04-07T06:59:01.453265Z",
          "shell.execute_reply.started": "2022-04-07T06:55:54.778455Z"
        },
        "jupyter": {
          "outputs_hidden": false
        },
        "papermill": {
          "duration": 0.098509,
          "end_time": "2022-04-07T06:59:01.453720",
          "exception": false,
          "start_time": "2022-04-07T06:59:01.355211",
          "status": "completed"
        },
        "tags": [],
        "id": "01276557",
        "outputId": "610ae0bc-b1b2-490b-93aa-b5ebe9863c17"
      },
      "outputs": [
        {
          "name": "stdout",
          "output_type": "stream",
          "text": [
            "/kaggle/input/spaceship-titanic/sample_submission.csv\n",
            "/kaggle/input/spaceship-titanic/train.csv\n",
            "/kaggle/input/spaceship-titanic/test.csv\n"
          ]
        }
      ],
      "source": [
        "# This Python 3 environment comes with many helpful analytics libraries installed\n",
        "# It is defined by the kaggle/python Docker image: https://github.com/kaggle/docker-python\n",
        "# For example, here's several helpful packages to load\n",
        "\n",
        "import numpy as np # linear algebra\n",
        "import pandas as pd # data processing, CSV file I/O (e.g. pd.read_csv)\n",
        "\n",
        "# Input data files are available in the read-only \"../input/\" directory\n",
        "# For example, running this (by clicking run or pressing Shift+Enter) will list all files under the input directory\n",
        "\n",
        "import os\n",
        "for dirname, _, filenames in os.walk('/kaggle/input'):\n",
        "    for filename in filenames:\n",
        "        print(os.path.join(dirname, filename))\n",
        "\n",
        "# You can write up to 20GB to the current directory (/kaggle/working/) that gets preserved as output when you create a version using \"Save & Run All\" \n",
        "# You can also write temporary files to /kaggle/temp/, but they won't be saved outside of the current session"
      ]
    },
    {
      "cell_type": "markdown",
      "id": "cd8df4db",
      "metadata": {
        "papermill": {
          "duration": 0.076986,
          "end_time": "2022-04-07T06:59:01.609139",
          "exception": false,
          "start_time": "2022-04-07T06:59:01.532153",
          "status": "completed"
        },
        "tags": [],
        "id": "cd8df4db"
      },
      "source": [
        "# 프로젝트 개요\n",
        "- 강의명 : 2022년 K-디지털 직업훈련(Training) 사업 - AI데이터플랫폼을 활용한 빅데이터 분석전문가 과정\n",
        "- 교과목명 : 빅데이터 분석 및 시각화, AI개발 기초, 인공지능 프로그래밍\n",
        "- 프로젝트 주제 : Spaceship Titanic 데이터를 활용한 탑승유무 분류모형 개발\n",
        "- 프로젝트 마감일 : 2022년 4월 12일 화요일\n",
        "- 수강생명 : 엄태현"
      ]
    },
    {
      "cell_type": "markdown",
      "id": "7d9a6e4e",
      "metadata": {
        "_cell_guid": "6d530913-860b-414d-aed1-ba7ea7ffe081",
        "_uuid": "bc17bd10-0913-448f-8e23-662eac6b7492",
        "papermill": {
          "duration": 0.076335,
          "end_time": "2022-04-07T06:59:01.761557",
          "exception": false,
          "start_time": "2022-04-07T06:59:01.685222",
          "status": "completed"
        },
        "tags": [],
        "id": "7d9a6e4e"
      },
      "source": [
        "# Loading Libraries And Data"
      ]
    },
    {
      "cell_type": "markdown",
      "id": "27219838",
      "metadata": {
        "papermill": {
          "duration": 0.076302,
          "end_time": "2022-04-07T06:59:01.913654",
          "exception": false,
          "start_time": "2022-04-07T06:59:01.837352",
          "status": "completed"
        },
        "tags": [],
        "id": "27219838"
      },
      "source": [
        "## Libraies"
      ]
    },
    {
      "cell_type": "code",
      "execution_count": null,
      "id": "17ea9261",
      "metadata": {
        "_cell_guid": "f6c76447-0ea2-4b32-83b2-2809c9118825",
        "_uuid": "910c9cad-c3b6-46f5-bb27-c6ed35233750",
        "execution": {
          "iopub.execute_input": "2022-04-07T06:59:02.071959Z",
          "iopub.status.busy": "2022-04-07T06:59:02.071218Z",
          "iopub.status.idle": "2022-04-07T06:59:09.685039Z",
          "shell.execute_reply": "2022-04-07T06:59:09.684275Z",
          "shell.execute_reply.started": "2022-04-07T06:55:55.037003Z"
        },
        "jupyter": {
          "outputs_hidden": false
        },
        "papermill": {
          "duration": 7.6943,
          "end_time": "2022-04-07T06:59:09.685300",
          "exception": false,
          "start_time": "2022-04-07T06:59:01.991000",
          "status": "completed"
        },
        "tags": [],
        "id": "17ea9261",
        "outputId": "4898e47b-328e-476f-dde5-9e02ece4ef3b"
      },
      "outputs": [
        {
          "name": "stdout",
          "output_type": "stream",
          "text": [
            "Version Pandas 1.3.5\n",
            "Version Matplotlib 3.5.1\n",
            "Version Numpy 1.20.3\n",
            "Version Seaborn 0.11.2\n",
            "Version Sklearn 1.0.1\n"
          ]
        }
      ],
      "source": [
        "import pandas as pd\n",
        "import numpy as np\n",
        "import matplotlib\n",
        "import matplotlib.pyplot as plt\n",
        "import plotly.express as px\n",
        "import seaborn as sns\n",
        "import os\n",
        "import sklearn\n",
        "import warnings\n",
        "warnings.filterwarnings('ignore')\n",
        "import tensorflow as tf\n",
        "\n",
        "from sklearn.pipeline import Pipeline\n",
        "from sklearn.model_selection import train_test_split\n",
        "from sklearn.metrics import accuracy_score, confusion_matrix, recall_score, precision_score, f1_score\n",
        "from sklearn.preprocessing import StandardScaler, MinMaxScaler, OneHotEncoder, LabelEncoder\n",
        "from sklearn.compose import ColumnTransformer\n",
        "from sklearn.metrics import roc_curve, roc_auc_score\n",
        "from sklearn.model_selection import StratifiedKFold\n",
        "from sklearn.model_selection import cross_validate\n",
        "from sklearn.datasets import make_classification\n",
        "from sklearn.metrics import plot_confusion_matrix\n",
        "\n",
        "\n",
        "\n",
        "print(\"Version Pandas\", pd.__version__)\n",
        "print(\"Version Matplotlib\", matplotlib.__version__)\n",
        "print(\"Version Numpy\", np.__version__)\n",
        "print(\"Version Seaborn\", sns.__version__)\n",
        "print(\"Version Sklearn\",sklearn.__version__)"
      ]
    },
    {
      "cell_type": "markdown",
      "id": "c6c93194",
      "metadata": {
        "_cell_guid": "96401305-208e-4c62-8c79-edff82261b85",
        "_uuid": "79a69d6a-cb05-44e3-9b49-a8a9d3ca7615",
        "papermill": {
          "duration": 0.075753,
          "end_time": "2022-04-07T06:59:09.838431",
          "exception": false,
          "start_time": "2022-04-07T06:59:09.762678",
          "status": "completed"
        },
        "tags": [],
        "id": "c6c93194"
      },
      "source": [
        "## Data\n",
        "\n",
        "- train.csv - Personal records for about two-thirds (~8700) of the passengers, to be used as training data.\n",
        "- test.csv - Personal records for the remaining one-third (~4300) of the passengers, to be used as test\n",
        "- sample_submission.csv - A submission file in the correct format.\n",
        "    + PassengerId - Id for each passenger in the test set.\n",
        "    + Transported - The target. For each passenger, predict either True or False.\n"
      ]
    },
    {
      "cell_type": "code",
      "execution_count": null,
      "id": "44da64fc",
      "metadata": {
        "_cell_guid": "a0e5d263-8ff8-4860-823d-221103726a5a",
        "_uuid": "33431145-e7b8-4bf9-b45c-65c206a3c421",
        "execution": {
          "iopub.execute_input": "2022-04-07T06:59:09.997902Z",
          "iopub.status.busy": "2022-04-07T06:59:09.996981Z",
          "iopub.status.idle": "2022-04-07T06:59:10.103025Z",
          "shell.execute_reply": "2022-04-07T06:59:10.103602Z",
          "shell.execute_reply.started": "2022-04-07T06:55:55.233980Z"
        },
        "jupyter": {
          "outputs_hidden": false
        },
        "papermill": {
          "duration": 0.188346,
          "end_time": "2022-04-07T06:59:10.103801",
          "exception": false,
          "start_time": "2022-04-07T06:59:09.915455",
          "status": "completed"
        },
        "tags": [],
        "id": "44da64fc"
      },
      "outputs": [],
      "source": [
        "train = pd.read_csv(\"../input/spaceship-titanic/train.csv\")\n",
        "test = pd.read_csv(\"../input/spaceship-titanic/test.csv\")\n",
        "submission = pd.read_csv(\"../input/spaceship-titanic/sample_submission.csv\")\n",
        "\n",
        "all_data = pd.concat([train, test], axis=0)"
      ]
    },
    {
      "cell_type": "markdown",
      "id": "7126166a",
      "metadata": {
        "_cell_guid": "1be408ef-1fc1-4e70-9234-5a6e021c72ac",
        "_uuid": "e7875d9c-c222-4ddf-b723-9a1318f83cdc",
        "papermill": {
          "duration": 0.074506,
          "end_time": "2022-04-07T06:59:10.253641",
          "exception": false,
          "start_time": "2022-04-07T06:59:10.179135",
          "status": "completed"
        },
        "tags": [],
        "id": "7126166a"
      },
      "source": [
        "## Feature descriptions: \n",
        "\n",
        "- PassengerId - A unique Id for each passenger. Each Id takes the form gggg_pp where gggg indicates a group the passenger is travelling with and pp is their number within the group. People in a group are often family members, but not always.\n",
        "- HomePlanet - The planet the passenger departed from, typically their planet of permanent residence.\n",
        "- CryoSleep - Indicates whether the passenger elected to be put into suspended animation for the duration of the voyage. Passengers in cryosleep are confined to their cabins.\n",
        "- Cabin - The cabin number where the passenger is staying. Takes the form deck/num/side, where side can be either P for Port or S for Starboard.\n",
        "- Destination - The planet the passenger will be debarking to.\n",
        "- Age - The age of the passenger.\n",
        "- VIP - Whether the passenger has paid for special VIP service during the voyage.\n",
        "- RoomService, FoodCourt, ShoppingMall, Spa, VRDeck - Amount the passenger has billed at each of the Spaceship Titanic's many luxury amenities.\n",
        "- Name - The first and last names of the passenger.\n",
        "- Transported - Whether the passenger was transported to another dimension. This is the target, the column you are trying to predict.\n",
        "\n",
        "    - Reference : https://www.kaggle.com/competitions/spaceship-titanic/data\n"
      ]
    },
    {
      "cell_type": "markdown",
      "id": "a5bf3dad",
      "metadata": {
        "papermill": {
          "duration": 0.076013,
          "end_time": "2022-04-07T06:59:10.407149",
          "exception": false,
          "start_time": "2022-04-07T06:59:10.331136",
          "status": "completed"
        },
        "tags": [],
        "id": "a5bf3dad"
      },
      "source": [
        "## Check Train Data"
      ]
    },
    {
      "cell_type": "code",
      "execution_count": null,
      "id": "a7383a26",
      "metadata": {
        "execution": {
          "iopub.execute_input": "2022-04-07T06:59:10.563579Z",
          "iopub.status.busy": "2022-04-07T06:59:10.562875Z",
          "iopub.status.idle": "2022-04-07T06:59:10.566546Z",
          "shell.execute_reply": "2022-04-07T06:59:10.565906Z",
          "shell.execute_reply.started": "2022-04-07T06:55:55.305153Z"
        },
        "papermill": {
          "duration": 0.084474,
          "end_time": "2022-04-07T06:59:10.566687",
          "exception": false,
          "start_time": "2022-04-07T06:59:10.482213",
          "status": "completed"
        },
        "tags": [],
        "id": "a7383a26",
        "outputId": "d4420e9a-5539-495c-9fb4-672af61d74f5"
      },
      "outputs": [
        {
          "name": "stdout",
          "output_type": "stream",
          "text": [
            "Train Data Shape : (8693, 14)\n"
          ]
        }
      ],
      "source": [
        "# Train Data shape\n",
        "\n",
        "print('Train Data Shape :', train.shape)"
      ]
    },
    {
      "cell_type": "code",
      "execution_count": null,
      "id": "3cc375e4",
      "metadata": {
        "execution": {
          "iopub.execute_input": "2022-04-07T06:59:10.726261Z",
          "iopub.status.busy": "2022-04-07T06:59:10.725609Z",
          "iopub.status.idle": "2022-04-07T06:59:10.754103Z",
          "shell.execute_reply": "2022-04-07T06:59:10.754628Z",
          "shell.execute_reply.started": "2022-04-07T06:55:55.328070Z"
        },
        "papermill": {
          "duration": 0.112771,
          "end_time": "2022-04-07T06:59:10.754806",
          "exception": false,
          "start_time": "2022-04-07T06:59:10.642035",
          "status": "completed"
        },
        "tags": [],
        "id": "3cc375e4",
        "outputId": "bf94cba4-8aa6-42ab-c301-f161bd7e2e7f"
      },
      "outputs": [
        {
          "data": {
            "text/html": [
              "<div>\n",
              "<style scoped>\n",
              "    .dataframe tbody tr th:only-of-type {\n",
              "        vertical-align: middle;\n",
              "    }\n",
              "\n",
              "    .dataframe tbody tr th {\n",
              "        vertical-align: top;\n",
              "    }\n",
              "\n",
              "    .dataframe thead th {\n",
              "        text-align: right;\n",
              "    }\n",
              "</style>\n",
              "<table border=\"1\" class=\"dataframe\">\n",
              "  <thead>\n",
              "    <tr style=\"text-align: right;\">\n",
              "      <th></th>\n",
              "      <th>PassengerId</th>\n",
              "      <th>HomePlanet</th>\n",
              "      <th>CryoSleep</th>\n",
              "      <th>Cabin</th>\n",
              "      <th>Destination</th>\n",
              "      <th>Age</th>\n",
              "      <th>VIP</th>\n",
              "      <th>RoomService</th>\n",
              "      <th>FoodCourt</th>\n",
              "      <th>ShoppingMall</th>\n",
              "      <th>Spa</th>\n",
              "      <th>VRDeck</th>\n",
              "      <th>Name</th>\n",
              "      <th>Transported</th>\n",
              "    </tr>\n",
              "  </thead>\n",
              "  <tbody>\n",
              "    <tr>\n",
              "      <th>0</th>\n",
              "      <td>0001_01</td>\n",
              "      <td>Europa</td>\n",
              "      <td>False</td>\n",
              "      <td>B/0/P</td>\n",
              "      <td>TRAPPIST-1e</td>\n",
              "      <td>39.0</td>\n",
              "      <td>False</td>\n",
              "      <td>0.0</td>\n",
              "      <td>0.0</td>\n",
              "      <td>0.0</td>\n",
              "      <td>0.0</td>\n",
              "      <td>0.0</td>\n",
              "      <td>Maham Ofracculy</td>\n",
              "      <td>False</td>\n",
              "    </tr>\n",
              "    <tr>\n",
              "      <th>1</th>\n",
              "      <td>0002_01</td>\n",
              "      <td>Earth</td>\n",
              "      <td>False</td>\n",
              "      <td>F/0/S</td>\n",
              "      <td>TRAPPIST-1e</td>\n",
              "      <td>24.0</td>\n",
              "      <td>False</td>\n",
              "      <td>109.0</td>\n",
              "      <td>9.0</td>\n",
              "      <td>25.0</td>\n",
              "      <td>549.0</td>\n",
              "      <td>44.0</td>\n",
              "      <td>Juanna Vines</td>\n",
              "      <td>True</td>\n",
              "    </tr>\n",
              "    <tr>\n",
              "      <th>2</th>\n",
              "      <td>0003_01</td>\n",
              "      <td>Europa</td>\n",
              "      <td>False</td>\n",
              "      <td>A/0/S</td>\n",
              "      <td>TRAPPIST-1e</td>\n",
              "      <td>58.0</td>\n",
              "      <td>True</td>\n",
              "      <td>43.0</td>\n",
              "      <td>3576.0</td>\n",
              "      <td>0.0</td>\n",
              "      <td>6715.0</td>\n",
              "      <td>49.0</td>\n",
              "      <td>Altark Susent</td>\n",
              "      <td>False</td>\n",
              "    </tr>\n",
              "    <tr>\n",
              "      <th>3</th>\n",
              "      <td>0003_02</td>\n",
              "      <td>Europa</td>\n",
              "      <td>False</td>\n",
              "      <td>A/0/S</td>\n",
              "      <td>TRAPPIST-1e</td>\n",
              "      <td>33.0</td>\n",
              "      <td>False</td>\n",
              "      <td>0.0</td>\n",
              "      <td>1283.0</td>\n",
              "      <td>371.0</td>\n",
              "      <td>3329.0</td>\n",
              "      <td>193.0</td>\n",
              "      <td>Solam Susent</td>\n",
              "      <td>False</td>\n",
              "    </tr>\n",
              "    <tr>\n",
              "      <th>4</th>\n",
              "      <td>0004_01</td>\n",
              "      <td>Earth</td>\n",
              "      <td>False</td>\n",
              "      <td>F/1/S</td>\n",
              "      <td>TRAPPIST-1e</td>\n",
              "      <td>16.0</td>\n",
              "      <td>False</td>\n",
              "      <td>303.0</td>\n",
              "      <td>70.0</td>\n",
              "      <td>151.0</td>\n",
              "      <td>565.0</td>\n",
              "      <td>2.0</td>\n",
              "      <td>Willy Santantines</td>\n",
              "      <td>True</td>\n",
              "    </tr>\n",
              "    <tr>\n",
              "      <th>5</th>\n",
              "      <td>0005_01</td>\n",
              "      <td>Earth</td>\n",
              "      <td>False</td>\n",
              "      <td>F/0/P</td>\n",
              "      <td>PSO J318.5-22</td>\n",
              "      <td>44.0</td>\n",
              "      <td>False</td>\n",
              "      <td>0.0</td>\n",
              "      <td>483.0</td>\n",
              "      <td>0.0</td>\n",
              "      <td>291.0</td>\n",
              "      <td>0.0</td>\n",
              "      <td>Sandie Hinetthews</td>\n",
              "      <td>True</td>\n",
              "    </tr>\n",
              "    <tr>\n",
              "      <th>6</th>\n",
              "      <td>0006_01</td>\n",
              "      <td>Earth</td>\n",
              "      <td>False</td>\n",
              "      <td>F/2/S</td>\n",
              "      <td>TRAPPIST-1e</td>\n",
              "      <td>26.0</td>\n",
              "      <td>False</td>\n",
              "      <td>42.0</td>\n",
              "      <td>1539.0</td>\n",
              "      <td>3.0</td>\n",
              "      <td>0.0</td>\n",
              "      <td>0.0</td>\n",
              "      <td>Billex Jacostaffey</td>\n",
              "      <td>True</td>\n",
              "    </tr>\n",
              "    <tr>\n",
              "      <th>7</th>\n",
              "      <td>0006_02</td>\n",
              "      <td>Earth</td>\n",
              "      <td>True</td>\n",
              "      <td>G/0/S</td>\n",
              "      <td>TRAPPIST-1e</td>\n",
              "      <td>28.0</td>\n",
              "      <td>False</td>\n",
              "      <td>0.0</td>\n",
              "      <td>0.0</td>\n",
              "      <td>0.0</td>\n",
              "      <td>0.0</td>\n",
              "      <td>NaN</td>\n",
              "      <td>Candra Jacostaffey</td>\n",
              "      <td>True</td>\n",
              "    </tr>\n",
              "    <tr>\n",
              "      <th>8</th>\n",
              "      <td>0007_01</td>\n",
              "      <td>Earth</td>\n",
              "      <td>False</td>\n",
              "      <td>F/3/S</td>\n",
              "      <td>TRAPPIST-1e</td>\n",
              "      <td>35.0</td>\n",
              "      <td>False</td>\n",
              "      <td>0.0</td>\n",
              "      <td>785.0</td>\n",
              "      <td>17.0</td>\n",
              "      <td>216.0</td>\n",
              "      <td>0.0</td>\n",
              "      <td>Andona Beston</td>\n",
              "      <td>True</td>\n",
              "    </tr>\n",
              "    <tr>\n",
              "      <th>9</th>\n",
              "      <td>0008_01</td>\n",
              "      <td>Europa</td>\n",
              "      <td>True</td>\n",
              "      <td>B/1/P</td>\n",
              "      <td>55 Cancri e</td>\n",
              "      <td>14.0</td>\n",
              "      <td>False</td>\n",
              "      <td>0.0</td>\n",
              "      <td>0.0</td>\n",
              "      <td>0.0</td>\n",
              "      <td>0.0</td>\n",
              "      <td>0.0</td>\n",
              "      <td>Erraiam Flatic</td>\n",
              "      <td>True</td>\n",
              "    </tr>\n",
              "  </tbody>\n",
              "</table>\n",
              "</div>"
            ],
            "text/plain": [
              "  PassengerId HomePlanet CryoSleep  Cabin    Destination   Age    VIP  \\\n",
              "0     0001_01     Europa     False  B/0/P    TRAPPIST-1e  39.0  False   \n",
              "1     0002_01      Earth     False  F/0/S    TRAPPIST-1e  24.0  False   \n",
              "2     0003_01     Europa     False  A/0/S    TRAPPIST-1e  58.0   True   \n",
              "3     0003_02     Europa     False  A/0/S    TRAPPIST-1e  33.0  False   \n",
              "4     0004_01      Earth     False  F/1/S    TRAPPIST-1e  16.0  False   \n",
              "5     0005_01      Earth     False  F/0/P  PSO J318.5-22  44.0  False   \n",
              "6     0006_01      Earth     False  F/2/S    TRAPPIST-1e  26.0  False   \n",
              "7     0006_02      Earth      True  G/0/S    TRAPPIST-1e  28.0  False   \n",
              "8     0007_01      Earth     False  F/3/S    TRAPPIST-1e  35.0  False   \n",
              "9     0008_01     Europa      True  B/1/P    55 Cancri e  14.0  False   \n",
              "\n",
              "   RoomService  FoodCourt  ShoppingMall     Spa  VRDeck                Name  \\\n",
              "0          0.0        0.0           0.0     0.0     0.0     Maham Ofracculy   \n",
              "1        109.0        9.0          25.0   549.0    44.0        Juanna Vines   \n",
              "2         43.0     3576.0           0.0  6715.0    49.0       Altark Susent   \n",
              "3          0.0     1283.0         371.0  3329.0   193.0        Solam Susent   \n",
              "4        303.0       70.0         151.0   565.0     2.0   Willy Santantines   \n",
              "5          0.0      483.0           0.0   291.0     0.0   Sandie Hinetthews   \n",
              "6         42.0     1539.0           3.0     0.0     0.0  Billex Jacostaffey   \n",
              "7          0.0        0.0           0.0     0.0     NaN  Candra Jacostaffey   \n",
              "8          0.0      785.0          17.0   216.0     0.0       Andona Beston   \n",
              "9          0.0        0.0           0.0     0.0     0.0      Erraiam Flatic   \n",
              "\n",
              "   Transported  \n",
              "0        False  \n",
              "1         True  \n",
              "2        False  \n",
              "3        False  \n",
              "4         True  \n",
              "5         True  \n",
              "6         True  \n",
              "7         True  \n",
              "8         True  \n",
              "9         True  "
            ]
          },
          "execution_count": 5,
          "metadata": {},
          "output_type": "execute_result"
        }
      ],
      "source": [
        "train.head(10)"
      ]
    },
    {
      "cell_type": "markdown",
      "id": "8e1fd1a5",
      "metadata": {
        "papermill": {
          "duration": 0.077915,
          "end_time": "2022-04-07T06:59:10.910086",
          "exception": false,
          "start_time": "2022-04-07T06:59:10.832171",
          "status": "completed"
        },
        "tags": [],
        "id": "8e1fd1a5"
      },
      "source": [
        "- 행 : 8693개, 열 : 14개 , 값 : 119378개, 결측치 : 2324개\n",
        "- CryoSleep이 217개로 결측값이 가장 많습니다.\n",
        "- PassengerId, Transported 를 제외하고 179개 이상의 결측값을 가지고 있습니다."
      ]
    },
    {
      "cell_type": "code",
      "execution_count": null,
      "id": "0d2a84f7",
      "metadata": {
        "execution": {
          "iopub.execute_input": "2022-04-07T06:59:11.067767Z",
          "iopub.status.busy": "2022-04-07T06:59:11.066828Z",
          "iopub.status.idle": "2022-04-07T06:59:11.096018Z",
          "shell.execute_reply": "2022-04-07T06:59:11.095347Z",
          "shell.execute_reply.started": "2022-04-07T06:55:55.404259Z"
        },
        "papermill": {
          "duration": 0.109245,
          "end_time": "2022-04-07T06:59:11.096166",
          "exception": false,
          "start_time": "2022-04-07T06:59:10.986921",
          "status": "completed"
        },
        "tags": [],
        "id": "0d2a84f7",
        "outputId": "93b3186f-d785-476d-f9a0-a523f53a90ac"
      },
      "outputs": [
        {
          "name": "stdout",
          "output_type": "stream",
          "text": [
            "<class 'pandas.core.frame.DataFrame'>\n",
            "RangeIndex: 8693 entries, 0 to 8692\n",
            "Data columns (total 14 columns):\n",
            " #   Column        Non-Null Count  Dtype  \n",
            "---  ------        --------------  -----  \n",
            " 0   PassengerId   8693 non-null   object \n",
            " 1   HomePlanet    8492 non-null   object \n",
            " 2   CryoSleep     8476 non-null   object \n",
            " 3   Cabin         8494 non-null   object \n",
            " 4   Destination   8511 non-null   object \n",
            " 5   Age           8514 non-null   float64\n",
            " 6   VIP           8490 non-null   object \n",
            " 7   RoomService   8512 non-null   float64\n",
            " 8   FoodCourt     8510 non-null   float64\n",
            " 9   ShoppingMall  8485 non-null   float64\n",
            " 10  Spa           8510 non-null   float64\n",
            " 11  VRDeck        8505 non-null   float64\n",
            " 12  Name          8493 non-null   object \n",
            " 13  Transported   8693 non-null   bool   \n",
            "dtypes: bool(1), float64(6), object(7)\n",
            "memory usage: 891.5+ KB\n"
          ]
        }
      ],
      "source": [
        "train.info()"
      ]
    },
    {
      "cell_type": "code",
      "execution_count": null,
      "id": "3b339041",
      "metadata": {
        "execution": {
          "iopub.execute_input": "2022-04-07T06:59:11.263148Z",
          "iopub.status.busy": "2022-04-07T06:59:11.262496Z",
          "iopub.status.idle": "2022-04-07T06:59:11.278180Z",
          "shell.execute_reply": "2022-04-07T06:59:11.278916Z",
          "shell.execute_reply.started": "2022-04-07T06:55:55.454488Z"
        },
        "papermill": {
          "duration": 0.105873,
          "end_time": "2022-04-07T06:59:11.279151",
          "exception": false,
          "start_time": "2022-04-07T06:59:11.173278",
          "status": "completed"
        },
        "tags": [],
        "id": "3b339041",
        "outputId": "2ee9029d-ee88-4cb2-c662-53fc8a96a923"
      },
      "outputs": [
        {
          "name": "stdout",
          "output_type": "stream",
          "text": [
            "Train Data total missing values : 2324\n",
            "\n",
            "Train Data missing values :\n",
            "CryoSleep       217\n",
            "ShoppingMall    208\n",
            "VIP             203\n",
            "HomePlanet      201\n",
            "Name            200\n",
            "Cabin           199\n",
            "VRDeck          188\n",
            "FoodCourt       183\n",
            "Spa             183\n",
            "Destination     182\n",
            "RoomService     181\n",
            "Age             179\n",
            "PassengerId       0\n",
            "Transported       0\n",
            "dtype: int64\n"
          ]
        }
      ],
      "source": [
        "print('Train Data total missing values :', sum(train.isna().sum()))\n",
        "print('')\n",
        "print('Train Data missing values :')\n",
        "print(train.isna().sum().sort_values(ascending = False))\n"
      ]
    },
    {
      "cell_type": "code",
      "execution_count": null,
      "id": "d9dc3bef",
      "metadata": {
        "execution": {
          "iopub.execute_input": "2022-04-07T06:59:11.464093Z",
          "iopub.status.busy": "2022-04-07T06:59:11.463487Z",
          "iopub.status.idle": "2022-04-07T06:59:11.486931Z",
          "shell.execute_reply": "2022-04-07T06:59:11.487508Z",
          "shell.execute_reply.started": "2022-04-07T06:55:55.500668Z"
        },
        "papermill": {
          "duration": 0.123204,
          "end_time": "2022-04-07T06:59:11.487679",
          "exception": false,
          "start_time": "2022-04-07T06:59:11.364475",
          "status": "completed"
        },
        "tags": [],
        "id": "d9dc3bef",
        "outputId": "d68cec22-dbf7-4d6f-851b-2e940211bc84"
      },
      "outputs": [
        {
          "data": {
            "text/plain": [
              "PassengerId     8693\n",
              "HomePlanet         3\n",
              "CryoSleep          2\n",
              "Cabin           6560\n",
              "Destination        3\n",
              "Age               80\n",
              "VIP                2\n",
              "RoomService     1273\n",
              "FoodCourt       1507\n",
              "ShoppingMall    1115\n",
              "Spa             1327\n",
              "VRDeck          1306\n",
              "Name            8473\n",
              "Transported        2\n",
              "dtype: int64"
            ]
          },
          "execution_count": 8,
          "metadata": {},
          "output_type": "execute_result"
        }
      ],
      "source": [
        "train.nunique()"
      ]
    },
    {
      "cell_type": "markdown",
      "id": "7f65ab82",
      "metadata": {
        "papermill": {
          "duration": 0.077255,
          "end_time": "2022-04-07T06:59:11.642981",
          "exception": false,
          "start_time": "2022-04-07T06:59:11.565726",
          "status": "completed"
        },
        "tags": [],
        "id": "7f65ab82"
      },
      "source": [
        "## Check Test Data\n",
        "- Transported 값은 훈련데이터에만 있습니다."
      ]
    },
    {
      "cell_type": "code",
      "execution_count": null,
      "id": "6c15fabe",
      "metadata": {
        "execution": {
          "iopub.execute_input": "2022-04-07T06:59:11.801901Z",
          "iopub.status.busy": "2022-04-07T06:59:11.801277Z",
          "iopub.status.idle": "2022-04-07T06:59:11.806283Z",
          "shell.execute_reply": "2022-04-07T06:59:11.806794Z",
          "shell.execute_reply.started": "2022-04-07T06:55:55.548371Z"
        },
        "papermill": {
          "duration": 0.086429,
          "end_time": "2022-04-07T06:59:11.806959",
          "exception": false,
          "start_time": "2022-04-07T06:59:11.720530",
          "status": "completed"
        },
        "tags": [],
        "id": "6c15fabe",
        "outputId": "ef61a1cf-f4c3-4fe8-caff-e9c86fcaa349"
      },
      "outputs": [
        {
          "name": "stdout",
          "output_type": "stream",
          "text": [
            "Test Data shape : (4277, 13)\n"
          ]
        }
      ],
      "source": [
        "# Test Data shape\n",
        "\n",
        "print('Test Data shape :', test.shape)"
      ]
    },
    {
      "cell_type": "code",
      "execution_count": null,
      "id": "3353fbf4",
      "metadata": {
        "execution": {
          "iopub.execute_input": "2022-04-07T06:59:11.970335Z",
          "iopub.status.busy": "2022-04-07T06:59:11.969303Z",
          "iopub.status.idle": "2022-04-07T06:59:11.989035Z",
          "shell.execute_reply": "2022-04-07T06:59:11.989498Z",
          "shell.execute_reply.started": "2022-04-07T06:55:55.593907Z"
        },
        "papermill": {
          "duration": 0.104673,
          "end_time": "2022-04-07T06:59:11.989674",
          "exception": false,
          "start_time": "2022-04-07T06:59:11.885001",
          "status": "completed"
        },
        "tags": [],
        "id": "3353fbf4",
        "outputId": "3d6d7348-667c-40cf-c3f7-86617d591df3"
      },
      "outputs": [
        {
          "data": {
            "text/html": [
              "<div>\n",
              "<style scoped>\n",
              "    .dataframe tbody tr th:only-of-type {\n",
              "        vertical-align: middle;\n",
              "    }\n",
              "\n",
              "    .dataframe tbody tr th {\n",
              "        vertical-align: top;\n",
              "    }\n",
              "\n",
              "    .dataframe thead th {\n",
              "        text-align: right;\n",
              "    }\n",
              "</style>\n",
              "<table border=\"1\" class=\"dataframe\">\n",
              "  <thead>\n",
              "    <tr style=\"text-align: right;\">\n",
              "      <th></th>\n",
              "      <th>PassengerId</th>\n",
              "      <th>HomePlanet</th>\n",
              "      <th>CryoSleep</th>\n",
              "      <th>Cabin</th>\n",
              "      <th>Destination</th>\n",
              "      <th>Age</th>\n",
              "      <th>VIP</th>\n",
              "      <th>RoomService</th>\n",
              "      <th>FoodCourt</th>\n",
              "      <th>ShoppingMall</th>\n",
              "      <th>Spa</th>\n",
              "      <th>VRDeck</th>\n",
              "      <th>Name</th>\n",
              "    </tr>\n",
              "  </thead>\n",
              "  <tbody>\n",
              "    <tr>\n",
              "      <th>0</th>\n",
              "      <td>0013_01</td>\n",
              "      <td>Earth</td>\n",
              "      <td>True</td>\n",
              "      <td>G/3/S</td>\n",
              "      <td>TRAPPIST-1e</td>\n",
              "      <td>27.0</td>\n",
              "      <td>False</td>\n",
              "      <td>0.0</td>\n",
              "      <td>0.0</td>\n",
              "      <td>0.0</td>\n",
              "      <td>0.0</td>\n",
              "      <td>0.0</td>\n",
              "      <td>Nelly Carsoning</td>\n",
              "    </tr>\n",
              "    <tr>\n",
              "      <th>1</th>\n",
              "      <td>0018_01</td>\n",
              "      <td>Earth</td>\n",
              "      <td>False</td>\n",
              "      <td>F/4/S</td>\n",
              "      <td>TRAPPIST-1e</td>\n",
              "      <td>19.0</td>\n",
              "      <td>False</td>\n",
              "      <td>0.0</td>\n",
              "      <td>9.0</td>\n",
              "      <td>0.0</td>\n",
              "      <td>2823.0</td>\n",
              "      <td>0.0</td>\n",
              "      <td>Lerome Peckers</td>\n",
              "    </tr>\n",
              "    <tr>\n",
              "      <th>2</th>\n",
              "      <td>0019_01</td>\n",
              "      <td>Europa</td>\n",
              "      <td>True</td>\n",
              "      <td>C/0/S</td>\n",
              "      <td>55 Cancri e</td>\n",
              "      <td>31.0</td>\n",
              "      <td>False</td>\n",
              "      <td>0.0</td>\n",
              "      <td>0.0</td>\n",
              "      <td>0.0</td>\n",
              "      <td>0.0</td>\n",
              "      <td>0.0</td>\n",
              "      <td>Sabih Unhearfus</td>\n",
              "    </tr>\n",
              "    <tr>\n",
              "      <th>3</th>\n",
              "      <td>0021_01</td>\n",
              "      <td>Europa</td>\n",
              "      <td>False</td>\n",
              "      <td>C/1/S</td>\n",
              "      <td>TRAPPIST-1e</td>\n",
              "      <td>38.0</td>\n",
              "      <td>False</td>\n",
              "      <td>0.0</td>\n",
              "      <td>6652.0</td>\n",
              "      <td>0.0</td>\n",
              "      <td>181.0</td>\n",
              "      <td>585.0</td>\n",
              "      <td>Meratz Caltilter</td>\n",
              "    </tr>\n",
              "    <tr>\n",
              "      <th>4</th>\n",
              "      <td>0023_01</td>\n",
              "      <td>Earth</td>\n",
              "      <td>False</td>\n",
              "      <td>F/5/S</td>\n",
              "      <td>TRAPPIST-1e</td>\n",
              "      <td>20.0</td>\n",
              "      <td>False</td>\n",
              "      <td>10.0</td>\n",
              "      <td>0.0</td>\n",
              "      <td>635.0</td>\n",
              "      <td>0.0</td>\n",
              "      <td>0.0</td>\n",
              "      <td>Brence Harperez</td>\n",
              "    </tr>\n",
              "  </tbody>\n",
              "</table>\n",
              "</div>"
            ],
            "text/plain": [
              "  PassengerId HomePlanet CryoSleep  Cabin  Destination   Age    VIP  \\\n",
              "0     0013_01      Earth      True  G/3/S  TRAPPIST-1e  27.0  False   \n",
              "1     0018_01      Earth     False  F/4/S  TRAPPIST-1e  19.0  False   \n",
              "2     0019_01     Europa      True  C/0/S  55 Cancri e  31.0  False   \n",
              "3     0021_01     Europa     False  C/1/S  TRAPPIST-1e  38.0  False   \n",
              "4     0023_01      Earth     False  F/5/S  TRAPPIST-1e  20.0  False   \n",
              "\n",
              "   RoomService  FoodCourt  ShoppingMall     Spa  VRDeck              Name  \n",
              "0          0.0        0.0           0.0     0.0     0.0   Nelly Carsoning  \n",
              "1          0.0        9.0           0.0  2823.0     0.0    Lerome Peckers  \n",
              "2          0.0        0.0           0.0     0.0     0.0   Sabih Unhearfus  \n",
              "3          0.0     6652.0           0.0   181.0   585.0  Meratz Caltilter  \n",
              "4         10.0        0.0         635.0     0.0     0.0   Brence Harperez  "
            ]
          },
          "execution_count": 10,
          "metadata": {},
          "output_type": "execute_result"
        }
      ],
      "source": [
        "test.head()"
      ]
    },
    {
      "cell_type": "markdown",
      "id": "7001da16",
      "metadata": {
        "papermill": {
          "duration": 0.078509,
          "end_time": "2022-04-07T06:59:12.147859",
          "exception": false,
          "start_time": "2022-04-07T06:59:12.069350",
          "status": "completed"
        },
        "tags": [],
        "id": "7001da16"
      },
      "source": [
        "- 행 : 4277개, 열 : 13개, 값 : 54484개, 결측값 : 1117개\n",
        "- FoodCourt가 결측값이 106개로 가장 많습니다.\n",
        "- PassengerId 를 제외하고 80개 이상 결측값을 가지고 있습니다."
      ]
    },
    {
      "cell_type": "code",
      "execution_count": null,
      "id": "a0a8cbd1",
      "metadata": {
        "execution": {
          "iopub.execute_input": "2022-04-07T06:59:12.316217Z",
          "iopub.status.busy": "2022-04-07T06:59:12.315566Z",
          "iopub.status.idle": "2022-04-07T06:59:12.324838Z",
          "shell.execute_reply": "2022-04-07T06:59:12.325455Z",
          "shell.execute_reply.started": "2022-04-07T06:55:55.639921Z"
        },
        "papermill": {
          "duration": 0.098705,
          "end_time": "2022-04-07T06:59:12.325631",
          "exception": false,
          "start_time": "2022-04-07T06:59:12.226926",
          "status": "completed"
        },
        "tags": [],
        "id": "a0a8cbd1",
        "outputId": "1959bdde-175a-4d24-9459-aef15fc8bb58"
      },
      "outputs": [
        {
          "name": "stdout",
          "output_type": "stream",
          "text": [
            "<class 'pandas.core.frame.DataFrame'>\n",
            "RangeIndex: 4277 entries, 0 to 4276\n",
            "Data columns (total 13 columns):\n",
            " #   Column        Non-Null Count  Dtype  \n",
            "---  ------        --------------  -----  \n",
            " 0   PassengerId   4277 non-null   object \n",
            " 1   HomePlanet    4190 non-null   object \n",
            " 2   CryoSleep     4184 non-null   object \n",
            " 3   Cabin         4177 non-null   object \n",
            " 4   Destination   4185 non-null   object \n",
            " 5   Age           4186 non-null   float64\n",
            " 6   VIP           4184 non-null   object \n",
            " 7   RoomService   4195 non-null   float64\n",
            " 8   FoodCourt     4171 non-null   float64\n",
            " 9   ShoppingMall  4179 non-null   float64\n",
            " 10  Spa           4176 non-null   float64\n",
            " 11  VRDeck        4197 non-null   float64\n",
            " 12  Name          4183 non-null   object \n",
            "dtypes: float64(6), object(7)\n",
            "memory usage: 434.5+ KB\n"
          ]
        }
      ],
      "source": [
        "test.info()"
      ]
    },
    {
      "cell_type": "code",
      "execution_count": null,
      "id": "08932737",
      "metadata": {
        "execution": {
          "iopub.execute_input": "2022-04-07T06:59:12.490691Z",
          "iopub.status.busy": "2022-04-07T06:59:12.489971Z",
          "iopub.status.idle": "2022-04-07T06:59:12.507117Z",
          "shell.execute_reply": "2022-04-07T06:59:12.507636Z",
          "shell.execute_reply.started": "2022-04-07T06:55:55.686966Z"
        },
        "papermill": {
          "duration": 0.10127,
          "end_time": "2022-04-07T06:59:12.507815",
          "exception": false,
          "start_time": "2022-04-07T06:59:12.406545",
          "status": "completed"
        },
        "tags": [],
        "id": "08932737",
        "outputId": "03584ad2-b89a-421a-bc4d-0a244113d863"
      },
      "outputs": [
        {
          "name": "stdout",
          "output_type": "stream",
          "text": [
            "Test Data total missing values : 1117\n",
            "\n",
            "Test Data missing vlues :\n",
            "FoodCourt       106\n",
            "Spa             101\n",
            "Cabin           100\n",
            "ShoppingMall     98\n",
            "Name             94\n",
            "CryoSleep        93\n",
            "VIP              93\n",
            "Destination      92\n",
            "Age              91\n",
            "HomePlanet       87\n",
            "RoomService      82\n",
            "VRDeck           80\n",
            "PassengerId       0\n",
            "dtype: int64\n"
          ]
        }
      ],
      "source": [
        "print('Test Data total missing values :', sum(test.isna().sum()))\n",
        "print('')\n",
        "print('Test Data missing vlues :')\n",
        "print(test.isna().sum().sort_values(ascending = False))\n"
      ]
    },
    {
      "cell_type": "markdown",
      "id": "9e315662",
      "metadata": {
        "_cell_guid": "d4213885-4020-4213-908b-1451d9e2674a",
        "_uuid": "71373e97-db26-4c8c-b59d-52f9767a9788",
        "papermill": {
          "duration": 0.079151,
          "end_time": "2022-04-07T06:59:12.666207",
          "exception": false,
          "start_time": "2022-04-07T06:59:12.587056",
          "status": "completed"
        },
        "tags": [],
        "id": "9e315662"
      },
      "source": [
        "# EDA"
      ]
    },
    {
      "cell_type": "markdown",
      "id": "5c59b03d",
      "metadata": {
        "papermill": {
          "duration": 0.079114,
          "end_time": "2022-04-07T06:59:12.824590",
          "exception": false,
          "start_time": "2022-04-07T06:59:12.745476",
          "status": "completed"
        },
        "tags": [],
        "id": "5c59b03d"
      },
      "source": [
        " ## Cardinality of features\n",
        " \n",
        " - Target Features : Transported\n",
        " - Continuous Features : Age, Roomservice, Foodcourt, ShoppingMall, Spa, VRDeck\n",
        " - Categorical Features : HomePlanet, CryoSleep, Destination, VIP\n",
        " - descriptive/qualitative features : PassengerId, Cabin, Name\n"
      ]
    },
    {
      "cell_type": "markdown",
      "id": "19f93271",
      "metadata": {
        "papermill": {
          "duration": 0.080081,
          "end_time": "2022-04-07T06:59:12.985115",
          "exception": false,
          "start_time": "2022-04-07T06:59:12.905034",
          "status": "completed"
        },
        "tags": [],
        "id": "19f93271"
      },
      "source": [
        "### Target Feature\n",
        "- Transported 값은 True : 50.4% , False : 49.6% 로 나타난다.(Train Data만 있음.)"
      ]
    },
    {
      "cell_type": "code",
      "execution_count": null,
      "id": "5c65f35b",
      "metadata": {
        "execution": {
          "iopub.execute_input": "2022-04-07T06:59:13.157784Z",
          "iopub.status.busy": "2022-04-07T06:59:13.156792Z",
          "iopub.status.idle": "2022-04-07T06:59:13.460535Z",
          "shell.execute_reply": "2022-04-07T06:59:13.461026Z",
          "shell.execute_reply.started": "2022-04-07T06:55:55.732566Z"
        },
        "papermill": {
          "duration": 0.395739,
          "end_time": "2022-04-07T06:59:13.461195",
          "exception": false,
          "start_time": "2022-04-07T06:59:13.065456",
          "status": "completed"
        },
        "tags": [],
        "id": "5c65f35b",
        "outputId": "49f5c9fe-af13-4c7d-82bd-9dd6619a398d"
      },
      "outputs": [
        {
          "data": {
            "image/png": "[encoded data removed]",
            "text/plain": [
              "<Figure size 1440x720 with 1 Axes>"
            ]
          },
          "metadata": {},
          "output_type": "display_data"
        }
      ],
      "source": [
        "# Transported 값의 True 와 False 값\n",
        "\n",
        "plt.subplots(figsize=(20, 10))\n",
        "plt.pie(train.Transported.value_counts(), shadow=True, explode=[.03,.03], autopct='%1.1f%%',\n",
        "        textprops={'fontsize': 20, 'color': 'white'})\n",
        "plt.title('Transported Distribution', size=20)\n",
        "plt.legend(['True', 'False'], loc='best', fontsize=12)\n",
        "plt.show()"
      ]
    },
    {
      "cell_type": "markdown",
      "id": "9ff402d6",
      "metadata": {
        "papermill": {
          "duration": 0.080869,
          "end_time": "2022-04-07T06:59:13.622728",
          "exception": false,
          "start_time": "2022-04-07T06:59:13.541859",
          "status": "completed"
        },
        "tags": [],
        "id": "9ff402d6"
      },
      "source": [
        "## Categorical Features\n",
        "- HomePlanet에서 Earth에서 False 값이 가장 많고, 다음으로 True 값이 많습니다.\n",
        "- Cryosleep에서 False에서 False 값이 가장 많고, 다음으로 True 에서 True 값이 많습니다.\n",
        "- Destination에서 TRAPPIST-1e 에서 False 값이 가장 많고, 다음으로 True 값이 많습니다.\n",
        "- VIP에서 False와 True 값이 상반되게 보여지고 있습니다. "
      ]
    },
    {
      "cell_type": "code",
      "execution_count": null,
      "id": "cb740530",
      "metadata": {
        "execution": {
          "iopub.execute_input": "2022-04-07T06:59:13.789960Z",
          "iopub.status.busy": "2022-04-07T06:59:13.789199Z",
          "iopub.status.idle": "2022-04-07T06:59:14.546290Z",
          "shell.execute_reply": "2022-04-07T06:59:14.545652Z",
          "shell.execute_reply.started": "2022-04-07T06:55:55.957581Z"
        },
        "papermill": {
          "duration": 0.842605,
          "end_time": "2022-04-07T06:59:14.546449",
          "exception": false,
          "start_time": "2022-04-07T06:59:13.703844",
          "status": "completed"
        },
        "tags": [],
        "id": "cb740530",
        "outputId": "139c6ff0-7f33-4fca-cf66-12ca3a492e88"
      },
      "outputs": [
        {
          "data": {
            "image/png": "[encoded data removed]",
            "text/plain": [
              "<Figure size 720x1440 with 4 Axes>"
            ]
          },
          "metadata": {
            "needs_background": "light"
          },
          "output_type": "display_data"
        }
      ],
      "source": [
        "# Categoricl features\n",
        "cat_feats=['HomePlanet', 'CryoSleep', 'Destination', 'VIP']\n",
        "\n",
        "# Plot categorical features\n",
        "fig=plt.figure(figsize=(10,20))\n",
        "for i, var_name in enumerate(cat_feats):\n",
        "    ax=fig.add_subplot(4,2,i+1)\n",
        "    sns.countplot(data=train, x=var_name, axes=ax, hue='Transported')\n",
        "    ax.set_title(var_name)\n",
        "fig.tight_layout()  # Improves appearance a bit\n",
        "plt.show()"
      ]
    },
    {
      "cell_type": "markdown",
      "id": "73b29627",
      "metadata": {
        "papermill": {
          "duration": 0.0824,
          "end_time": "2022-04-07T06:59:14.711472",
          "exception": false,
          "start_time": "2022-04-07T06:59:14.629072",
          "status": "completed"
        },
        "tags": [],
        "id": "73b29627"
      },
      "source": [
        "## Continuous features\n",
        "- Continuous features 중 'RoomService', 'FoodCourt', 'ShoppingMall', 'Spa', 'VRDeck'를 Expenditure features로 묶었습니다.\n",
        "- Expenditure features 값은 공통적으로 0 값이 많습니다.\n",
        "- Age는 20~40대 비율이 많습니다."
      ]
    },
    {
      "cell_type": "code",
      "execution_count": null,
      "id": "fb5bb642",
      "metadata": {
        "execution": {
          "iopub.execute_input": "2022-04-07T06:59:14.885520Z",
          "iopub.status.busy": "2022-04-07T06:59:14.884855Z",
          "iopub.status.idle": "2022-04-07T06:59:18.737068Z",
          "shell.execute_reply": "2022-04-07T06:59:18.737593Z",
          "shell.execute_reply.started": "2022-04-07T06:55:56.542003Z"
        },
        "papermill": {
          "duration": 3.941756,
          "end_time": "2022-04-07T06:59:18.737799",
          "exception": false,
          "start_time": "2022-04-07T06:59:14.796043",
          "status": "completed"
        },
        "tags": [],
        "id": "fb5bb642",
        "outputId": "9028e311-47b9-4969-9ecd-4ccf20c9789d"
      },
      "outputs": [
        {
          "data": {
            "image/png": "[encoded data removed]",
            "text/plain": [
              "<Figure size 720x1440 with 10 Axes>"
            ]
          },
          "metadata": {
            "needs_background": "light"
          },
          "output_type": "display_data"
        }
      ],
      "source": [
        "# Expenditure features\n",
        "exp_feats=['RoomService', 'FoodCourt', 'ShoppingMall', 'Spa', 'VRDeck']\n",
        "\n",
        "# Plot expenditure features\n",
        "fig=plt.figure(figsize=(10,20))\n",
        "for i, var_name in enumerate(exp_feats):\n",
        "    # Left plot\n",
        "    ax=fig.add_subplot(5,2,2*i+1)\n",
        "    sns.histplot(data=train, x=var_name, axes=ax, bins=30, kde=False, hue='Transported')\n",
        "    ax.set_title(var_name)\n",
        "    \n",
        "    # Right plot (truncated)\n",
        "    ax=fig.add_subplot(5,2,2*i+2)\n",
        "    sns.histplot(data=train, x=var_name, axes=ax, bins=30, kde=True, hue='Transported')\n",
        "    plt.ylim([0,100])\n",
        "    ax.set_title(var_name)\n",
        "fig.tight_layout()  # Improves appearance a bit\n",
        "plt.show()"
      ]
    },
    {
      "cell_type": "code",
      "execution_count": null,
      "id": "db68fe16",
      "metadata": {
        "execution": {
          "iopub.execute_input": "2022-04-07T06:59:18.918379Z",
          "iopub.status.busy": "2022-04-07T06:59:18.917453Z",
          "iopub.status.idle": "2022-04-07T06:59:19.319455Z",
          "shell.execute_reply": "2022-04-07T06:59:19.319968Z",
          "shell.execute_reply.started": "2022-04-07T06:55:59.628453Z"
        },
        "papermill": {
          "duration": 0.494457,
          "end_time": "2022-04-07T06:59:19.320176",
          "exception": false,
          "start_time": "2022-04-07T06:59:18.825719",
          "status": "completed"
        },
        "tags": [],
        "id": "db68fe16",
        "outputId": "d57de156-5054-4c0f-f4bf-25e57ed8fe37"
      },
      "outputs": [
        {
          "data": {
            "image/png": "[encoded data removed]",
            "text/plain": [
              "<Figure size 931.125x216 with 1 Axes>"
            ]
          },
          "metadata": {
            "needs_background": "light"
          },
          "output_type": "display_data"
        }
      ],
      "source": [
        "facet = sns.FacetGrid(train, hue=\"Transported\", aspect=4)\n",
        "facet.map(sns.kdeplot,'Age',shade=True)\n",
        "facet.set(xlim=(0, train['Age'].max()))\n",
        "facet.add_legend()\n",
        "\n",
        "plt.show()"
      ]
    },
    {
      "cell_type": "markdown",
      "id": "997f22a1",
      "metadata": {
        "papermill": {
          "duration": 0.090665,
          "end_time": "2022-04-07T06:59:19.522877",
          "exception": false,
          "start_time": "2022-04-07T06:59:19.432212",
          "status": "completed"
        },
        "tags": [],
        "id": "997f22a1"
      },
      "source": [
        "## Qualitative features\n",
        "- PassengerId는 그룹과 번호로 나누어서 분석할 필요가 있습니다.\n",
        "- Cabin은 갑판/번호/사이드로 나누어서 분석할 필요가 있습니다.\n",
        "- Name은 성이 같은 사람끼리 가족구성원으로 생각하여 가족구성원이 몇명인지 분석해봐야 합니다."
      ]
    },
    {
      "cell_type": "code",
      "execution_count": null,
      "id": "82602f77",
      "metadata": {
        "execution": {
          "iopub.execute_input": "2022-04-07T06:59:19.707991Z",
          "iopub.status.busy": "2022-04-07T06:59:19.707016Z",
          "iopub.status.idle": "2022-04-07T06:59:19.718895Z",
          "shell.execute_reply": "2022-04-07T06:59:19.719543Z",
          "shell.execute_reply.started": "2022-04-07T06:55:59.965065Z"
        },
        "papermill": {
          "duration": 0.106287,
          "end_time": "2022-04-07T06:59:19.719741",
          "exception": false,
          "start_time": "2022-04-07T06:59:19.613454",
          "status": "completed"
        },
        "tags": [],
        "id": "82602f77",
        "outputId": "fe41ba40-c604-40e1-b1d4-2720556bbd6a"
      },
      "outputs": [
        {
          "data": {
            "text/html": [
              "<div>\n",
              "<style scoped>\n",
              "    .dataframe tbody tr th:only-of-type {\n",
              "        vertical-align: middle;\n",
              "    }\n",
              "\n",
              "    .dataframe tbody tr th {\n",
              "        vertical-align: top;\n",
              "    }\n",
              "\n",
              "    .dataframe thead th {\n",
              "        text-align: right;\n",
              "    }\n",
              "</style>\n",
              "<table border=\"1\" class=\"dataframe\">\n",
              "  <thead>\n",
              "    <tr style=\"text-align: right;\">\n",
              "      <th></th>\n",
              "      <th>PassengerId</th>\n",
              "      <th>Cabin</th>\n",
              "      <th>Name</th>\n",
              "    </tr>\n",
              "  </thead>\n",
              "  <tbody>\n",
              "    <tr>\n",
              "      <th>0</th>\n",
              "      <td>0001_01</td>\n",
              "      <td>B/0/P</td>\n",
              "      <td>Maham Ofracculy</td>\n",
              "    </tr>\n",
              "    <tr>\n",
              "      <th>1</th>\n",
              "      <td>0002_01</td>\n",
              "      <td>F/0/S</td>\n",
              "      <td>Juanna Vines</td>\n",
              "    </tr>\n",
              "    <tr>\n",
              "      <th>2</th>\n",
              "      <td>0003_01</td>\n",
              "      <td>A/0/S</td>\n",
              "      <td>Altark Susent</td>\n",
              "    </tr>\n",
              "    <tr>\n",
              "      <th>3</th>\n",
              "      <td>0003_02</td>\n",
              "      <td>A/0/S</td>\n",
              "      <td>Solam Susent</td>\n",
              "    </tr>\n",
              "    <tr>\n",
              "      <th>4</th>\n",
              "      <td>0004_01</td>\n",
              "      <td>F/1/S</td>\n",
              "      <td>Willy Santantines</td>\n",
              "    </tr>\n",
              "  </tbody>\n",
              "</table>\n",
              "</div>"
            ],
            "text/plain": [
              "  PassengerId  Cabin               Name\n",
              "0     0001_01  B/0/P    Maham Ofracculy\n",
              "1     0002_01  F/0/S       Juanna Vines\n",
              "2     0003_01  A/0/S      Altark Susent\n",
              "3     0003_02  A/0/S       Solam Susent\n",
              "4     0004_01  F/1/S  Willy Santantines"
            ]
          },
          "execution_count": 17,
          "metadata": {},
          "output_type": "execute_result"
        }
      ],
      "source": [
        "# Qualitative features\n",
        "qual_feats=['PassengerId', 'Cabin' ,'Name']\n",
        "\n",
        "# Preview qualitative features\n",
        "train[qual_feats].head()"
      ]
    },
    {
      "cell_type": "markdown",
      "id": "2fe991a5",
      "metadata": {
        "papermill": {
          "duration": 0.097034,
          "end_time": "2022-04-07T06:59:19.907822",
          "exception": false,
          "start_time": "2022-04-07T06:59:19.810788",
          "status": "completed"
        },
        "tags": [],
        "id": "2fe991a5"
      },
      "source": [
        "# Data Preprocessing \n",
        "- Feature Engineering\n",
        "- ML 모형을 돌리기 위해 표준화 등 / 원핫-인코딩\n",
        "- 파생변수 (도출 변수)\n",
        "    + 왜 이 변수를 만들었는지에 대한 설명 필요"
      ]
    },
    {
      "cell_type": "markdown",
      "id": "d8bcfdf7",
      "metadata": {
        "papermill": {
          "duration": 0.091527,
          "end_time": "2022-04-07T06:59:20.090999",
          "exception": false,
          "start_time": "2022-04-07T06:59:19.999472",
          "status": "completed"
        },
        "tags": [],
        "id": "d8bcfdf7"
      },
      "source": [
        "## Missing Values \n",
        "- Continuous features 는 중간값을 이용. age는 3 그룹정도로 나누고, 시설이용료는 다른 그룹화를 하는 것이 좋습니다.\n",
        "- Categorical features는 빈번한 쪽으로 처리하는게 좋을 것 같습니다.\n",
        "- PassengerId를 통해 그룹별로 나누고 번호를 통해 혼자인지, 아닌지를 판별하기 좋습니다.\n",
        "- Cabin을 통해 Deck/Number/Side 별로 나눠서 그룹화 하여 판별하기 좋습니다.\n"
      ]
    },
    {
      "cell_type": "markdown",
      "id": "239d50e4",
      "metadata": {
        "papermill": {
          "duration": 0.089798,
          "end_time": "2022-04-07T06:59:20.270285",
          "exception": false,
          "start_time": "2022-04-07T06:59:20.180487",
          "status": "completed"
        },
        "tags": [],
        "id": "239d50e4"
      },
      "source": [
        "### Continuous data\n",
        "- describe() 를 이용하면 count, mean, std, min, 25%, 50%, 75%, max 값인 기본통계량을 알 수 있습니다."
      ]
    },
    {
      "cell_type": "code",
      "execution_count": null,
      "id": "5a44ed37",
      "metadata": {
        "execution": {
          "iopub.execute_input": "2022-04-07T06:59:20.461012Z",
          "iopub.status.busy": "2022-04-07T06:59:20.460047Z",
          "iopub.status.idle": "2022-04-07T06:59:20.500003Z",
          "shell.execute_reply": "2022-04-07T06:59:20.500559Z",
          "shell.execute_reply.started": "2022-04-07T06:55:59.976395Z"
        },
        "papermill": {
          "duration": 0.141112,
          "end_time": "2022-04-07T06:59:20.500794",
          "exception": false,
          "start_time": "2022-04-07T06:59:20.359682",
          "status": "completed"
        },
        "tags": [],
        "id": "5a44ed37",
        "outputId": "4cf29d69-ce1e-498a-b45c-b7711dfdbc11"
      },
      "outputs": [
        {
          "name": "stdout",
          "output_type": "stream",
          "text": [
            "               Age   RoomService     FoodCourt  ShoppingMall           Spa  \\\n",
            "count  8514.000000   8512.000000   8510.000000   8485.000000   8510.000000   \n",
            "mean     28.827930    224.687617    458.077203    173.729169    311.138778   \n",
            "std      14.489021    666.717663   1611.489240    604.696458   1136.705535   \n",
            "min       0.000000      0.000000      0.000000      0.000000      0.000000   \n",
            "25%      19.000000      0.000000      0.000000      0.000000      0.000000   \n",
            "50%      27.000000      0.000000      0.000000      0.000000      0.000000   \n",
            "75%      38.000000     47.000000     76.000000     27.000000     59.000000   \n",
            "max      79.000000  14327.000000  29813.000000  23492.000000  22408.000000   \n",
            "\n",
            "             VRDeck  \n",
            "count   8505.000000  \n",
            "mean     304.854791  \n",
            "std     1145.717189  \n",
            "min        0.000000  \n",
            "25%        0.000000  \n",
            "50%        0.000000  \n",
            "75%       46.000000  \n",
            "max    24133.000000  \n",
            "               Age   RoomService     FoodCourt  ShoppingMall           Spa  \\\n",
            "count  4186.000000   4195.000000   4171.000000   4179.000000   4176.000000   \n",
            "mean     28.658146    219.266269    439.484296    177.295525    303.052443   \n",
            "std      14.179072    607.011289   1527.663045    560.821123   1117.186015   \n",
            "min       0.000000      0.000000      0.000000      0.000000      0.000000   \n",
            "25%      19.000000      0.000000      0.000000      0.000000      0.000000   \n",
            "50%      26.000000      0.000000      0.000000      0.000000      0.000000   \n",
            "75%      37.000000     53.000000     78.000000     33.000000     50.000000   \n",
            "max      79.000000  11567.000000  25273.000000   8292.000000  19844.000000   \n",
            "\n",
            "             VRDeck  \n",
            "count   4197.000000  \n",
            "mean     310.710031  \n",
            "std     1246.994742  \n",
            "min        0.000000  \n",
            "25%        0.000000  \n",
            "50%        0.000000  \n",
            "75%       36.000000  \n",
            "max    22272.000000  \n"
          ]
        }
      ],
      "source": [
        "print(train.describe())\n",
        "print(test.describe())"
      ]
    },
    {
      "cell_type": "code",
      "execution_count": null,
      "id": "b801b4f1",
      "metadata": {
        "execution": {
          "iopub.execute_input": "2022-04-07T06:59:20.695329Z",
          "iopub.status.busy": "2022-04-07T06:59:20.694293Z",
          "iopub.status.idle": "2022-04-07T06:59:20.703646Z",
          "shell.execute_reply": "2022-04-07T06:59:20.702962Z",
          "shell.execute_reply.started": "2022-04-07T06:56:00.039962Z"
        },
        "papermill": {
          "duration": 0.111452,
          "end_time": "2022-04-07T06:59:20.703808",
          "exception": false,
          "start_time": "2022-04-07T06:59:20.592356",
          "status": "completed"
        },
        "tags": [],
        "id": "b801b4f1"
      },
      "outputs": [],
      "source": [
        "# Impute median (for continuous data)\n",
        "train[\"Age\"].fillna(train[\"Age\"].median(), inplace=True)\n",
        "test[\"Age\"].fillna(train[\"Age\"].median(), inplace=True) \n",
        "train[\"FoodCourt\"].fillna(train[\"FoodCourt\"].median(), inplace=True)\n",
        "test[\"FoodCourt\"].fillna(train[\"FoodCourt\"].median(), inplace=True) \n",
        "train[\"ShoppingMall\"].fillna(train[\"ShoppingMall\"].median(), inplace=True)\n",
        "test[\"ShoppingMall\"].fillna(train[\"ShoppingMall\"].median(), inplace=True) \n",
        "train[\"Spa\"].fillna(train[\"Spa\"].median(), inplace=True)\n",
        "test[\"Spa\"].fillna(train[\"Spa\"].median(), inplace=True) \n",
        "train[\"VRDeck\"].fillna(train[\"VRDeck\"].median(), inplace=True)\n",
        "test[\"VRDeck\"].fillna(train[\"VRDeck\"].median(), inplace=True) \n",
        "train[\"RoomService\"].fillna(train[\"RoomService\"].median(), inplace=True)\n",
        "test[\"RoomService\"].fillna(train[\"RoomService\"].median(), inplace=True) \n"
      ]
    },
    {
      "cell_type": "markdown",
      "id": "9d4d8a7f",
      "metadata": {
        "papermill": {
          "duration": 0.089748,
          "end_time": "2022-04-07T06:59:20.883188",
          "exception": false,
          "start_time": "2022-04-07T06:59:20.793440",
          "status": "completed"
        },
        "tags": [],
        "id": "9d4d8a7f"
      },
      "source": [
        "### Categorical data\n",
        "- mode() 를 이용하면 빈도가 많은 값을 알 수 있습니다.\n",
        "- 'HomePlanet','CryoSleep','Destination','VIP' 는 가장 빈번한값으로 처리하였습니다."
      ]
    },
    {
      "cell_type": "code",
      "execution_count": null,
      "id": "3d61ae7d",
      "metadata": {
        "execution": {
          "iopub.execute_input": "2022-04-07T06:59:21.070133Z",
          "iopub.status.busy": "2022-04-07T06:59:21.069472Z",
          "iopub.status.idle": "2022-04-07T06:59:21.086724Z",
          "shell.execute_reply": "2022-04-07T06:59:21.087317Z",
          "shell.execute_reply.started": "2022-04-07T06:56:00.061393Z"
        },
        "papermill": {
          "duration": 0.112176,
          "end_time": "2022-04-07T06:59:21.087510",
          "exception": false,
          "start_time": "2022-04-07T06:59:20.975334",
          "status": "completed"
        },
        "tags": [],
        "id": "3d61ae7d",
        "outputId": "5091faec-9ab5-460a-e243-1ef501d33bd5"
      },
      "outputs": [
        {
          "data": {
            "text/html": [
              "<div>\n",
              "<style scoped>\n",
              "    .dataframe tbody tr th:only-of-type {\n",
              "        vertical-align: middle;\n",
              "    }\n",
              "\n",
              "    .dataframe tbody tr th {\n",
              "        vertical-align: top;\n",
              "    }\n",
              "\n",
              "    .dataframe thead th {\n",
              "        text-align: right;\n",
              "    }\n",
              "</style>\n",
              "<table border=\"1\" class=\"dataframe\">\n",
              "  <thead>\n",
              "    <tr style=\"text-align: right;\">\n",
              "      <th></th>\n",
              "      <th>HomePlanet</th>\n",
              "      <th>CryoSleep</th>\n",
              "      <th>Destination</th>\n",
              "      <th>VIP</th>\n",
              "    </tr>\n",
              "  </thead>\n",
              "  <tbody>\n",
              "    <tr>\n",
              "      <th>0</th>\n",
              "      <td>Earth</td>\n",
              "      <td>False</td>\n",
              "      <td>TRAPPIST-1e</td>\n",
              "      <td>False</td>\n",
              "    </tr>\n",
              "  </tbody>\n",
              "</table>\n",
              "</div>"
            ],
            "text/plain": [
              "  HomePlanet CryoSleep  Destination    VIP\n",
              "0      Earth     False  TRAPPIST-1e  False"
            ]
          },
          "execution_count": 20,
          "metadata": {},
          "output_type": "execute_result"
        }
      ],
      "source": [
        "# mode()를 사용하여 빈번한 값을 찾았다.\n",
        "train[['HomePlanet','CryoSleep','Destination','VIP']].mode()"
      ]
    },
    {
      "cell_type": "code",
      "execution_count": null,
      "id": "259f443f",
      "metadata": {
        "execution": {
          "iopub.execute_input": "2022-04-07T06:59:21.270402Z",
          "iopub.status.busy": "2022-04-07T06:59:21.269717Z",
          "iopub.status.idle": "2022-04-07T06:59:21.291598Z",
          "shell.execute_reply": "2022-04-07T06:59:21.292353Z",
          "shell.execute_reply.started": "2022-04-07T06:56:00.091383Z"
        },
        "papermill": {
          "duration": 0.11547,
          "end_time": "2022-04-07T06:59:21.292583",
          "exception": false,
          "start_time": "2022-04-07T06:59:21.177113",
          "status": "completed"
        },
        "tags": [],
        "id": "259f443f"
      },
      "outputs": [],
      "source": [
        "# 빈번한 값으로 대체\n",
        "train['HomePlanet'].fillna('Earth', inplace=True)\n",
        "test['HomePlanet'].fillna('Earth', inplace=True)\n",
        "\n",
        "train['CryoSleep'].fillna(False, inplace=True)\n",
        "test['CryoSleep'].fillna(False, inplace=True)\n",
        "\n",
        "train['Destination'].fillna('TRAPPIST-1e', inplace=True)\n",
        "test['Destination'].fillna('TRAPPIST-1e', inplace=True)\n",
        "\n",
        "train['VIP'].fillna(False, inplace=True)\n",
        "test['VIP'].fillna(False, inplace=True)\n"
      ]
    },
    {
      "cell_type": "markdown",
      "id": "730dfc80",
      "metadata": {
        "papermill": {
          "duration": 0.089785,
          "end_time": "2022-04-07T06:59:21.472706",
          "exception": false,
          "start_time": "2022-04-07T06:59:21.382921",
          "status": "completed"
        },
        "tags": [],
        "id": "730dfc80"
      },
      "source": [
        "### Qualitative data\n",
        "- Qualitative data는 새로운 값으로 지정하였습니다."
      ]
    },
    {
      "cell_type": "code",
      "execution_count": null,
      "id": "eec2fa60",
      "metadata": {
        "execution": {
          "iopub.execute_input": "2022-04-07T06:59:21.659198Z",
          "iopub.status.busy": "2022-04-07T06:59:21.658213Z",
          "iopub.status.idle": "2022-04-07T06:59:21.668436Z",
          "shell.execute_reply": "2022-04-07T06:59:21.669094Z",
          "shell.execute_reply.started": "2022-04-07T06:56:00.113880Z"
        },
        "papermill": {
          "duration": 0.104565,
          "end_time": "2022-04-07T06:59:21.669288",
          "exception": false,
          "start_time": "2022-04-07T06:59:21.564723",
          "status": "completed"
        },
        "tags": [],
        "id": "eec2fa60"
      },
      "outputs": [],
      "source": [
        "# Impute outliers (for qualitative data)\n",
        "train['Cabin'].fillna('Z/9999/Z', inplace=True)\n",
        "test['Cabin'].fillna('Z/9999/Z', inplace=True)\n",
        "\n",
        "train['Name'].fillna('No Name', inplace=True)\n",
        "test['Name'].fillna('No Name', inplace=True)"
      ]
    },
    {
      "cell_type": "code",
      "execution_count": null,
      "id": "281ab14a",
      "metadata": {
        "execution": {
          "iopub.execute_input": "2022-04-07T06:59:21.854077Z",
          "iopub.status.busy": "2022-04-07T06:59:21.853075Z",
          "iopub.status.idle": "2022-04-07T06:59:21.873005Z",
          "shell.execute_reply": "2022-04-07T06:59:21.873522Z",
          "shell.execute_reply.started": "2022-04-07T06:56:00.127446Z"
        },
        "papermill": {
          "duration": 0.113228,
          "end_time": "2022-04-07T06:59:21.873719",
          "exception": false,
          "start_time": "2022-04-07T06:59:21.760491",
          "status": "completed"
        },
        "tags": [],
        "id": "281ab14a",
        "outputId": "1e7899cd-97d0-432b-8f1b-2ad4f18109da"
      },
      "outputs": [
        {
          "name": "stdout",
          "output_type": "stream",
          "text": [
            "Train Data values:\n",
            "PassengerId     0\n",
            "HomePlanet      0\n",
            "CryoSleep       0\n",
            "Cabin           0\n",
            "Destination     0\n",
            "Age             0\n",
            "VIP             0\n",
            "RoomService     0\n",
            "FoodCourt       0\n",
            "ShoppingMall    0\n",
            "Spa             0\n",
            "VRDeck          0\n",
            "Name            0\n",
            "Transported     0\n",
            "dtype: int64\n",
            "\n",
            "Test Data values:\n",
            "PassengerId     0\n",
            "HomePlanet      0\n",
            "CryoSleep       0\n",
            "Cabin           0\n",
            "Destination     0\n",
            "Age             0\n",
            "VIP             0\n",
            "RoomService     0\n",
            "FoodCourt       0\n",
            "ShoppingMall    0\n",
            "Spa             0\n",
            "VRDeck          0\n",
            "Name            0\n",
            "dtype: int64\n"
          ]
        }
      ],
      "source": [
        "print('Train Data values:')\n",
        "print(train.isna().sum().sort_values(ascending = False))\n",
        "print(\"\")\n",
        "print('Test Data values:')\n",
        "print(test.isna().sum().sort_values(ascending = False))"
      ]
    },
    {
      "cell_type": "markdown",
      "id": "a9308a6a",
      "metadata": {
        "papermill": {
          "duration": 0.09064,
          "end_time": "2022-04-07T06:59:22.056352",
          "exception": false,
          "start_time": "2022-04-07T06:59:21.965712",
          "status": "completed"
        },
        "tags": [],
        "id": "a9308a6a"
      },
      "source": [
        "## Feature Engineering"
      ]
    },
    {
      "cell_type": "markdown",
      "id": "1533c644",
      "metadata": {
        "papermill": {
          "duration": 0.089316,
          "end_time": "2022-04-07T06:59:22.236285",
          "exception": false,
          "start_time": "2022-04-07T06:59:22.146969",
          "status": "completed"
        },
        "tags": [],
        "id": "1533c644"
      },
      "source": [
        "### Age Status\n",
        "- 0 ~ 20세, 20 ~ 40세, 41세 이상 으로 그룹화 하였습니다."
      ]
    },
    {
      "cell_type": "code",
      "execution_count": null,
      "id": "7684acd0",
      "metadata": {
        "execution": {
          "iopub.execute_input": "2022-04-07T06:59:22.457568Z",
          "iopub.status.busy": "2022-04-07T06:59:22.456517Z",
          "iopub.status.idle": "2022-04-07T06:59:22.695798Z",
          "shell.execute_reply": "2022-04-07T06:59:22.695163Z",
          "shell.execute_reply.started": "2022-04-07T06:56:00.162076Z"
        },
        "papermill": {
          "duration": 0.362445,
          "end_time": "2022-04-07T06:59:22.695948",
          "exception": false,
          "start_time": "2022-04-07T06:59:22.333503",
          "status": "completed"
        },
        "tags": [],
        "id": "7684acd0",
        "outputId": "e028ee0d-3b5e-4ddd-9a94-7832d4990401"
      },
      "outputs": [
        {
          "data": {
            "image/png": "[encoded data removed]",
            "text/plain": [
              "<Figure size 720x360 with 1 Axes>"
            ]
          },
          "metadata": {
            "needs_background": "light"
          },
          "output_type": "display_data"
        }
      ],
      "source": [
        "# New features - training set\n",
        "train['teenager']=(train['Age']<20).astype(int)\n",
        "train['20_to_40']=((train['Age']>=20) & (train['Age']<=40)).astype(int)\n",
        "train['senior']=(train['Age']>40).astype(int)\n",
        "\n",
        "# New features - test set\n",
        "test['teenager']=(test['Age']<20).astype(int)\n",
        "test['20_to_40']=((test['Age']>=20) & (test['Age']<=40)).astype(int)\n",
        "test['senior']=(test['Age']>40).astype(int)\n",
        "\n",
        "# Plot distribution of new features\n",
        "train['Age_plot']=train['teenager']+2*train['20_to_40']+3*train['senior']\n",
        "plt.figure(figsize=(10,5))\n",
        "g=sns.countplot(data=train, x='Age_plot', hue='Transported')\n",
        "plt.title('Age status distribution')\n",
        "g.set_xticklabels(['teenager', '20_to_40', 'senior'])\n",
        "train.drop('Age_plot', axis=1, inplace=True)"
      ]
    },
    {
      "cell_type": "markdown",
      "id": "f4734364",
      "metadata": {
        "papermill": {
          "duration": 0.091037,
          "end_time": "2022-04-07T06:59:22.879400",
          "exception": false,
          "start_time": "2022-04-07T06:59:22.788363",
          "status": "completed"
        },
        "tags": [],
        "id": "f4734364"
      },
      "source": [
        "### Expenditure Status\n",
        "- Expenditure Features 갑을 다 더하여서 0과 1로 그룹화를 하였습니다.\n"
      ]
    },
    {
      "cell_type": "code",
      "execution_count": null,
      "id": "ccd8303d",
      "metadata": {
        "execution": {
          "iopub.execute_input": "2022-04-07T06:59:23.068410Z",
          "iopub.status.busy": "2022-04-07T06:59:23.067719Z",
          "iopub.status.idle": "2022-04-07T06:59:24.580479Z",
          "shell.execute_reply": "2022-04-07T06:59:24.579657Z",
          "shell.execute_reply.started": "2022-04-07T06:56:00.396217Z"
        },
        "papermill": {
          "duration": 1.608918,
          "end_time": "2022-04-07T06:59:24.580645",
          "exception": false,
          "start_time": "2022-04-07T06:59:22.971727",
          "status": "completed"
        },
        "tags": [],
        "id": "ccd8303d",
        "outputId": "0fd560f2-7d4c-4af2-b1f2-d395d2d205a3"
      },
      "outputs": [
        {
          "data": {
            "text/plain": [
              "Text(0.5, 1.0, 'No spending indicator')"
            ]
          },
          "execution_count": 25,
          "metadata": {},
          "output_type": "execute_result"
        },
        {
          "data": {
            "image/png": "[encoded data removed]",
            "text/plain": [
              "<Figure size 864x288 with 2 Axes>"
            ]
          },
          "metadata": {
            "needs_background": "light"
          },
          "output_type": "display_data"
        }
      ],
      "source": [
        "# New features - training set\n",
        "train['Expenditure']=train[exp_feats].sum(axis=1)\n",
        "train['No_spending']=(train['Expenditure']==0).astype(int)\n",
        "\n",
        "# New features - test set\n",
        "test['Expenditure']=test[exp_feats].sum(axis=1)\n",
        "test['No_spending']=(test['Expenditure']==0).astype(int)\n",
        "\n",
        "# Plot distribution of new features\n",
        "plt.figure(figsize=(12,4))\n",
        "plt.subplot(1,2,1)\n",
        "sns.histplot(data=train, x='Expenditure', hue='Transported', bins=200)\n",
        "plt.title('Total expenditure (truncated)')\n",
        "plt.ylim([0,200])\n",
        "plt.xlim([0,20000])\n",
        "\n",
        "plt.subplot(1,2,2)\n",
        "sns.countplot(data=train, x='No_spending', hue='Transported')\n",
        "plt.title('No spending indicator')"
      ]
    },
    {
      "cell_type": "markdown",
      "id": "dfb46381",
      "metadata": {
        "papermill": {
          "duration": 0.094449,
          "end_time": "2022-04-07T06:59:24.769067",
          "exception": false,
          "start_time": "2022-04-07T06:59:24.674618",
          "status": "completed"
        },
        "tags": [],
        "id": "dfb46381"
      },
      "source": [
        "### Passenger group\n",
        "    - PassengerId에서 승객 그룹 및 그룹 크기를 추출하였습니다."
      ]
    },
    {
      "cell_type": "code",
      "execution_count": null,
      "id": "4e33565c",
      "metadata": {
        "execution": {
          "iopub.execute_input": "2022-04-07T06:59:24.964712Z",
          "iopub.status.busy": "2022-04-07T06:59:24.964049Z",
          "iopub.status.idle": "2022-04-07T07:00:32.507088Z",
          "shell.execute_reply": "2022-04-07T07:00:32.507660Z",
          "shell.execute_reply.started": "2022-04-07T06:56:01.982326Z"
        },
        "papermill": {
          "duration": 67.645698,
          "end_time": "2022-04-07T07:00:32.507861",
          "exception": false,
          "start_time": "2022-04-07T06:59:24.862163",
          "status": "completed"
        },
        "tags": [],
        "id": "4e33565c",
        "outputId": "c25e2724-c0ac-4a07-b875-5e8b4a5b3839"
      },
      "outputs": [
        {
          "data": {
            "image/png": "[encoded data removed]",
            "text/plain": [
              "<Figure size 1440x288 with 2 Axes>"
            ]
          },
          "metadata": {
            "needs_background": "light"
          },
          "output_type": "display_data"
        }
      ],
      "source": [
        "# New features - training set\n",
        "train['Group'] = train['PassengerId'].apply(lambda x: x.split('_')[0]).astype(int)\n",
        "train['Group_size']=train['Group'].map(lambda x: train['Group'].value_counts()[x])\n",
        "\n",
        "# New features - test set\n",
        "test['Group'] = test['PassengerId'].apply(lambda x: x.split('_')[0]).astype(int)\n",
        "test['Group_size']=test['Group'].map(lambda x: test['Group'].value_counts()[x])\n",
        "\n",
        "# Plot distribution of new features\n",
        "plt.figure(figsize=(20,4))\n",
        "plt.subplot(1,2,1)\n",
        "sns.histplot(data=train, x='Group', hue='Transported', binwidth=1)\n",
        "plt.title('Group')\n",
        "\n",
        "plt.subplot(1,2,2)\n",
        "sns.countplot(data=train, x='Group_size', hue='Transported')\n",
        "plt.title('Group size')\n",
        "fig.tight_layout()"
      ]
    },
    {
      "cell_type": "markdown",
      "id": "c9c6d73f",
      "metadata": {
        "papermill": {
          "duration": 0.096443,
          "end_time": "2022-04-07T07:00:32.700068",
          "exception": false,
          "start_time": "2022-04-07T07:00:32.603625",
          "status": "completed"
        },
        "tags": [],
        "id": "c9c6d73f"
      },
      "source": [
        "- 그룹 사이즈를 통해 혼자인 사람과 아닌사람을 나눴습니다."
      ]
    },
    {
      "cell_type": "code",
      "execution_count": null,
      "id": "487f24ce",
      "metadata": {
        "execution": {
          "iopub.execute_input": "2022-04-07T07:00:32.897775Z",
          "iopub.status.busy": "2022-04-07T07:00:32.897099Z",
          "iopub.status.idle": "2022-04-07T07:00:33.120046Z",
          "shell.execute_reply": "2022-04-07T07:00:33.120692Z",
          "shell.execute_reply.started": "2022-04-07T06:57:10.701705Z"
        },
        "papermill": {
          "duration": 0.321689,
          "end_time": "2022-04-07T07:00:33.120901",
          "exception": false,
          "start_time": "2022-04-07T07:00:32.799212",
          "status": "completed"
        },
        "tags": [],
        "id": "487f24ce",
        "outputId": "288d013f-dfba-4b37-98aa-e393cc1846c7"
      },
      "outputs": [
        {
          "data": {
            "text/plain": [
              "(0.0, 3000.0)"
            ]
          },
          "execution_count": 27,
          "metadata": {},
          "output_type": "execute_result"
        },
        {
          "data": {
            "image/png": "[encoded data removed]",
            "text/plain": [
              "<Figure size 720x288 with 1 Axes>"
            ]
          },
          "metadata": {
            "needs_background": "light"
          },
          "output_type": "display_data"
        }
      ],
      "source": [
        "# New feature\n",
        "train['Solo']=(train['Group_size']==1).astype(int)\n",
        "test['Solo']=(test['Group_size']==1).astype(int)\n",
        "\n",
        "# New feature distribution\n",
        "plt.figure(figsize=(10,4))\n",
        "sns.countplot(data=train, x='Solo', hue='Transported')\n",
        "plt.title('Passenger travelling solo or not')\n",
        "plt.ylim([0,3000])"
      ]
    },
    {
      "cell_type": "markdown",
      "id": "a99db870",
      "metadata": {
        "papermill": {
          "duration": 0.095579,
          "end_time": "2022-04-07T07:00:33.312588",
          "exception": false,
          "start_time": "2022-04-07T07:00:33.217009",
          "status": "completed"
        },
        "tags": [],
        "id": "a99db870"
      },
      "source": [
        "### Cabin location\n",
        "- Cabin을 갑판/ 번호 / 사이드 값으로 나눴습니다.\n",
        "- 번호 값을 300으로 나눠 다시 그룹화 하였습니다."
      ]
    },
    {
      "cell_type": "code",
      "execution_count": null,
      "id": "d384face",
      "metadata": {
        "execution": {
          "iopub.execute_input": "2022-04-07T07:00:33.513856Z",
          "iopub.status.busy": "2022-04-07T07:00:33.513154Z",
          "iopub.status.idle": "2022-04-07T07:00:37.163520Z",
          "shell.execute_reply": "2022-04-07T07:00:37.162863Z",
          "shell.execute_reply.started": "2022-04-07T06:57:10.885647Z"
        },
        "papermill": {
          "duration": 3.754669,
          "end_time": "2022-04-07T07:00:37.163690",
          "exception": false,
          "start_time": "2022-04-07T07:00:33.409021",
          "status": "completed"
        },
        "tags": [],
        "id": "d384face",
        "outputId": "8c28a73a-eced-470f-f5b8-55e030d6d4eb"
      },
      "outputs": [
        {
          "data": {
            "image/png": "[encoded data removed]",
            "text/plain": [
              "<Figure size 720x864 with 3 Axes>"
            ]
          },
          "metadata": {
            "needs_background": "light"
          },
          "output_type": "display_data"
        }
      ],
      "source": [
        "# New features - training set\n",
        "train['Cabin_deck'] = train['Cabin'].apply(lambda x: x.split('/')[0])\n",
        "train['Cabin_number'] = train['Cabin'].apply(lambda x: x.split('/')[1]).astype(int)\n",
        "train['Cabin_side'] = train['Cabin'].apply(lambda x: x.split('/')[2])\n",
        "\n",
        "# New features - test set\n",
        "test['Cabin_deck'] = test['Cabin'].apply(lambda x: x.split('/')[0])\n",
        "test['Cabin_number'] = test['Cabin'].apply(lambda x: x.split('/')[1]).astype(int)\n",
        "test['Cabin_side'] = test['Cabin'].apply(lambda x: x.split('/')[2])\n",
        "\n",
        "# Plot distribution of new features\n",
        "fig=plt.figure(figsize=(10,12))\n",
        "plt.subplot(3,1,1)\n",
        "sns.countplot(data=train, x='Cabin_deck', hue='Transported', order=['A','B','C','D','E','F','G','T','Z'])\n",
        "plt.title('Cabin deck')\n",
        "\n",
        "plt.subplot(3,1,2)\n",
        "sns.histplot(data=train, x='Cabin_number', hue='Transported',binwidth=20)\n",
        "plt.title('Cabin number')\n",
        "plt.xlim([0,2000])\n",
        "\n",
        "plt.subplot(3,1,3)\n",
        "sns.countplot(data=train, x='Cabin_side', hue='Transported')\n",
        "plt.title('Cabin side')\n",
        "fig.tight_layout()"
      ]
    },
    {
      "cell_type": "code",
      "execution_count": null,
      "id": "c80c6441",
      "metadata": {
        "execution": {
          "iopub.execute_input": "2022-04-07T07:00:37.368877Z",
          "iopub.status.busy": "2022-04-07T07:00:37.368187Z",
          "iopub.status.idle": "2022-04-07T07:00:37.668777Z",
          "shell.execute_reply": "2022-04-07T07:00:37.668040Z",
          "shell.execute_reply.started": "2022-04-07T06:57:13.824947Z"
        },
        "papermill": {
          "duration": 0.406768,
          "end_time": "2022-04-07T07:00:37.668950",
          "exception": false,
          "start_time": "2022-04-07T07:00:37.262182",
          "status": "completed"
        },
        "tags": [],
        "id": "c80c6441",
        "outputId": "5d2c1830-d7f5-43a9-e93a-908bb499e46a"
      },
      "outputs": [
        {
          "data": {
            "image/png": "[encoded data removed]",
            "text/plain": [
              "<Figure size 720x288 with 1 Axes>"
            ]
          },
          "metadata": {
            "needs_background": "light"
          },
          "output_type": "display_data"
        }
      ],
      "source": [
        "# New features - training set\n",
        "train['Cabin_region1']=(train['Cabin_number']<300).astype(int)   # one-hot encoding\n",
        "train['Cabin_region2']=((train['Cabin_number']>=300) & (train['Cabin_number']<600)).astype(int)\n",
        "train['Cabin_region3']=((train['Cabin_number']>=600) & (train['Cabin_number']<900)).astype(int)\n",
        "train['Cabin_region4']=((train['Cabin_number']>=900) & (train['Cabin_number']<1200)).astype(int)\n",
        "train['Cabin_region5']=((train['Cabin_number']>=1200) & (train['Cabin_number']<1500)).astype(int)\n",
        "train['Cabin_region6']=((train['Cabin_number']>=1500) & (train['Cabin_number']<1800)).astype(int)\n",
        "train['Cabin_region7']=(train['Cabin_number']>=1800).astype(int)\n",
        "\n",
        "# New features - test set\n",
        "test['Cabin_region1']=(test['Cabin_number']<300).astype(int)   # one-hot encoding\n",
        "test['Cabin_region2']=((test['Cabin_number']>=300) & (test['Cabin_number']<600)).astype(int)\n",
        "test['Cabin_region3']=((test['Cabin_number']>=600) & (test['Cabin_number']<900)).astype(int)\n",
        "test['Cabin_region4']=((test['Cabin_number']>=900) & (test['Cabin_number']<1200)).astype(int)\n",
        "test['Cabin_region5']=((test['Cabin_number']>=1200) & (test['Cabin_number']<1500)).astype(int)\n",
        "test['Cabin_region6']=((test['Cabin_number']>=1500) & (test['Cabin_number']<1800)).astype(int)\n",
        "test['Cabin_region7']=(test['Cabin_number']>=1800).astype(int)\n",
        "\n",
        "# Plot distribution of new features\n",
        "plt.figure(figsize=(10,4))\n",
        "train['Cabin_regions_plot']=(train['Cabin_region1']+2*train['Cabin_region2']+3*train['Cabin_region3']+4*train['Cabin_region4']+5*train['Cabin_region5']+6*train['Cabin_region6']+7*train['Cabin_region7']).astype(int)\n",
        "sns.countplot(data=train, x='Cabin_regions_plot', hue='Transported')\n",
        "plt.title('Cabin regions')\n",
        "train.drop('Cabin_regions_plot', axis=1, inplace=True)"
      ]
    },
    {
      "cell_type": "markdown",
      "id": "eac79ee6",
      "metadata": {
        "papermill": {
          "duration": 0.098717,
          "end_time": "2022-04-07T07:00:37.867970",
          "exception": false,
          "start_time": "2022-04-07T07:00:37.769253",
          "status": "completed"
        },
        "tags": [],
        "id": "eac79ee6"
      },
      "source": [
        "### Last name\n",
        "- Name의 성으로 Family_sizy 그룹화 하였습니다."
      ]
    },
    {
      "cell_type": "code",
      "execution_count": null,
      "id": "a4d21684",
      "metadata": {
        "execution": {
          "iopub.execute_input": "2022-04-07T07:00:38.085414Z",
          "iopub.status.busy": "2022-04-07T07:00:38.084671Z",
          "iopub.status.idle": "2022-04-07T07:01:09.565679Z",
          "shell.execute_reply": "2022-04-07T07:01:09.565031Z",
          "shell.execute_reply.started": "2022-04-07T06:57:14.091810Z"
        },
        "papermill": {
          "duration": 31.599113,
          "end_time": "2022-04-07T07:01:09.565838",
          "exception": false,
          "start_time": "2022-04-07T07:00:37.966725",
          "status": "completed"
        },
        "tags": [],
        "id": "a4d21684",
        "outputId": "a63bd8a1-9e43-4389-9911-03820c70a813"
      },
      "outputs": [
        {
          "data": {
            "text/plain": [
              "Text(0.5, 1.0, 'Family size')"
            ]
          },
          "execution_count": 30,
          "metadata": {},
          "output_type": "execute_result"
        },
        {
          "data": {
            "image/png": "[encoded data removed]",
            "text/plain": [
              "<Figure size 720x288 with 1 Axes>"
            ]
          },
          "metadata": {
            "needs_background": "light"
          },
          "output_type": "display_data"
        }
      ],
      "source": [
        "# New features - training set\n",
        "train['Surname']=train['Name'].str.split().str[-1]\n",
        "train['Family_size']=train['Surname'].map(lambda x: train['Surname'].value_counts()[x])\n",
        "\n",
        "# New features - test set\n",
        "test['Surname']=test['Name'].str.split().str[-1]\n",
        "test['Family_size']=test['Surname'].map(lambda x: test['Surname'].value_counts()[x])\n",
        "\n",
        "# Set outliers (no name) to have no family\n",
        "train.loc[train['Family_size']==200,'Family_size']=0\n",
        "test.loc[test['Family_size']==200,'Family_size']=0\n",
        "\n",
        "# New feature distribution\n",
        "plt.figure(figsize=(10,4))\n",
        "sns.countplot(data=train, x='Family_size', hue='Transported')\n",
        "plt.title('Family size')"
      ]
    },
    {
      "cell_type": "markdown",
      "id": "ba544fae",
      "metadata": {
        "papermill": {
          "duration": 0.100375,
          "end_time": "2022-04-07T07:01:09.765447",
          "exception": false,
          "start_time": "2022-04-07T07:01:09.665072",
          "status": "completed"
        },
        "tags": [],
        "id": "ba544fae"
      },
      "source": [
        "### Drop unwanted features\n",
        "- 세부적으로 그룹화를 진행한 칼럼을 없앴습니다."
      ]
    },
    {
      "cell_type": "code",
      "execution_count": null,
      "id": "0139ddaa",
      "metadata": {
        "execution": {
          "iopub.execute_input": "2022-04-07T07:01:09.969446Z",
          "iopub.status.busy": "2022-04-07T07:01:09.968782Z",
          "iopub.status.idle": "2022-04-07T07:01:10.003858Z",
          "shell.execute_reply": "2022-04-07T07:01:10.004464Z",
          "shell.execute_reply.started": "2022-04-07T06:57:50.603087Z"
        },
        "papermill": {
          "duration": 0.138549,
          "end_time": "2022-04-07T07:01:10.004667",
          "exception": false,
          "start_time": "2022-04-07T07:01:09.866118",
          "status": "completed"
        },
        "tags": [],
        "id": "0139ddaa",
        "outputId": "292a77a8-d7cf-471c-93f9-d4c57347d19d"
      },
      "outputs": [
        {
          "data": {
            "text/html": [
              "<div>\n",
              "<style scoped>\n",
              "    .dataframe tbody tr th:only-of-type {\n",
              "        vertical-align: middle;\n",
              "    }\n",
              "\n",
              "    .dataframe tbody tr th {\n",
              "        vertical-align: top;\n",
              "    }\n",
              "\n",
              "    .dataframe thead th {\n",
              "        text-align: right;\n",
              "    }\n",
              "</style>\n",
              "<table border=\"1\" class=\"dataframe\">\n",
              "  <thead>\n",
              "    <tr style=\"text-align: right;\">\n",
              "      <th></th>\n",
              "      <th>HomePlanet</th>\n",
              "      <th>CryoSleep</th>\n",
              "      <th>Destination</th>\n",
              "      <th>Age</th>\n",
              "      <th>VIP</th>\n",
              "      <th>RoomService</th>\n",
              "      <th>FoodCourt</th>\n",
              "      <th>ShoppingMall</th>\n",
              "      <th>Spa</th>\n",
              "      <th>VRDeck</th>\n",
              "      <th>...</th>\n",
              "      <th>Cabin_deck</th>\n",
              "      <th>Cabin_side</th>\n",
              "      <th>Cabin_region1</th>\n",
              "      <th>Cabin_region2</th>\n",
              "      <th>Cabin_region3</th>\n",
              "      <th>Cabin_region4</th>\n",
              "      <th>Cabin_region5</th>\n",
              "      <th>Cabin_region6</th>\n",
              "      <th>Cabin_region7</th>\n",
              "      <th>Family_size</th>\n",
              "    </tr>\n",
              "  </thead>\n",
              "  <tbody>\n",
              "    <tr>\n",
              "      <th>0</th>\n",
              "      <td>Europa</td>\n",
              "      <td>False</td>\n",
              "      <td>TRAPPIST-1e</td>\n",
              "      <td>39.0</td>\n",
              "      <td>False</td>\n",
              "      <td>0.0</td>\n",
              "      <td>0.0</td>\n",
              "      <td>0.0</td>\n",
              "      <td>0.0</td>\n",
              "      <td>0.0</td>\n",
              "      <td>...</td>\n",
              "      <td>B</td>\n",
              "      <td>P</td>\n",
              "      <td>1</td>\n",
              "      <td>0</td>\n",
              "      <td>0</td>\n",
              "      <td>0</td>\n",
              "      <td>0</td>\n",
              "      <td>0</td>\n",
              "      <td>0</td>\n",
              "      <td>1</td>\n",
              "    </tr>\n",
              "    <tr>\n",
              "      <th>1</th>\n",
              "      <td>Earth</td>\n",
              "      <td>False</td>\n",
              "      <td>TRAPPIST-1e</td>\n",
              "      <td>24.0</td>\n",
              "      <td>False</td>\n",
              "      <td>109.0</td>\n",
              "      <td>9.0</td>\n",
              "      <td>25.0</td>\n",
              "      <td>549.0</td>\n",
              "      <td>44.0</td>\n",
              "      <td>...</td>\n",
              "      <td>F</td>\n",
              "      <td>S</td>\n",
              "      <td>1</td>\n",
              "      <td>0</td>\n",
              "      <td>0</td>\n",
              "      <td>0</td>\n",
              "      <td>0</td>\n",
              "      <td>0</td>\n",
              "      <td>0</td>\n",
              "      <td>4</td>\n",
              "    </tr>\n",
              "    <tr>\n",
              "      <th>2</th>\n",
              "      <td>Europa</td>\n",
              "      <td>False</td>\n",
              "      <td>TRAPPIST-1e</td>\n",
              "      <td>58.0</td>\n",
              "      <td>True</td>\n",
              "      <td>43.0</td>\n",
              "      <td>3576.0</td>\n",
              "      <td>0.0</td>\n",
              "      <td>6715.0</td>\n",
              "      <td>49.0</td>\n",
              "      <td>...</td>\n",
              "      <td>A</td>\n",
              "      <td>S</td>\n",
              "      <td>1</td>\n",
              "      <td>0</td>\n",
              "      <td>0</td>\n",
              "      <td>0</td>\n",
              "      <td>0</td>\n",
              "      <td>0</td>\n",
              "      <td>0</td>\n",
              "      <td>6</td>\n",
              "    </tr>\n",
              "    <tr>\n",
              "      <th>3</th>\n",
              "      <td>Europa</td>\n",
              "      <td>False</td>\n",
              "      <td>TRAPPIST-1e</td>\n",
              "      <td>33.0</td>\n",
              "      <td>False</td>\n",
              "      <td>0.0</td>\n",
              "      <td>1283.0</td>\n",
              "      <td>371.0</td>\n",
              "      <td>3329.0</td>\n",
              "      <td>193.0</td>\n",
              "      <td>...</td>\n",
              "      <td>A</td>\n",
              "      <td>S</td>\n",
              "      <td>1</td>\n",
              "      <td>0</td>\n",
              "      <td>0</td>\n",
              "      <td>0</td>\n",
              "      <td>0</td>\n",
              "      <td>0</td>\n",
              "      <td>0</td>\n",
              "      <td>6</td>\n",
              "    </tr>\n",
              "    <tr>\n",
              "      <th>4</th>\n",
              "      <td>Earth</td>\n",
              "      <td>False</td>\n",
              "      <td>TRAPPIST-1e</td>\n",
              "      <td>16.0</td>\n",
              "      <td>False</td>\n",
              "      <td>303.0</td>\n",
              "      <td>70.0</td>\n",
              "      <td>151.0</td>\n",
              "      <td>565.0</td>\n",
              "      <td>2.0</td>\n",
              "      <td>...</td>\n",
              "      <td>F</td>\n",
              "      <td>S</td>\n",
              "      <td>1</td>\n",
              "      <td>0</td>\n",
              "      <td>0</td>\n",
              "      <td>0</td>\n",
              "      <td>0</td>\n",
              "      <td>0</td>\n",
              "      <td>0</td>\n",
              "      <td>6</td>\n",
              "    </tr>\n",
              "  </tbody>\n",
              "</table>\n",
              "<p>5 rows × 28 columns</p>\n",
              "</div>"
            ],
            "text/plain": [
              "  HomePlanet  CryoSleep  Destination   Age    VIP  RoomService  FoodCourt  \\\n",
              "0     Europa      False  TRAPPIST-1e  39.0  False          0.0        0.0   \n",
              "1      Earth      False  TRAPPIST-1e  24.0  False        109.0        9.0   \n",
              "2     Europa      False  TRAPPIST-1e  58.0   True         43.0     3576.0   \n",
              "3     Europa      False  TRAPPIST-1e  33.0  False          0.0     1283.0   \n",
              "4      Earth      False  TRAPPIST-1e  16.0  False        303.0       70.0   \n",
              "\n",
              "   ShoppingMall     Spa  VRDeck  ...  Cabin_deck  Cabin_side  Cabin_region1  \\\n",
              "0           0.0     0.0     0.0  ...           B           P              1   \n",
              "1          25.0   549.0    44.0  ...           F           S              1   \n",
              "2           0.0  6715.0    49.0  ...           A           S              1   \n",
              "3         371.0  3329.0   193.0  ...           A           S              1   \n",
              "4         151.0   565.0     2.0  ...           F           S              1   \n",
              "\n",
              "   Cabin_region2  Cabin_region3  Cabin_region4  Cabin_region5  Cabin_region6  \\\n",
              "0              0              0              0              0              0   \n",
              "1              0              0              0              0              0   \n",
              "2              0              0              0              0              0   \n",
              "3              0              0              0              0              0   \n",
              "4              0              0              0              0              0   \n",
              "\n",
              "  Cabin_region7 Family_size  \n",
              "0             0           1  \n",
              "1             0           4  \n",
              "2             0           6  \n",
              "3             0           6  \n",
              "4             0           6  \n",
              "\n",
              "[5 rows x 28 columns]"
            ]
          },
          "execution_count": 31,
          "metadata": {},
          "output_type": "execute_result"
        }
      ],
      "source": [
        "# Drop qualitative/redundant/high cardinality features\n",
        "train.drop(['PassengerId', 'Cabin', 'Name', 'Surname', 'Group', 'Cabin_number'], axis=1, inplace=True)\n",
        "test.drop(['PassengerId', 'Cabin', 'Name', 'Surname', 'Group', 'Cabin_number'], axis=1, inplace=True)\n",
        "\n",
        "# Preview resulting training set\n",
        "train.head()"
      ]
    },
    {
      "cell_type": "markdown",
      "id": "22e5c61e",
      "metadata": {
        "papermill": {
          "duration": 0.099571,
          "end_time": "2022-04-07T07:01:10.206104",
          "exception": false,
          "start_time": "2022-04-07T07:01:10.106533",
          "status": "completed"
        },
        "tags": [],
        "id": "22e5c61e"
      },
      "source": [
        "### Reference : \n",
        "- SAMUEL CORTINHAS  . Spaceship Titanic: A complete guide : https://www.kaggle.com/code/samuelcortinhas/spaceship-titanic-a-complete-guide#EDA"
      ]
    },
    {
      "cell_type": "markdown",
      "id": "fd6e527b",
      "metadata": {
        "papermill": {
          "duration": 0.099839,
          "end_time": "2022-04-07T07:01:10.406076",
          "exception": false,
          "start_time": "2022-04-07T07:01:10.306237",
          "status": "completed"
        },
        "tags": [],
        "id": "fd6e527b"
      },
      "source": [
        "## One-Hot Encoding\n",
        "- 머신러닝에선 문자열을 사용할 수 없기 때문에 get_dummies를 이용해 원핫인코딩을 진행하였습니다."
      ]
    },
    {
      "cell_type": "code",
      "execution_count": null,
      "id": "a5553d9e",
      "metadata": {
        "execution": {
          "iopub.execute_input": "2022-04-07T07:01:10.609465Z",
          "iopub.status.busy": "2022-04-07T07:01:10.608816Z",
          "iopub.status.idle": "2022-04-07T07:01:10.666752Z",
          "shell.execute_reply": "2022-04-07T07:01:10.667261Z",
          "shell.execute_reply.started": "2022-04-07T06:57:50.641293Z"
        },
        "papermill": {
          "duration": 0.16148,
          "end_time": "2022-04-07T07:01:10.667473",
          "exception": false,
          "start_time": "2022-04-07T07:01:10.505993",
          "status": "completed"
        },
        "tags": [],
        "id": "a5553d9e"
      },
      "outputs": [],
      "source": [
        " def dummy_data(data, columns):\n",
        "        for column in columns:\n",
        "            data = pd.concat([data, pd.get_dummies(data[column], prefix = column)], axis=1)\n",
        "            data = data.drop(column, axis=1)\n",
        "        return data\n",
        "    \n",
        "dummy_columns = ['HomePlanet','Destination','Cabin_deck','Cabin_side']\n",
        "train = dummy_data(train, dummy_columns)\n",
        "test = dummy_data(test, dummy_columns)\n",
        "train['Transported'] = train['Transported'].map({True: 1, False: 0})\n",
        "train['CryoSleep'] = train['CryoSleep'].map({True: 1, False: 0})\n",
        "train['VIP'] = train['VIP'].map({True: 1, False: 0})\n"
      ]
    },
    {
      "cell_type": "markdown",
      "id": "69b984b1",
      "metadata": {
        "papermill": {
          "duration": 0.099879,
          "end_time": "2022-04-07T07:01:10.867426",
          "exception": false,
          "start_time": "2022-04-07T07:01:10.767547",
          "status": "completed"
        },
        "tags": [],
        "id": "69b984b1"
      },
      "source": [
        "- 결측치 확인을 해줍니다. 주석처리하였습니다."
      ]
    },
    {
      "cell_type": "code",
      "execution_count": null,
      "id": "42e2a066",
      "metadata": {
        "execution": {
          "iopub.execute_input": "2022-04-07T07:01:11.076157Z",
          "iopub.status.busy": "2022-04-07T07:01:11.075242Z",
          "iopub.status.idle": "2022-04-07T07:01:11.078006Z",
          "shell.execute_reply": "2022-04-07T07:01:11.078551Z",
          "shell.execute_reply.started": "2022-04-07T06:57:50.697685Z"
        },
        "papermill": {
          "duration": 0.109689,
          "end_time": "2022-04-07T07:01:11.078729",
          "exception": false,
          "start_time": "2022-04-07T07:01:10.969040",
          "status": "completed"
        },
        "tags": [],
        "id": "42e2a066"
      },
      "outputs": [],
      "source": [
        "# Check Encoding\n",
        "# print(train.info())\n",
        "# print(\"\")\n",
        "# print(test.info())"
      ]
    },
    {
      "cell_type": "markdown",
      "id": "719f4fe9",
      "metadata": {
        "papermill": {
          "duration": 0.100204,
          "end_time": "2022-04-07T07:01:11.279507",
          "exception": false,
          "start_time": "2022-04-07T07:01:11.179303",
          "status": "completed"
        },
        "tags": [],
        "id": "719f4fe9"
      },
      "source": [
        "# Machine Learning\n",
        "- CatBoostClassifier\n",
        "- HistGradientBoostingClassifier \n",
        "- XGBoost\n",
        "- LightGBM"
      ]
    },
    {
      "cell_type": "code",
      "execution_count": null,
      "id": "c69ca21a",
      "metadata": {
        "execution": {
          "iopub.execute_input": "2022-04-07T07:01:11.487801Z",
          "iopub.status.busy": "2022-04-07T07:01:11.487077Z",
          "iopub.status.idle": "2022-04-07T07:01:11.683486Z",
          "shell.execute_reply": "2022-04-07T07:01:11.682935Z",
          "shell.execute_reply.started": "2022-04-07T06:57:50.705093Z"
        },
        "papermill": {
          "duration": 0.301083,
          "end_time": "2022-04-07T07:01:11.683654",
          "exception": false,
          "start_time": "2022-04-07T07:01:11.382571",
          "status": "completed"
        },
        "tags": [],
        "id": "c69ca21a",
        "outputId": "9133f105-e68e-4a33-8b4f-df1573f63047"
      },
      "outputs": [
        {
          "data": {
            "text/plain": [
              "<catboost.core.CatBoostClassifier at 0x7f9769744110>"
            ]
          },
          "execution_count": 34,
          "metadata": {},
          "output_type": "execute_result"
        }
      ],
      "source": [
        "# CatBoostClassifier \n",
        "# iterations = None으로 지정\n",
        "\n",
        "from catboost import CatBoostClassifier\n",
        "\n",
        "cb = CatBoostClassifier(iterations= None, task_type= 'CPU')\n",
        "cb"
      ]
    },
    {
      "cell_type": "markdown",
      "id": "57416812",
      "metadata": {
        "papermill": {
          "duration": 0.099699,
          "end_time": "2022-04-07T07:01:11.884009",
          "exception": false,
          "start_time": "2022-04-07T07:01:11.784310",
          "status": "completed"
        },
        "tags": [],
        "id": "57416812"
      },
      "source": [
        "### Reference : \n",
        "- GEUNHO YU. [Pycaret] Visualization + Optimization (0.81). https://www.kaggle.com/code/arootda/pycaret-visualization-optimization-0-81#%F0%9F%93%8C-Ensemble\n",
        "- Catboost 주요 개념과 특징 이해하기. https://dailyheumsi.tistory.com/136"
      ]
    },
    {
      "cell_type": "code",
      "execution_count": null,
      "id": "b7b40e5a",
      "metadata": {
        "execution": {
          "iopub.execute_input": "2022-04-07T07:01:12.091770Z",
          "iopub.status.busy": "2022-04-07T07:01:12.091084Z",
          "iopub.status.idle": "2022-04-07T07:01:12.320326Z",
          "shell.execute_reply": "2022-04-07T07:01:12.319772Z",
          "shell.execute_reply.started": "2022-04-07T06:57:50.725847Z"
        },
        "papermill": {
          "duration": 0.335549,
          "end_time": "2022-04-07T07:01:12.320530",
          "exception": false,
          "start_time": "2022-04-07T07:01:11.984981",
          "status": "completed"
        },
        "tags": [],
        "id": "b7b40e5a",
        "outputId": "135129a5-c790-4b96-fd72-cc2d3d267adf"
      },
      "outputs": [
        {
          "data": {
            "text/plain": [
              "HistGradientBoostingClassifier(random_state=42)"
            ]
          },
          "execution_count": 35,
          "metadata": {},
          "output_type": "execute_result"
        }
      ],
      "source": [
        "# HistGradientBoostingClassifier\n",
        "\n",
        "from sklearn.experimental import enable_hist_gradient_boosting\n",
        "from sklearn.ensemble import HistGradientBoostingClassifier\n",
        "\n",
        "hgb = HistGradientBoostingClassifier(random_state=42)\n",
        "hgb\n"
      ]
    },
    {
      "cell_type": "code",
      "execution_count": null,
      "id": "cf40870a",
      "metadata": {
        "execution": {
          "iopub.execute_input": "2022-04-07T07:01:12.552830Z",
          "iopub.status.busy": "2022-04-07T07:01:12.552113Z",
          "iopub.status.idle": "2022-04-07T07:01:12.628859Z",
          "shell.execute_reply": "2022-04-07T07:01:12.629398Z",
          "shell.execute_reply.started": "2022-04-07T06:57:50.743403Z"
        },
        "papermill": {
          "duration": 0.183111,
          "end_time": "2022-04-07T07:01:12.629607",
          "exception": false,
          "start_time": "2022-04-07T07:01:12.446496",
          "status": "completed"
        },
        "tags": [],
        "id": "cf40870a",
        "outputId": "f2c5a97c-464a-4881-e8df-d7d2cf6d9589"
      },
      "outputs": [
        {
          "data": {
            "text/plain": [
              "XGBClassifier(base_score=None, booster=None, colsample_bylevel=None,\n",
              "              colsample_bynode=None, colsample_bytree=None,\n",
              "              enable_categorical=False, gamma=None, gpu_id=None,\n",
              "              importance_type=None, interaction_constraints=None,\n",
              "              learning_rate=None, max_delta_step=None, max_depth=None,\n",
              "              min_child_weight=None, missing=nan, monotone_constraints=None,\n",
              "              n_estimators=100, n_jobs=None, num_parallel_tree=None,\n",
              "              predictor=None, random_state=42, reg_alpha=None, reg_lambda=None,\n",
              "              scale_pos_weight=None, subsample=None, tree_method='hist',\n",
              "              validate_parameters=None, verbosity=None)"
            ]
          },
          "execution_count": 36,
          "metadata": {},
          "output_type": "execute_result"
        }
      ],
      "source": [
        "# XGBoost\n",
        "\n",
        "from xgboost import XGBClassifier\n",
        "xgb = XGBClassifier(tree_method='hist', random_state=42)\n",
        "xgb\n"
      ]
    },
    {
      "cell_type": "code",
      "execution_count": null,
      "id": "5c8cab3a",
      "metadata": {
        "execution": {
          "iopub.execute_input": "2022-04-07T07:01:12.836749Z",
          "iopub.status.busy": "2022-04-07T07:01:12.836091Z",
          "iopub.status.idle": "2022-04-07T07:01:13.101690Z",
          "shell.execute_reply": "2022-04-07T07:01:13.102179Z",
          "shell.execute_reply.started": "2022-04-07T06:57:50.762506Z"
        },
        "papermill": {
          "duration": 0.371275,
          "end_time": "2022-04-07T07:01:13.102409",
          "exception": false,
          "start_time": "2022-04-07T07:01:12.731134",
          "status": "completed"
        },
        "tags": [],
        "id": "5c8cab3a",
        "outputId": "08c5434f-1def-4be4-e2c2-0698d8a07c0d"
      },
      "outputs": [
        {
          "data": {
            "text/html": [
              "<style type='text/css'>\n",
              ".datatable table.frame { margin-bottom: 0; }\n",
              ".datatable table.frame thead { border-bottom: none; }\n",
              ".datatable table.frame tr.coltypes td {  color: #FFFFFF;  line-height: 6px;  padding: 0 0.5em;}\n",
              ".datatable .bool    { background: #DDDD99; }\n",
              ".datatable .object  { background: #565656; }\n",
              ".datatable .int     { background: #5D9E5D; }\n",
              ".datatable .float   { background: #4040CC; }\n",
              ".datatable .str     { background: #CC4040; }\n",
              ".datatable .time    { background: #40CC40; }\n",
              ".datatable .row_index {  background: var(--jp-border-color3);  border-right: 1px solid var(--jp-border-color0);  color: var(--jp-ui-font-color3);  font-size: 9px;}\n",
              ".datatable .frame tbody td { text-align: left; }\n",
              ".datatable .frame tr.coltypes .row_index {  background: var(--jp-border-color0);}\n",
              ".datatable th:nth-child(2) { padding-left: 12px; }\n",
              ".datatable .hellipsis {  color: var(--jp-cell-editor-border-color);}\n",
              ".datatable .vellipsis {  background: var(--jp-layout-color0);  color: var(--jp-cell-editor-border-color);}\n",
              ".datatable .na {  color: var(--jp-cell-editor-border-color);  font-size: 80%;}\n",
              ".datatable .sp {  opacity: 0.25;}\n",
              ".datatable .footer { font-size: 9px; }\n",
              ".datatable .frame_dimensions {  background: var(--jp-border-color3);  border-top: 1px solid var(--jp-border-color0);  color: var(--jp-ui-font-color3);  display: inline-block;  opacity: 0.6;  padding: 1px 10px 1px 5px;}\n",
              "</style>\n"
            ],
            "text/plain": [
              "<IPython.core.display.HTML object>"
            ]
          },
          "metadata": {},
          "output_type": "display_data"
        },
        {
          "data": {
            "text/plain": [
              "LGBMClassifier(random_state=42)"
            ]
          },
          "execution_count": 37,
          "metadata": {},
          "output_type": "execute_result"
        }
      ],
      "source": [
        "# LightGBM\n",
        "\n",
        "from lightgbm import LGBMClassifier\n",
        "\n",
        "lgb = LGBMClassifier(random_state=42)\n",
        "lgb\n"
      ]
    },
    {
      "cell_type": "markdown",
      "id": "a54baf75",
      "metadata": {
        "papermill": {
          "duration": 0.10258,
          "end_time": "2022-04-07T07:01:13.309227",
          "exception": false,
          "start_time": "2022-04-07T07:01:13.206647",
          "status": "completed"
        },
        "tags": [],
        "id": "a54baf75"
      },
      "source": [
        "# Model Evaluation\n",
        "- 검증 점수 : cb > lgb > hgb > xgb(과대적합)\n",
        "- 정확도 : cb > xgb > hgb > lgb"
      ]
    },
    {
      "cell_type": "markdown",
      "id": "98e961ee",
      "metadata": {
        "papermill": {
          "duration": 0.102566,
          "end_time": "2022-04-07T07:01:13.515588",
          "exception": false,
          "start_time": "2022-04-07T07:01:13.413022",
          "status": "completed"
        },
        "tags": [],
        "id": "98e961ee"
      },
      "source": [
        "## Train Test Split\n"
      ]
    },
    {
      "cell_type": "code",
      "execution_count": null,
      "id": "56c198c5",
      "metadata": {
        "execution": {
          "iopub.execute_input": "2022-04-07T07:01:13.727836Z",
          "iopub.status.busy": "2022-04-07T07:01:13.726609Z",
          "iopub.status.idle": "2022-04-07T07:01:13.735844Z",
          "shell.execute_reply": "2022-04-07T07:01:13.736349Z",
          "shell.execute_reply.started": "2022-04-07T06:57:50.783860Z"
        },
        "papermill": {
          "duration": 0.118371,
          "end_time": "2022-04-07T07:01:13.736555",
          "exception": false,
          "start_time": "2022-04-07T07:01:13.618184",
          "status": "completed"
        },
        "tags": [],
        "id": "56c198c5"
      },
      "outputs": [],
      "source": [
        "\n",
        "X_cols = test.columns\n",
        "X = train[X_cols].to_numpy()\n",
        "y = train['Transported'].to_numpy()\n"
      ]
    },
    {
      "cell_type": "code",
      "execution_count": null,
      "id": "1e4762eb",
      "metadata": {
        "execution": {
          "iopub.execute_input": "2022-04-07T07:01:13.953059Z",
          "iopub.status.busy": "2022-04-07T07:01:13.952349Z",
          "iopub.status.idle": "2022-04-07T07:01:13.961614Z",
          "shell.execute_reply": "2022-04-07T07:01:13.962138Z",
          "shell.execute_reply.started": "2022-04-07T06:57:50.804577Z"
        },
        "papermill": {
          "duration": 0.120271,
          "end_time": "2022-04-07T07:01:13.962315",
          "exception": false,
          "start_time": "2022-04-07T07:01:13.842044",
          "status": "completed"
        },
        "tags": [],
        "id": "1e4762eb",
        "outputId": "9d05bb22-0743-4381-ac81-4a71895ae446"
      },
      "outputs": [
        {
          "data": {
            "text/plain": [
              "((6085, 41), (2608, 41), (6085,), (2608,))"
            ]
          },
          "execution_count": 39,
          "metadata": {},
          "output_type": "execute_result"
        }
      ],
      "source": [
        "\n",
        "# train_test_split 를 이용하여 훈련데이터세트와 검증데이터세트를 만듬.\n",
        "X_train, X_val, y_train, y_val = train_test_split(X, y, test_size=0.3, random_state=42)\n",
        "X_train.shape, X_val.shape, y_train.shape, y_val.shape\n"
      ]
    },
    {
      "cell_type": "markdown",
      "id": "47a4f269",
      "metadata": {
        "papermill": {
          "duration": 0.103041,
          "end_time": "2022-04-07T07:01:14.170649",
          "exception": false,
          "start_time": "2022-04-07T07:01:14.067608",
          "status": "completed"
        },
        "tags": [],
        "id": "47a4f269"
      },
      "source": [
        "## CatBoostClassifier\n",
        "- train Acc. 0.895480690221857\n",
        "- test Acc. 0.819227608874281\n",
        "- Acc.  0.803680981595092"
      ]
    },
    {
      "cell_type": "code",
      "execution_count": null,
      "id": "c289180a",
      "metadata": {
        "execution": {
          "iopub.execute_input": "2022-04-07T07:01:14.382515Z",
          "iopub.status.busy": "2022-04-07T07:01:14.381823Z",
          "iopub.status.idle": "2022-04-07T07:01:14.387438Z",
          "shell.execute_reply": "2022-04-07T07:01:14.386826Z",
          "shell.execute_reply.started": "2022-04-07T06:57:50.823617Z"
        },
        "papermill": {
          "duration": 0.114773,
          "end_time": "2022-04-07T07:01:14.387607",
          "exception": false,
          "start_time": "2022-04-07T07:01:14.272834",
          "status": "completed"
        },
        "tags": [],
        "id": "c289180a",
        "outputId": "40349622-feeb-43f9-e13b-441051df9ee9"
      },
      "outputs": [
        {
          "data": {
            "text/plain": [
              "'\\nscores = cross_validate(cb, X_train, y_train, return_train_score = True)\\n\\nprint(\"train Acc.\", np.mean(scores[\\'train_score\\']))\\nprint(\"test Acc.\", np.mean(scores[\\'test_score\\']))\\n'"
            ]
          },
          "execution_count": 40,
          "metadata": {},
          "output_type": "execute_result"
        }
      ],
      "source": [
        "# CatBoostClassifier\n",
        "\n",
        "# Output이 너무 길어 주석처리함.\n",
        "'''\n",
        "scores = cross_validate(cb, X_train, y_train, return_train_score = True)\n",
        "\n",
        "print(\"train Acc.\", np.mean(scores['train_score']))\n",
        "print(\"test Acc.\", np.mean(scores['test_score']))\n",
        "'''"
      ]
    },
    {
      "cell_type": "code",
      "execution_count": null,
      "id": "9413b590",
      "metadata": {
        "execution": {
          "iopub.execute_input": "2022-04-07T07:01:14.605871Z",
          "iopub.status.busy": "2022-04-07T07:01:14.605227Z",
          "iopub.status.idle": "2022-04-07T07:01:18.424849Z",
          "shell.execute_reply": "2022-04-07T07:01:18.424241Z",
          "shell.execute_reply.started": "2022-04-07T06:57:50.837280Z"
        },
        "papermill": {
          "duration": 3.932995,
          "end_time": "2022-04-07T07:01:18.425023",
          "exception": false,
          "start_time": "2022-04-07T07:01:14.492028",
          "status": "completed"
        },
        "tags": [],
        "id": "9413b590",
        "outputId": "3d17c239-c113-4cdd-ad5c-26de80f334f6"
      },
      "outputs": [
        {
          "name": "stdout",
          "output_type": "stream",
          "text": [
            "Acc. : 0.803680981595092\n"
          ]
        }
      ],
      "source": [
        "# CatBoostClassifier\n",
        "\n",
        "cb.fit(X_train, y_train, verbose=False)\n",
        "y_pred = cb.predict(X_val)\n",
        "print(\"Acc. :\", accuracy_score(y_val, y_pred))\n"
      ]
    },
    {
      "cell_type": "markdown",
      "id": "d2c36181",
      "metadata": {
        "papermill": {
          "duration": 0.104151,
          "end_time": "2022-04-07T07:01:18.634110",
          "exception": false,
          "start_time": "2022-04-07T07:01:18.529959",
          "status": "completed"
        },
        "tags": [],
        "id": "d2c36181"
      },
      "source": [
        "## HistGradientBoostingClassifier\n",
        "- 훈련 평균점수 : 0.9079704190632704\n",
        "- 검증 평균점수 : 0.8108463434675433\n",
        "- 검증 정확도 : 0.8017638036809815"
      ]
    },
    {
      "cell_type": "code",
      "execution_count": null,
      "id": "1e090fb0",
      "metadata": {
        "execution": {
          "iopub.execute_input": "2022-04-07T07:01:18.848731Z",
          "iopub.status.busy": "2022-04-07T07:01:18.848074Z",
          "iopub.status.idle": "2022-04-07T07:01:22.736189Z",
          "shell.execute_reply": "2022-04-07T07:01:22.736874Z",
          "shell.execute_reply.started": "2022-04-07T06:57:54.620888Z"
        },
        "papermill": {
          "duration": 3.997955,
          "end_time": "2022-04-07T07:01:22.737069",
          "exception": false,
          "start_time": "2022-04-07T07:01:18.739114",
          "status": "completed"
        },
        "tags": [],
        "id": "1e090fb0",
        "outputId": "38c0fc03-b2aa-4073-82c9-c3c6d3d5a0c0"
      },
      "outputs": [
        {
          "name": "stdout",
          "output_type": "stream",
          "text": [
            "train Acc. 0.9079704190632704\n",
            "test Acc. 0.8108463434675433\n"
          ]
        }
      ],
      "source": [
        "# HistGradientBoostingClassifier\n",
        "\n",
        "splitter = StratifiedKFold(n_splits = 5, shuffle = True, random_state=42)\n",
        "scores = cross_validate(hgb, X_train, y_train, return_train_score = True, cv=splitter)\n",
        "\n",
        "print(\"train Acc.\", np.mean(scores['train_score']))\n",
        "print(\"test Acc.\", np.mean(scores['test_score']))\n"
      ]
    },
    {
      "cell_type": "code",
      "execution_count": null,
      "id": "a968b1a8",
      "metadata": {
        "execution": {
          "iopub.execute_input": "2022-04-07T07:01:22.954419Z",
          "iopub.status.busy": "2022-04-07T07:01:22.953672Z",
          "iopub.status.idle": "2022-04-07T07:01:23.840175Z",
          "shell.execute_reply": "2022-04-07T07:01:23.841093Z",
          "shell.execute_reply.started": "2022-04-07T06:57:57.644264Z"
        },
        "papermill": {
          "duration": 0.998473,
          "end_time": "2022-04-07T07:01:23.841321",
          "exception": false,
          "start_time": "2022-04-07T07:01:22.842848",
          "status": "completed"
        },
        "tags": [],
        "id": "a968b1a8",
        "outputId": "aad85236-ad43-4263-f92c-15ccc5d74404"
      },
      "outputs": [
        {
          "name": "stdout",
          "output_type": "stream",
          "text": [
            "Acc. : 0.8017638036809815\n"
          ]
        }
      ],
      "source": [
        "# HistGradientBoostingClassifier\n",
        "\n",
        "hgb.fit(X_train, y_train)\n",
        "y_pred = hgb.predict(X_val)\n",
        "print(\"Acc. :\", accuracy_score(y_val, y_pred))\n"
      ]
    },
    {
      "cell_type": "markdown",
      "id": "861a891a",
      "metadata": {
        "papermill": {
          "duration": 0.104354,
          "end_time": "2022-04-07T07:01:24.051362",
          "exception": false,
          "start_time": "2022-04-07T07:01:23.947008",
          "status": "completed"
        },
        "tags": [],
        "id": "861a891a"
      },
      "source": [
        "## XGBoost\n",
        "- 훈련 평균점수 : 0.9539441248972885\n",
        "- 검증 평균점수 : 0.8060805258833197\n",
        "- 검증 정확도 : 0.8029141104294478\n",
        "- 과대적합에 가깝습니다."
      ]
    },
    {
      "cell_type": "code",
      "execution_count": null,
      "id": "a81fd733",
      "metadata": {
        "execution": {
          "iopub.execute_input": "2022-04-07T07:01:24.267151Z",
          "iopub.status.busy": "2022-04-07T07:01:24.266453Z",
          "iopub.status.idle": "2022-04-07T07:01:28.222143Z",
          "shell.execute_reply": "2022-04-07T07:01:28.223214Z",
          "shell.execute_reply.started": "2022-04-07T06:57:58.343287Z"
        },
        "papermill": {
          "duration": 4.066945,
          "end_time": "2022-04-07T07:01:28.223460",
          "exception": false,
          "start_time": "2022-04-07T07:01:24.156515",
          "status": "completed"
        },
        "tags": [],
        "id": "a81fd733",
        "outputId": "7150cb1e-6e4e-40ea-ea3f-9ace698f7d7f"
      },
      "outputs": [
        {
          "name": "stdout",
          "output_type": "stream",
          "text": [
            "[07:01:24] WARNING: ../src/learner.cc:1115: Starting in XGBoost 1.3.0, the default evaluation metric used with the objective 'binary:logistic' was changed from 'error' to 'logloss'. Explicitly set eval_metric if you'd like to restore the old behavior.\n",
            "[07:01:24] WARNING: ../src/learner.cc:1115: Starting in XGBoost 1.3.0, the default evaluation metric used with the objective 'binary:logistic' was changed from 'error' to 'logloss'. Explicitly set eval_metric if you'd like to restore the old behavior.\n",
            "[07:01:25] WARNING: ../src/learner.cc:1115: Starting in XGBoost 1.3.0, the default evaluation metric used with the objective 'binary:logistic' was changed from 'error' to 'logloss'. Explicitly set eval_metric if you'd like to restore the old behavior.\n",
            "[07:01:26] WARNING: ../src/learner.cc:1115: Starting in XGBoost 1.3.0, the default evaluation metric used with the objective 'binary:logistic' was changed from 'error' to 'logloss'. Explicitly set eval_metric if you'd like to restore the old behavior.\n",
            "[07:01:26] WARNING: ../src/learner.cc:1115: Starting in XGBoost 1.3.0, the default evaluation metric used with the objective 'binary:logistic' was changed from 'error' to 'logloss'. Explicitly set eval_metric if you'd like to restore the old behavior.\n",
            "train Acc. 0.9539441248972885\n",
            "test Acc. 0.8060805258833197\n"
          ]
        }
      ],
      "source": [
        "# XGBoost\n",
        "\n",
        "scores = cross_validate(xgb, X_train, y_train, return_train_score = True, cv=splitter)\n",
        "\n",
        "print(\"train Acc.\", np.mean(scores['train_score']))\n",
        "print(\"test Acc.\", np.mean(scores['test_score']))\n"
      ]
    },
    {
      "cell_type": "code",
      "execution_count": null,
      "id": "6db2810d",
      "metadata": {
        "execution": {
          "iopub.execute_input": "2022-04-07T07:01:28.447164Z",
          "iopub.status.busy": "2022-04-07T07:01:28.446458Z",
          "iopub.status.idle": "2022-04-07T07:01:29.064845Z",
          "shell.execute_reply": "2022-04-07T07:01:29.065790Z",
          "shell.execute_reply.started": "2022-04-07T06:58:01.028305Z"
        },
        "papermill": {
          "duration": 0.731323,
          "end_time": "2022-04-07T07:01:29.066021",
          "exception": false,
          "start_time": "2022-04-07T07:01:28.334698",
          "status": "completed"
        },
        "tags": [],
        "id": "6db2810d",
        "outputId": "7b84102c-9107-43bc-e31c-55a4e5a0c9ba"
      },
      "outputs": [
        {
          "name": "stdout",
          "output_type": "stream",
          "text": [
            "[07:01:28] WARNING: ../src/learner.cc:1115: Starting in XGBoost 1.3.0, the default evaluation metric used with the objective 'binary:logistic' was changed from 'error' to 'logloss'. Explicitly set eval_metric if you'd like to restore the old behavior.\n",
            "Acc. : 0.8029141104294478\n"
          ]
        }
      ],
      "source": [
        "# XGBoost\n",
        "\n",
        "xgb.fit(X_train, y_train)\n",
        "y_pred = xgb.predict(X_val)\n",
        "print(\"Acc. :\", accuracy_score(y_val, y_pred))\n"
      ]
    },
    {
      "cell_type": "markdown",
      "id": "eb9f3b80",
      "metadata": {
        "papermill": {
          "duration": 0.106922,
          "end_time": "2022-04-07T07:01:29.283010",
          "exception": false,
          "start_time": "2022-04-07T07:01:29.176088",
          "status": "completed"
        },
        "tags": [],
        "id": "eb9f3b80"
      },
      "source": [
        "## LightGBM\n",
        "- 훈련 평균점수 : 0.9116269515201315\n",
        "- 검증 평균점수 : 0.8121610517666392\n",
        "- 검증 정확도 : 0.8009969325153374"
      ]
    },
    {
      "cell_type": "code",
      "execution_count": null,
      "id": "eb81850d",
      "metadata": {
        "execution": {
          "iopub.execute_input": "2022-04-07T07:01:29.507283Z",
          "iopub.status.busy": "2022-04-07T07:01:29.506279Z",
          "iopub.status.idle": "2022-04-07T07:01:30.739830Z",
          "shell.execute_reply": "2022-04-07T07:01:30.741271Z",
          "shell.execute_reply.started": "2022-04-07T06:58:01.558669Z"
        },
        "papermill": {
          "duration": 1.35055,
          "end_time": "2022-04-07T07:01:30.741565",
          "exception": false,
          "start_time": "2022-04-07T07:01:29.391015",
          "status": "completed"
        },
        "tags": [],
        "id": "eb81850d",
        "outputId": "1e4f8b6f-902d-420e-bd1b-6327cd45e699"
      },
      "outputs": [
        {
          "name": "stdout",
          "output_type": "stream",
          "text": [
            "train Acc. 0.9116269515201315\n",
            "test Acc. 0.8121610517666392\n"
          ]
        }
      ],
      "source": [
        "# LightGBM\n",
        "\n",
        "scores = cross_validate(lgb, X_train, y_train, return_train_score = True, cv=splitter)\n",
        "\n",
        "print(\"train Acc.\", np.mean(scores['train_score']))\n",
        "print(\"test Acc.\", np.mean(scores['test_score']))\n"
      ]
    },
    {
      "cell_type": "code",
      "execution_count": null,
      "id": "1398a837",
      "metadata": {
        "execution": {
          "iopub.execute_input": "2022-04-07T07:01:30.963065Z",
          "iopub.status.busy": "2022-04-07T07:01:30.962044Z",
          "iopub.status.idle": "2022-04-07T07:01:31.219101Z",
          "shell.execute_reply": "2022-04-07T07:01:31.219676Z",
          "shell.execute_reply.started": "2022-04-07T06:58:02.700052Z"
        },
        "papermill": {
          "duration": 0.369452,
          "end_time": "2022-04-07T07:01:31.219883",
          "exception": false,
          "start_time": "2022-04-07T07:01:30.850431",
          "status": "completed"
        },
        "tags": [],
        "id": "1398a837",
        "outputId": "e04e5fd5-8283-4007-e18d-543b6bd19f7c"
      },
      "outputs": [
        {
          "name": "stdout",
          "output_type": "stream",
          "text": [
            "Acc. : 0.8009969325153374\n"
          ]
        }
      ],
      "source": [
        "# LightGBM\n",
        "\n",
        "lgb.fit(X_train, y_train)\n",
        "y_pred = lgb.predict(X_val)\n",
        "print(\"Acc. :\", accuracy_score(y_val, y_pred))\n"
      ]
    },
    {
      "cell_type": "markdown",
      "id": "c1764b7e",
      "metadata": {
        "papermill": {
          "duration": 0.108268,
          "end_time": "2022-04-07T07:01:31.437714",
          "exception": false,
          "start_time": "2022-04-07T07:01:31.329446",
          "status": "completed"
        },
        "tags": [],
        "id": "c1764b7e"
      },
      "source": [
        "# Confusion Matrix\n",
        "- 실제값과 예측값이 동일하면 T (True), 틀리면 F (False)로 표시한다.\n",
        "- 예측값을 기준으로 따라 Positive로 예측했다면 P, Negative로 예측했다면 N을 붙여준다.\n",
        "- Accuracy = (TP+TN) / (TP+FP+TN+FN)\n",
        "- TPR = True Positive Rate = Recall(재현율) = Senstivity(민감도)\n",
        "- FNR = False Negative Rate\n",
        "- FPR = False Positive Rate\n",
        "- TNR = True Negative Rate = Specivity(특이도)\n",
        "- PPV = Positive Predictive Value = Precision(정밀도)\n",
        "- FDR = False Discovery Rate\n",
        "- FOR = False Omission Rate\n",
        "- NPV = Negative Predictive Value\n",
        "- F1-score(조화평균) = 2 / (1/Precision + 1/Recall) = 2 * (Precision*Recall) / (Precision+Recall)"
      ]
    },
    {
      "cell_type": "code",
      "execution_count": null,
      "id": "d732e067",
      "metadata": {
        "execution": {
          "iopub.execute_input": "2022-04-07T07:01:31.768249Z",
          "iopub.status.busy": "2022-04-07T07:01:31.656428Z",
          "iopub.status.idle": "2022-04-07T07:01:37.986638Z",
          "shell.execute_reply": "2022-04-07T07:01:37.985950Z",
          "shell.execute_reply.started": "2022-04-07T06:58:02.907531Z"
        },
        "papermill": {
          "duration": 6.441083,
          "end_time": "2022-04-07T07:01:37.986801",
          "exception": false,
          "start_time": "2022-04-07T07:01:31.545718",
          "status": "completed"
        },
        "tags": [],
        "id": "d732e067",
        "outputId": "47a172bd-131d-461f-a108-9fbf9433643b"
      },
      "outputs": [
        {
          "name": "stdout",
          "output_type": "stream",
          "text": [
            "[07:01:36] WARNING: ../src/learner.cc:1115: Starting in XGBoost 1.3.0, the default evaluation metric used with the objective 'binary:logistic' was changed from 'error' to 'logloss'. Explicitly set eval_metric if you'd like to restore the old behavior.\n"
          ]
        },
        {
          "data": {
            "image/png": "[encoded data removed]",
            "text/plain": [
              "<Figure size 432x288 with 2 Axes>"
            ]
          },
          "metadata": {
            "needs_background": "light"
          },
          "output_type": "display_data"
        },
        {
          "data": {
            "image/png": "[encoded data removed]",
            "text/plain": [
              "<Figure size 432x288 with 2 Axes>"
            ]
          },
          "metadata": {
            "needs_background": "light"
          },
          "output_type": "display_data"
        },
        {
          "data": {
            "image/png": "[encoded data removed]",
            "text/plain": [
              "<Figure size 432x288 with 2 Axes>"
            ]
          },
          "metadata": {
            "needs_background": "light"
          },
          "output_type": "display_data"
        },
        {
          "data": {
            "image/png": "[encoded data removed]",
            "text/plain": [
              "<Figure size 432x288 with 2 Axes>"
            ]
          },
          "metadata": {
            "needs_background": "light"
          },
          "output_type": "display_data"
        }
      ],
      "source": [
        "# CatBoostClassifier\n",
        "cb.fit(X_train, y_train, verbose=False)\n",
        "plot_confusion_matrix(cb, X_val, y_val)  \n",
        "plt.title('CatBoostClassifier')\n",
        "\n",
        "# HistGradientBoostingClassifier\n",
        "hgb.fit(X_train, y_train)\n",
        "plot_confusion_matrix(hgb, X_val, y_val)  \n",
        "plt.title('HistGradientBoostingClassifier')\n",
        "\n",
        "# XGBoost\n",
        "xgb.fit(X_train, y_train)\n",
        "plot_confusion_matrix(xgb, X_val, y_val)  \n",
        "plt.title('XGBoost')\n",
        "\n",
        "# LightGBM\n",
        "lgb.fit(X_train, y_train)\n",
        "plot_confusion_matrix(lgb, X_val, y_val)  \n",
        "plt.title('LightGBM')\n",
        "\n",
        "plt.show()\n"
      ]
    },
    {
      "cell_type": "markdown",
      "id": "9aa00567",
      "metadata": {
        "papermill": {
          "duration": 0.114135,
          "end_time": "2022-04-07T07:01:38.213732",
          "exception": false,
          "start_time": "2022-04-07T07:01:38.099597",
          "status": "completed"
        },
        "tags": [],
        "id": "9aa00567"
      },
      "source": [
        "# Comparison\n",
        "    - Accuracy : CatBoostClassifier > XGBoost > HistGradientBoostingClassifier > LightGBM\n",
        "    - Precision : XGBoost > HistGradientBoostingClassifier > CatBoostClassifier > LightGBM\n",
        "    - Recall : CatBoostClassifier > LightGBM> HistGradientBoostingClassifier > XGBoost\n",
        "    - F1-score : CatBoostClassifier > LightGBM> HistGradientBoostingClassifier > XGBoost\n"
      ]
    },
    {
      "cell_type": "code",
      "execution_count": null,
      "id": "7a6de3c6",
      "metadata": {
        "execution": {
          "iopub.execute_input": "2022-04-07T07:01:38.565066Z",
          "iopub.status.busy": "2022-04-07T07:01:38.452104Z",
          "iopub.status.idle": "2022-04-07T07:01:43.941766Z",
          "shell.execute_reply": "2022-04-07T07:01:43.942483Z",
          "shell.execute_reply.started": "2022-04-07T06:58:08.798810Z"
        },
        "papermill": {
          "duration": 5.609413,
          "end_time": "2022-04-07T07:01:43.942711",
          "exception": false,
          "start_time": "2022-04-07T07:01:38.333298",
          "status": "completed"
        },
        "tags": [],
        "id": "7a6de3c6",
        "outputId": "146a579b-f1b6-46de-8f7e-69170fc03772"
      },
      "outputs": [
        {
          "name": "stdout",
          "output_type": "stream",
          "text": [
            "CatBoostClassifier\n",
            "Acc. : 0.803680981595092\n",
            "Prec. : 0.7947406866325786\n",
            "Recall : 0.8248673237300985\n",
            "f1. : 0.8095238095238095\n",
            "\n",
            "HistGradientBoostingClassifier\n",
            "Acc. : 0.8017638036809815\n",
            "Prec. : 0.7965976331360947\n",
            "Recall : 0.8165276724791509\n",
            "f1. : 0.8064395357543991\n",
            "\n",
            "[07:01:43] WARNING: ../src/learner.cc:1115: Starting in XGBoost 1.3.0, the default evaluation metric used with the objective 'binary:logistic' was changed from 'error' to 'logloss'. Explicitly set eval_metric if you'd like to restore the old behavior.\n",
            "XGBoost\n",
            "Acc. : 0.8029141104294478\n",
            "Prec. : 0.8046934140802422\n",
            "Recall : 0.8059135708870356\n",
            "f1. : 0.8053030303030303\n",
            "\n",
            "LightGBM\n",
            "Acc. : 0.8009969325153374\n",
            "Prec. : 0.7915451895043731\n",
            "Recall : 0.8233510235026535\n",
            "f1. : 0.8071348940914159\n"
          ]
        }
      ],
      "source": [
        "# CatBoostClassifier\n",
        "cb.fit(X_train, y_train, verbose=False)\n",
        "y_pred = cb.predict(X_val)\n",
        "print('CatBoostClassifier')\n",
        "print(\"Acc. :\", accuracy_score(y_val, y_pred))\n",
        "print(\"Prec. :\", precision_score(y_val, y_pred))\n",
        "print('Recall :', recall_score(y_val, y_pred))\n",
        "print('f1. :', f1_score(y_val, y_pred))\n",
        "print('')\n",
        "# HistGradientBoostingClassifier\n",
        "hgb.fit(X_train, y_train)\n",
        "y_pred = hgb.predict(X_val)\n",
        "print('HistGradientBoostingClassifier')\n",
        "print(\"Acc. :\", accuracy_score(y_val, y_pred))\n",
        "print(\"Prec. :\", precision_score(y_val, y_pred))\n",
        "print('Recall :', recall_score(y_val, y_pred))\n",
        "print('f1. :', f1_score(y_val, y_pred))\n",
        "print('')\n",
        "# XGBoost\n",
        "xgb.fit(X_train, y_train)\n",
        "y_pred = xgb.predict(X_val)\n",
        "print('XGBoost')\n",
        "print(\"Acc. :\", accuracy_score(y_val, y_pred))\n",
        "print(\"Prec. :\", precision_score(y_val, y_pred))\n",
        "print('Recall :', recall_score(y_val, y_pred))\n",
        "print('f1. :', f1_score(y_val, y_pred))\n",
        "print('')\n",
        "# LightGBM\n",
        "lgb.fit(X_train, y_train)\n",
        "y_pred = lgb.predict(X_val)\n",
        "print('LightGBM')\n",
        "print(\"Acc. :\", accuracy_score(y_val, y_pred))\n",
        "print(\"Prec. :\", precision_score(y_val, y_pred))\n",
        "print('Recall :', recall_score(y_val, y_pred))\n",
        "print('f1. :', f1_score(y_val, y_pred))"
      ]
    },
    {
      "cell_type": "markdown",
      "id": "508c7d2f",
      "metadata": {
        "papermill": {
          "duration": 0.113601,
          "end_time": "2022-04-07T07:01:44.172789",
          "exception": false,
          "start_time": "2022-04-07T07:01:44.059188",
          "status": "completed"
        },
        "tags": [],
        "id": "508c7d2f"
      },
      "source": [
        "- Reference : Confusion Matrix 혼동 행렬 쉽게 이해하기. https://truman.tistory.com/240"
      ]
    },
    {
      "cell_type": "markdown",
      "id": "848a8ccc",
      "metadata": {
        "papermill": {
          "duration": 0.114078,
          "end_time": "2022-04-07T07:01:44.401068",
          "exception": false,
          "start_time": "2022-04-07T07:01:44.286990",
          "status": "completed"
        },
        "tags": [],
        "id": "848a8ccc"
      },
      "source": [
        "# Submission\n",
        "- 검증 값이 가장 높은 LightGBM을 이용하였습니다.(Catboost를 몰랐을 때 이용하였습니다.)\n",
        "- 현재는 Catboost를 이용하였습니다.\n",
        "- CatBoost는 예측 시간이 매우 적은 유일한 증폭 알고리즘입니다. \n",
        "    + Reference : What’s so special about CatBoost? https://hanishrohit.medium.com/whats-so-special-about-catboost-335d64d754ae"
      ]
    },
    {
      "cell_type": "code",
      "execution_count": null,
      "id": "1662d26e",
      "metadata": {
        "execution": {
          "iopub.execute_input": "2022-04-07T07:01:44.631240Z",
          "iopub.status.busy": "2022-04-07T07:01:44.630630Z",
          "iopub.status.idle": "2022-04-07T07:01:44.725782Z",
          "shell.execute_reply": "2022-04-07T07:01:44.725072Z",
          "shell.execute_reply.started": "2022-04-07T06:58:13.938838Z"
        },
        "papermill": {
          "duration": 0.211492,
          "end_time": "2022-04-07T07:01:44.725933",
          "exception": false,
          "start_time": "2022-04-07T07:01:44.514441",
          "status": "completed"
        },
        "tags": [],
        "id": "1662d26e",
        "outputId": "12eb8739-2c78-4f5e-bcc8-02606d4463ac"
      },
      "outputs": [
        {
          "data": {
            "text/html": [
              "<div>\n",
              "<style scoped>\n",
              "    .dataframe tbody tr th:only-of-type {\n",
              "        vertical-align: middle;\n",
              "    }\n",
              "\n",
              "    .dataframe tbody tr th {\n",
              "        vertical-align: top;\n",
              "    }\n",
              "\n",
              "    .dataframe thead th {\n",
              "        text-align: right;\n",
              "    }\n",
              "</style>\n",
              "<table border=\"1\" class=\"dataframe\">\n",
              "  <thead>\n",
              "    <tr style=\"text-align: right;\">\n",
              "      <th></th>\n",
              "      <th>PassengerId</th>\n",
              "      <th>Transported</th>\n",
              "    </tr>\n",
              "  </thead>\n",
              "  <tbody>\n",
              "    <tr>\n",
              "      <th>0</th>\n",
              "      <td>0013_01</td>\n",
              "      <td>True</td>\n",
              "    </tr>\n",
              "    <tr>\n",
              "      <th>1</th>\n",
              "      <td>0018_01</td>\n",
              "      <td>False</td>\n",
              "    </tr>\n",
              "    <tr>\n",
              "      <th>2</th>\n",
              "      <td>0019_01</td>\n",
              "      <td>True</td>\n",
              "    </tr>\n",
              "    <tr>\n",
              "      <th>3</th>\n",
              "      <td>0021_01</td>\n",
              "      <td>True</td>\n",
              "    </tr>\n",
              "    <tr>\n",
              "      <th>4</th>\n",
              "      <td>0023_01</td>\n",
              "      <td>False</td>\n",
              "    </tr>\n",
              "  </tbody>\n",
              "</table>\n",
              "</div>"
            ],
            "text/plain": [
              "  PassengerId  Transported\n",
              "0     0013_01         True\n",
              "1     0018_01        False\n",
              "2     0019_01         True\n",
              "3     0021_01         True\n",
              "4     0023_01        False"
            ]
          },
          "execution_count": 50,
          "metadata": {},
          "output_type": "execute_result"
        }
      ],
      "source": [
        "\n",
        "test_preds = cb.predict(test.to_numpy())\n",
        "submission['Transported'] = test_preds.astype(\"bool\")\n",
        "submission.to_csv(\"submission.csv\",index=False)\n",
        "submission.head()\n"
      ]
    }
  ],
  "metadata": {
    "kernelspec": {
      "display_name": "Python 3",
      "language": "python",
      "name": "python3"
    },
    "language_info": {
      "codemirror_mode": {
        "name": "ipython",
        "version": 3
      },
      "file_extension": ".py",
      "mimetype": "text/x-python",
      "name": "python",
      "nbconvert_exporter": "python",
      "pygments_lexer": "ipython3",
      "version": "3.7.12"
    },
    "papermill": {
      "default_parameters": {},
      "duration": 177.04906,
      "end_time": "2022-04-07T07:01:48.173463",
      "environment_variables": {},
      "exception": null,
      "input_path": "__notebook__.ipynb",
      "output_path": "__notebook__.ipynb",
      "parameters": {},
      "start_time": "2022-04-07T06:58:51.124403",
      "version": "2.3.3"
    },
    "colab": {
      "name": "newbie-s-catboost-spaceship-titanic-prediction.ipynb",
      "provenance": [],
      "include_colab_link": true
    }
  },
  "nbformat": 4,
  "nbformat_minor": 5
}