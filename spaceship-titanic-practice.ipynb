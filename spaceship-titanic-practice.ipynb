{
 "cells": [
  {
   "cell_type": "code",
   "execution_count": 1,
   "id": "8a8850a7",
   "metadata": {
    "_cell_guid": "b1076dfc-b9ad-4769-8c92-a6c4dae69d19",
    "_uuid": "8f2839f25d086af736a60e9eeb907d3b93b6e0e5",
    "execution": {
     "iopub.execute_input": "2022-04-01T03:37:08.778699Z",
     "iopub.status.busy": "2022-04-01T03:37:08.776823Z",
     "iopub.status.idle": "2022-04-01T03:37:08.793449Z",
     "shell.execute_reply": "2022-04-01T03:37:08.794015Z",
     "shell.execute_reply.started": "2022-04-01T03:34:16.537383Z"
    },
    "papermill": {
     "duration": 0.052544,
     "end_time": "2022-04-01T03:37:08.794425",
     "exception": false,
     "start_time": "2022-04-01T03:37:08.741881",
     "status": "completed"
    },
    "tags": []
   },
   "outputs": [
    {
     "name": "stdout",
     "output_type": "stream",
     "text": [
      "/kaggle/input/spaceship-titanic/sample_submission.csv\n",
      "/kaggle/input/spaceship-titanic/train.csv\n",
      "/kaggle/input/spaceship-titanic/test.csv\n"
     ]
    }
   ],
   "source": [
    "# This Python 3 environment comes with many helpful analytics libraries installed\n",
    "# It is defined by the kaggle/python Docker image: https://github.com/kaggle/docker-python\n",
    "# For example, here's several helpful packages to load\n",
    "\n",
    "import numpy as np # linear algebra\n",
    "import pandas as pd # data processing, CSV file I/O (e.g. pd.read_csv)\n",
    "\n",
    "# Input data files are available in the read-only \"../input/\" directory\n",
    "# For example, running this (by clicking run or pressing Shift+Enter) will list all files under the input directory\n",
    "\n",
    "import os\n",
    "for dirname, _, filenames in os.walk('/kaggle/input'):\n",
    "    for filename in filenames:\n",
    "        print(os.path.join(dirname, filename))\n",
    "\n",
    "# You can write up to 20GB to the current directory (/kaggle/working/) that gets preserved as output when you create a version using \"Save & Run All\" \n",
    "# You can also write temporary files to /kaggle/temp/, but they won't be saved outside of the current session"
   ]
  },
  {
   "cell_type": "markdown",
   "id": "67bb4952",
   "metadata": {
    "papermill": {
     "duration": 0.035743,
     "end_time": "2022-04-01T03:37:08.863221",
     "exception": false,
     "start_time": "2022-04-01T03:37:08.827478",
     "status": "completed"
    },
    "tags": []
   },
   "source": [
    "# Step 1. Loading Libraries and Data\n"
   ]
  },
  {
   "cell_type": "markdown",
   "id": "a4d4b1ce",
   "metadata": {
    "papermill": {
     "duration": 0.035156,
     "end_time": "2022-04-01T03:37:08.934808",
     "exception": false,
     "start_time": "2022-04-01T03:37:08.899652",
     "status": "completed"
    },
    "tags": []
   },
   "source": [
    "## Import Libraries"
   ]
  },
  {
   "cell_type": "code",
   "execution_count": 2,
   "id": "4ed7fdca",
   "metadata": {
    "execution": {
     "iopub.execute_input": "2022-04-01T03:37:09.000218Z",
     "iopub.status.busy": "2022-04-01T03:37:08.999429Z",
     "iopub.status.idle": "2022-04-01T03:38:36.098780Z",
     "shell.execute_reply": "2022-04-01T03:38:36.097641Z",
     "shell.execute_reply.started": "2022-04-01T03:34:16.585028Z"
    },
    "papermill": {
     "duration": 87.135298,
     "end_time": "2022-04-01T03:38:36.098995",
     "exception": false,
     "start_time": "2022-04-01T03:37:08.963697",
     "status": "completed"
    },
    "tags": []
   },
   "outputs": [],
   "source": [
    "from IPython.display import clear_output\n",
    "!pip3 install -U lazypredict\n",
    "!pip3 install -U pandas #Upgraing pandas\n",
    "\n",
    "clear_output()"
   ]
  },
  {
   "cell_type": "code",
   "execution_count": 3,
   "id": "2b340f4a",
   "metadata": {
    "execution": {
     "iopub.execute_input": "2022-04-01T03:38:36.169118Z",
     "iopub.status.busy": "2022-04-01T03:38:36.167836Z",
     "iopub.status.idle": "2022-04-01T03:38:39.171335Z",
     "shell.execute_reply": "2022-04-01T03:38:39.170348Z",
     "shell.execute_reply.started": "2022-04-01T03:34:46.387847Z"
    },
    "papermill": {
     "duration": 3.043025,
     "end_time": "2022-04-01T03:38:39.171550",
     "exception": false,
     "start_time": "2022-04-01T03:38:36.128525",
     "status": "completed"
    },
    "tags": []
   },
   "outputs": [
    {
     "data": {
      "text/html": [
       "<style type='text/css'>\n",
       ".datatable table.frame { margin-bottom: 0; }\n",
       ".datatable table.frame thead { border-bottom: none; }\n",
       ".datatable table.frame tr.coltypes td {  color: #FFFFFF;  line-height: 6px;  padding: 0 0.5em;}\n",
       ".datatable .bool    { background: #DDDD99; }\n",
       ".datatable .object  { background: #565656; }\n",
       ".datatable .int     { background: #5D9E5D; }\n",
       ".datatable .float   { background: #4040CC; }\n",
       ".datatable .str     { background: #CC4040; }\n",
       ".datatable .time    { background: #40CC40; }\n",
       ".datatable .row_index {  background: var(--jp-border-color3);  border-right: 1px solid var(--jp-border-color0);  color: var(--jp-ui-font-color3);  font-size: 9px;}\n",
       ".datatable .frame tbody td { text-align: left; }\n",
       ".datatable .frame tr.coltypes .row_index {  background: var(--jp-border-color0);}\n",
       ".datatable th:nth-child(2) { padding-left: 12px; }\n",
       ".datatable .hellipsis {  color: var(--jp-cell-editor-border-color);}\n",
       ".datatable .vellipsis {  background: var(--jp-layout-color0);  color: var(--jp-cell-editor-border-color);}\n",
       ".datatable .na {  color: var(--jp-cell-editor-border-color);  font-size: 80%;}\n",
       ".datatable .sp {  opacity: 0.25;}\n",
       ".datatable .footer { font-size: 9px; }\n",
       ".datatable .frame_dimensions {  background: var(--jp-border-color3);  border-top: 1px solid var(--jp-border-color0);  color: var(--jp-ui-font-color3);  display: inline-block;  opacity: 0.6;  padding: 1px 10px 1px 5px;}\n",
       "</style>\n"
      ],
      "text/plain": [
       "<IPython.core.display.HTML object>"
      ]
     },
     "metadata": {},
     "output_type": "display_data"
    },
    {
     "name": "stderr",
     "output_type": "stream",
     "text": [
      "/opt/conda/lib/python3.7/site-packages/sklearn/utils/deprecation.py:143: FutureWarning: The sklearn.utils.testing module is  deprecated in version 0.22 and will be removed in version 0.24. The corresponding classes / functions should instead be imported from sklearn.utils. Anything that cannot be imported from sklearn.utils is now part of the private API.\n",
      "  warnings.warn(message, FutureWarning)\n"
     ]
    }
   ],
   "source": [
    "import numpy as ns\n",
    "import pandas as pd\n",
    "import seaborn as sns\n",
    "import plotly.express as px\n",
    "import matplotlib.pyplot as plt\n",
    "import plotly.graph_objects as go\n",
    "from plotly.subplots import make_subplots\n",
    "\n",
    "\n",
    "from sklearn.impute import SimpleImputer\n",
    "from sklearn.metrics import accuracy_score\n",
    "from sklearn.preprocessing import LabelEncoder\n",
    "from sklearn.model_selection import StratifiedKFold, train_test_split\n",
    "\n",
    "from lightgbm import LGBMClassifier\n",
    "import lazypredict\n",
    "from lazypredict.Supervised import LazyClassifier\n",
    "\n",
    "import time\n",
    "import warnings\n",
    "warnings.filterwarnings('ignore')"
   ]
  },
  {
   "cell_type": "markdown",
   "id": "182f03ed",
   "metadata": {
    "papermill": {
     "duration": 0.032974,
     "end_time": "2022-04-01T03:38:39.234764",
     "exception": false,
     "start_time": "2022-04-01T03:38:39.201790",
     "status": "completed"
    },
    "tags": []
   },
   "source": [
    "# Data Loading and Preparation"
   ]
  },
  {
   "cell_type": "code",
   "execution_count": 4,
   "id": "0458b4e3",
   "metadata": {
    "execution": {
     "iopub.execute_input": "2022-04-01T03:38:39.304509Z",
     "iopub.status.busy": "2022-04-01T03:38:39.303140Z",
     "iopub.status.idle": "2022-04-01T03:38:39.404986Z",
     "shell.execute_reply": "2022-04-01T03:38:39.404269Z",
     "shell.execute_reply.started": "2022-04-01T03:34:46.399260Z"
    },
    "papermill": {
     "duration": 0.137393,
     "end_time": "2022-04-01T03:38:39.405196",
     "exception": false,
     "start_time": "2022-04-01T03:38:39.267803",
     "status": "completed"
    },
    "tags": []
   },
   "outputs": [],
   "source": [
    "train = pd.read_csv(\"../input/spaceship-titanic/train.csv\")\n",
    "test = pd.read_csv(\"../input/spaceship-titanic/test.csv\")\n",
    "submission = pd.read_csv(\"../input/spaceship-titanic/sample_submission.csv\")\n",
    "\n",
    "\n",
    "RANDOM_STATE = 12\n",
    "FOLDS = 5\n",
    "STARTEGY = 'median'"
   ]
  },
  {
   "cell_type": "markdown",
   "id": "5c0fe805",
   "metadata": {
    "papermill": {
     "duration": 0.032215,
     "end_time": "2022-04-01T03:38:39.469746",
     "exception": false,
     "start_time": "2022-04-01T03:38:39.437531",
     "status": "completed"
    },
    "tags": []
   },
   "source": [
    "## Column Descriptions : \n",
    "- PassengerId - A unique Id for each passenger. Each Id takes the form gggg_pp where gggg indicates a group the passenger is travelling with and pp is their number within the group. People in a group are often family members, but not always.\n",
    "- HomePlanet - The planet the passenger departed from, typically their planet of permanent residence.\n",
    "- CryoSleep - Indicates whether the passenger elected to be put into suspended animation for the duration of the voyage. Passengers in cryosleep are confined to their cabins.\n",
    "- Cabin - The cabin number where the passenger is staying. Takes the form deck/num/side, where side can be either P for Port or S for Starboard.\n",
    "- Destination - The planet the passenger will be debarking to.\n",
    "- Age - The age of the passenger.\n",
    "- VIP - Whether the passenger has paid for special VIP service during the voyage.\n",
    "- RoomService, FoodCourt, ShoppingMall, Spa, VRDeck - Amount the passenger has billed at each of the Spaceship Titanic's many luxury amenities.\n",
    "- Name - The first and last names of the passenger.\n",
    "- Transported - Whether the passenger was transported to another dimension. This is the target, the column you are trying to predict."
   ]
  },
  {
   "cell_type": "markdown",
   "id": "39f53956",
   "metadata": {
    "papermill": {
     "duration": 0.032265,
     "end_time": "2022-04-01T03:38:39.534588",
     "exception": false,
     "start_time": "2022-04-01T03:38:39.502323",
     "status": "completed"
    },
    "tags": []
   },
   "source": [
    "## Exploring Train Data"
   ]
  },
  {
   "cell_type": "markdown",
   "id": "121252a9",
   "metadata": {
    "papermill": {
     "duration": 0.030121,
     "end_time": "2022-04-01T03:38:39.595878",
     "exception": false,
     "start_time": "2022-04-01T03:38:39.565757",
     "status": "completed"
    },
    "tags": []
   },
   "source": [
    "📌  Observations in Train Data:\n",
    "* There are total of 14 columns and 8693 rows in train data.\n",
    "* Train data contains 119378 observation with 2324 missing values.\n",
    "* All 12 feature columns have missing values in them with CryoSleep having highest missing values (217)\n",
    "* Transported is the target variable which is only available in the train dataset."
   ]
  },
  {
   "cell_type": "markdown",
   "id": "e4c99c30",
   "metadata": {
    "papermill": {
     "duration": 0.032112,
     "end_time": "2022-04-01T03:38:39.660657",
     "exception": false,
     "start_time": "2022-04-01T03:38:39.628545",
     "status": "completed"
    },
    "tags": []
   },
   "source": [
    "### Quick view of Train Data:\n",
    "velow are the first 5 rows of train dataset:"
   ]
  },
  {
   "cell_type": "code",
   "execution_count": 5,
   "id": "9b772def",
   "metadata": {
    "execution": {
     "iopub.execute_input": "2022-04-01T03:38:39.736456Z",
     "iopub.status.busy": "2022-04-01T03:38:39.735523Z",
     "iopub.status.idle": "2022-04-01T03:38:39.759572Z",
     "shell.execute_reply": "2022-04-01T03:38:39.760293Z",
     "shell.execute_reply.started": "2022-04-01T03:34:46.483800Z"
    },
    "papermill": {
     "duration": 0.065432,
     "end_time": "2022-04-01T03:38:39.760511",
     "exception": false,
     "start_time": "2022-04-01T03:38:39.695079",
     "status": "completed"
    },
    "tags": []
   },
   "outputs": [
    {
     "data": {
      "text/html": [
       "<div>\n",
       "<style scoped>\n",
       "    .dataframe tbody tr th:only-of-type {\n",
       "        vertical-align: middle;\n",
       "    }\n",
       "\n",
       "    .dataframe tbody tr th {\n",
       "        vertical-align: top;\n",
       "    }\n",
       "\n",
       "    .dataframe thead th {\n",
       "        text-align: right;\n",
       "    }\n",
       "</style>\n",
       "<table border=\"1\" class=\"dataframe\">\n",
       "  <thead>\n",
       "    <tr style=\"text-align: right;\">\n",
       "      <th></th>\n",
       "      <th>PassengerId</th>\n",
       "      <th>HomePlanet</th>\n",
       "      <th>CryoSleep</th>\n",
       "      <th>Cabin</th>\n",
       "      <th>Destination</th>\n",
       "      <th>Age</th>\n",
       "      <th>VIP</th>\n",
       "      <th>RoomService</th>\n",
       "      <th>FoodCourt</th>\n",
       "      <th>ShoppingMall</th>\n",
       "      <th>Spa</th>\n",
       "      <th>VRDeck</th>\n",
       "      <th>Name</th>\n",
       "      <th>Transported</th>\n",
       "    </tr>\n",
       "  </thead>\n",
       "  <tbody>\n",
       "    <tr>\n",
       "      <th>0</th>\n",
       "      <td>0001_01</td>\n",
       "      <td>Europa</td>\n",
       "      <td>False</td>\n",
       "      <td>B/0/P</td>\n",
       "      <td>TRAPPIST-1e</td>\n",
       "      <td>39.00</td>\n",
       "      <td>False</td>\n",
       "      <td>0.00</td>\n",
       "      <td>0.00</td>\n",
       "      <td>0.00</td>\n",
       "      <td>0.00</td>\n",
       "      <td>0.00</td>\n",
       "      <td>Maham Ofracculy</td>\n",
       "      <td>False</td>\n",
       "    </tr>\n",
       "    <tr>\n",
       "      <th>1</th>\n",
       "      <td>0002_01</td>\n",
       "      <td>Earth</td>\n",
       "      <td>False</td>\n",
       "      <td>F/0/S</td>\n",
       "      <td>TRAPPIST-1e</td>\n",
       "      <td>24.00</td>\n",
       "      <td>False</td>\n",
       "      <td>109.00</td>\n",
       "      <td>9.00</td>\n",
       "      <td>25.00</td>\n",
       "      <td>549.00</td>\n",
       "      <td>44.00</td>\n",
       "      <td>Juanna Vines</td>\n",
       "      <td>True</td>\n",
       "    </tr>\n",
       "    <tr>\n",
       "      <th>2</th>\n",
       "      <td>0003_01</td>\n",
       "      <td>Europa</td>\n",
       "      <td>False</td>\n",
       "      <td>A/0/S</td>\n",
       "      <td>TRAPPIST-1e</td>\n",
       "      <td>58.00</td>\n",
       "      <td>True</td>\n",
       "      <td>43.00</td>\n",
       "      <td>3576.00</td>\n",
       "      <td>0.00</td>\n",
       "      <td>6715.00</td>\n",
       "      <td>49.00</td>\n",
       "      <td>Altark Susent</td>\n",
       "      <td>False</td>\n",
       "    </tr>\n",
       "    <tr>\n",
       "      <th>3</th>\n",
       "      <td>0003_02</td>\n",
       "      <td>Europa</td>\n",
       "      <td>False</td>\n",
       "      <td>A/0/S</td>\n",
       "      <td>TRAPPIST-1e</td>\n",
       "      <td>33.00</td>\n",
       "      <td>False</td>\n",
       "      <td>0.00</td>\n",
       "      <td>1283.00</td>\n",
       "      <td>371.00</td>\n",
       "      <td>3329.00</td>\n",
       "      <td>193.00</td>\n",
       "      <td>Solam Susent</td>\n",
       "      <td>False</td>\n",
       "    </tr>\n",
       "    <tr>\n",
       "      <th>4</th>\n",
       "      <td>0004_01</td>\n",
       "      <td>Earth</td>\n",
       "      <td>False</td>\n",
       "      <td>F/1/S</td>\n",
       "      <td>TRAPPIST-1e</td>\n",
       "      <td>16.00</td>\n",
       "      <td>False</td>\n",
       "      <td>303.00</td>\n",
       "      <td>70.00</td>\n",
       "      <td>151.00</td>\n",
       "      <td>565.00</td>\n",
       "      <td>2.00</td>\n",
       "      <td>Willy Santantines</td>\n",
       "      <td>True</td>\n",
       "    </tr>\n",
       "  </tbody>\n",
       "</table>\n",
       "</div>"
      ],
      "text/plain": [
       "  PassengerId HomePlanet CryoSleep  Cabin  Destination   Age    VIP  \\\n",
       "0     0001_01     Europa     False  B/0/P  TRAPPIST-1e 39.00  False   \n",
       "1     0002_01      Earth     False  F/0/S  TRAPPIST-1e 24.00  False   \n",
       "2     0003_01     Europa     False  A/0/S  TRAPPIST-1e 58.00   True   \n",
       "3     0003_02     Europa     False  A/0/S  TRAPPIST-1e 33.00  False   \n",
       "4     0004_01      Earth     False  F/1/S  TRAPPIST-1e 16.00  False   \n",
       "\n",
       "   RoomService  FoodCourt  ShoppingMall     Spa  VRDeck               Name  \\\n",
       "0         0.00       0.00          0.00    0.00    0.00    Maham Ofracculy   \n",
       "1       109.00       9.00         25.00  549.00   44.00       Juanna Vines   \n",
       "2        43.00    3576.00          0.00 6715.00   49.00      Altark Susent   \n",
       "3         0.00    1283.00        371.00 3329.00  193.00       Solam Susent   \n",
       "4       303.00      70.00        151.00  565.00    2.00  Willy Santantines   \n",
       "\n",
       "   Transported  \n",
       "0        False  \n",
       "1         True  \n",
       "2        False  \n",
       "3        False  \n",
       "4         True  "
      ]
     },
     "execution_count": 5,
     "metadata": {},
     "output_type": "execute_result"
    }
   ],
   "source": [
    "train.head()"
   ]
  },
  {
   "cell_type": "code",
   "execution_count": 6,
   "id": "759ec988",
   "metadata": {
    "execution": {
     "iopub.execute_input": "2022-04-01T03:38:39.831256Z",
     "iopub.status.busy": "2022-04-01T03:38:39.830296Z",
     "iopub.status.idle": "2022-04-01T03:38:39.864605Z",
     "shell.execute_reply": "2022-04-01T03:38:39.865281Z",
     "shell.execute_reply.started": "2022-04-01T03:34:46.504868Z"
    },
    "papermill": {
     "duration": 0.073759,
     "end_time": "2022-04-01T03:38:39.865540",
     "exception": false,
     "start_time": "2022-04-01T03:38:39.791781",
     "status": "completed"
    },
    "tags": []
   },
   "outputs": [
    {
     "name": "stdout",
     "output_type": "stream",
     "text": [
      "\u001b[94mNumber of rows in train data: 8693\n",
      "\u001b[94mNumber of columns in train data: 14\n",
      "\u001b[94mNumber of values in train data: 119378\n",
      "\u001b[94mNumber of values in train data: 2324\n"
     ]
    }
   ],
   "source": [
    "print(f'\\033[94mNumber of rows in train data: {train.shape[0]}')\n",
    "print(f'\\033[94mNumber of columns in train data: {train.shape[1]}')\n",
    "print(f'\\033[94mNumber of values in train data: {train.count().sum()}')\n",
    "print(f'\\033[94mNumber of values in train data: {sum(train.isna().sum())}')      "
   ]
  },
  {
   "cell_type": "markdown",
   "id": "8db82075",
   "metadata": {
    "papermill": {
     "duration": 0.032036,
     "end_time": "2022-04-01T03:38:39.931162",
     "exception": false,
     "start_time": "2022-04-01T03:38:39.899126",
     "status": "completed"
    },
    "tags": []
   },
   "source": [
    "### Column Wise missing values:\n"
   ]
  },
  {
   "cell_type": "code",
   "execution_count": 7,
   "id": "515a2a8e",
   "metadata": {
    "execution": {
     "iopub.execute_input": "2022-04-01T03:38:40.010075Z",
     "iopub.status.busy": "2022-04-01T03:38:40.009127Z",
     "iopub.status.idle": "2022-04-01T03:38:40.023878Z",
     "shell.execute_reply": "2022-04-01T03:38:40.025407Z",
     "shell.execute_reply.started": "2022-04-01T03:34:46.538560Z"
    },
    "papermill": {
     "duration": 0.060075,
     "end_time": "2022-04-01T03:38:40.025793",
     "exception": false,
     "start_time": "2022-04-01T03:38:39.965718",
     "status": "completed"
    },
    "tags": []
   },
   "outputs": [
    {
     "name": "stdout",
     "output_type": "stream",
     "text": [
      "\u001b[94m\n",
      "CryoSleep       217\n",
      "ShoppingMall    208\n",
      "VIP             203\n",
      "HomePlanet      201\n",
      "Name            200\n",
      "Cabin           199\n",
      "VRDeck          188\n",
      "FoodCourt       183\n",
      "Spa             183\n",
      "Destination     182\n",
      "RoomService     181\n",
      "Age             179\n",
      "PassengerId       0\n",
      "Transported       0\n",
      "dtype: int64\n"
     ]
    }
   ],
   "source": [
    "print(f'\\033[94m')\n",
    "print(train.isna().sum().sort_values(ascending = False))"
   ]
  },
  {
   "cell_type": "markdown",
   "id": "8fc32587",
   "metadata": {
    "papermill": {
     "duration": 0.033167,
     "end_time": "2022-04-01T03:38:40.093590",
     "exception": false,
     "start_time": "2022-04-01T03:38:40.060423",
     "status": "completed"
    },
    "tags": []
   },
   "source": [
    "### Basic statistics of training data:\n",
    "Below is the basic statistics for each variables which contain information on count, mean, standard deviation, minimum, 1st quartile, median, 3rd quartile and maximum."
   ]
  },
  {
   "cell_type": "code",
   "execution_count": 8,
   "id": "716f1fa1",
   "metadata": {
    "execution": {
     "iopub.execute_input": "2022-04-01T03:38:40.165406Z",
     "iopub.status.busy": "2022-04-01T03:38:40.164526Z",
     "iopub.status.idle": "2022-04-01T03:38:40.203873Z",
     "shell.execute_reply": "2022-04-01T03:38:40.204463Z",
     "shell.execute_reply.started": "2022-04-01T03:34:46.556782Z"
    },
    "papermill": {
     "duration": 0.075864,
     "end_time": "2022-04-01T03:38:40.204671",
     "exception": false,
     "start_time": "2022-04-01T03:38:40.128807",
     "status": "completed"
    },
    "tags": []
   },
   "outputs": [
    {
     "data": {
      "text/html": [
       "<div>\n",
       "<style scoped>\n",
       "    .dataframe tbody tr th:only-of-type {\n",
       "        vertical-align: middle;\n",
       "    }\n",
       "\n",
       "    .dataframe tbody tr th {\n",
       "        vertical-align: top;\n",
       "    }\n",
       "\n",
       "    .dataframe thead th {\n",
       "        text-align: right;\n",
       "    }\n",
       "</style>\n",
       "<table border=\"1\" class=\"dataframe\">\n",
       "  <thead>\n",
       "    <tr style=\"text-align: right;\">\n",
       "      <th></th>\n",
       "      <th>Age</th>\n",
       "      <th>RoomService</th>\n",
       "      <th>FoodCourt</th>\n",
       "      <th>ShoppingMall</th>\n",
       "      <th>Spa</th>\n",
       "      <th>VRDeck</th>\n",
       "    </tr>\n",
       "  </thead>\n",
       "  <tbody>\n",
       "    <tr>\n",
       "      <th>count</th>\n",
       "      <td>8514.00</td>\n",
       "      <td>8512.00</td>\n",
       "      <td>8510.00</td>\n",
       "      <td>8485.00</td>\n",
       "      <td>8510.00</td>\n",
       "      <td>8505.00</td>\n",
       "    </tr>\n",
       "    <tr>\n",
       "      <th>mean</th>\n",
       "      <td>28.83</td>\n",
       "      <td>224.69</td>\n",
       "      <td>458.08</td>\n",
       "      <td>173.73</td>\n",
       "      <td>311.14</td>\n",
       "      <td>304.85</td>\n",
       "    </tr>\n",
       "    <tr>\n",
       "      <th>std</th>\n",
       "      <td>14.49</td>\n",
       "      <td>666.72</td>\n",
       "      <td>1611.49</td>\n",
       "      <td>604.70</td>\n",
       "      <td>1136.71</td>\n",
       "      <td>1145.72</td>\n",
       "    </tr>\n",
       "    <tr>\n",
       "      <th>min</th>\n",
       "      <td>0.00</td>\n",
       "      <td>0.00</td>\n",
       "      <td>0.00</td>\n",
       "      <td>0.00</td>\n",
       "      <td>0.00</td>\n",
       "      <td>0.00</td>\n",
       "    </tr>\n",
       "    <tr>\n",
       "      <th>25%</th>\n",
       "      <td>19.00</td>\n",
       "      <td>0.00</td>\n",
       "      <td>0.00</td>\n",
       "      <td>0.00</td>\n",
       "      <td>0.00</td>\n",
       "      <td>0.00</td>\n",
       "    </tr>\n",
       "    <tr>\n",
       "      <th>50%</th>\n",
       "      <td>27.00</td>\n",
       "      <td>0.00</td>\n",
       "      <td>0.00</td>\n",
       "      <td>0.00</td>\n",
       "      <td>0.00</td>\n",
       "      <td>0.00</td>\n",
       "    </tr>\n",
       "    <tr>\n",
       "      <th>75%</th>\n",
       "      <td>38.00</td>\n",
       "      <td>47.00</td>\n",
       "      <td>76.00</td>\n",
       "      <td>27.00</td>\n",
       "      <td>59.00</td>\n",
       "      <td>46.00</td>\n",
       "    </tr>\n",
       "    <tr>\n",
       "      <th>max</th>\n",
       "      <td>79.00</td>\n",
       "      <td>14327.00</td>\n",
       "      <td>29813.00</td>\n",
       "      <td>23492.00</td>\n",
       "      <td>22408.00</td>\n",
       "      <td>24133.00</td>\n",
       "    </tr>\n",
       "  </tbody>\n",
       "</table>\n",
       "</div>"
      ],
      "text/plain": [
       "          Age  RoomService  FoodCourt  ShoppingMall      Spa   VRDeck\n",
       "count 8514.00      8512.00    8510.00       8485.00  8510.00  8505.00\n",
       "mean    28.83       224.69     458.08        173.73   311.14   304.85\n",
       "std     14.49       666.72    1611.49        604.70  1136.71  1145.72\n",
       "min      0.00         0.00       0.00          0.00     0.00     0.00\n",
       "25%     19.00         0.00       0.00          0.00     0.00     0.00\n",
       "50%     27.00         0.00       0.00          0.00     0.00     0.00\n",
       "75%     38.00        47.00      76.00         27.00    59.00    46.00\n",
       "max     79.00     14327.00   29813.00      23492.00 22408.00 24133.00"
      ]
     },
     "execution_count": 8,
     "metadata": {},
     "output_type": "execute_result"
    }
   ],
   "source": [
    "train.describe()"
   ]
  },
  {
   "cell_type": "markdown",
   "id": "e514db6b",
   "metadata": {
    "papermill": {
     "duration": 0.03185,
     "end_time": "2022-04-01T03:38:40.274346",
     "exception": false,
     "start_time": "2022-04-01T03:38:40.242496",
     "status": "completed"
    },
    "tags": []
   },
   "source": [
    "## Exploring Test Data"
   ]
  },
  {
   "cell_type": "markdown",
   "id": "7612c992",
   "metadata": {
    "papermill": {
     "duration": 0.031764,
     "end_time": "2022-04-01T03:38:40.338108",
     "exception": false,
     "start_time": "2022-04-01T03:38:40.306344",
     "status": "completed"
    },
    "tags": []
   },
   "source": [
    "📌  Observations in Test Data:\n",
    "* There are total of 13 columns and 4277 rows in test data.\n",
    "* Train data contains 54484 observation with 1117 missing values.\n",
    "* All 12 feature columns have missing values in them with FoodCourt having highest missing values (106)"
   ]
  },
  {
   "cell_type": "markdown",
   "id": "f9510fcc",
   "metadata": {
    "papermill": {
     "duration": 0.03244,
     "end_time": "2022-04-01T03:38:40.405978",
     "exception": false,
     "start_time": "2022-04-01T03:38:40.373538",
     "status": "completed"
    },
    "tags": []
   },
   "source": [
    "### Quick view of Test Data"
   ]
  },
  {
   "cell_type": "code",
   "execution_count": 9,
   "id": "7ee3840b",
   "metadata": {
    "execution": {
     "iopub.execute_input": "2022-04-01T03:38:40.493800Z",
     "iopub.status.busy": "2022-04-01T03:38:40.492164Z",
     "iopub.status.idle": "2022-04-01T03:38:40.498250Z",
     "shell.execute_reply": "2022-04-01T03:38:40.497522Z",
     "shell.execute_reply.started": "2022-04-01T03:34:46.593564Z"
    },
    "papermill": {
     "duration": 0.059052,
     "end_time": "2022-04-01T03:38:40.498437",
     "exception": false,
     "start_time": "2022-04-01T03:38:40.439385",
     "status": "completed"
    },
    "tags": []
   },
   "outputs": [
    {
     "data": {
      "text/html": [
       "<div>\n",
       "<style scoped>\n",
       "    .dataframe tbody tr th:only-of-type {\n",
       "        vertical-align: middle;\n",
       "    }\n",
       "\n",
       "    .dataframe tbody tr th {\n",
       "        vertical-align: top;\n",
       "    }\n",
       "\n",
       "    .dataframe thead th {\n",
       "        text-align: right;\n",
       "    }\n",
       "</style>\n",
       "<table border=\"1\" class=\"dataframe\">\n",
       "  <thead>\n",
       "    <tr style=\"text-align: right;\">\n",
       "      <th></th>\n",
       "      <th>PassengerId</th>\n",
       "      <th>HomePlanet</th>\n",
       "      <th>CryoSleep</th>\n",
       "      <th>Cabin</th>\n",
       "      <th>Destination</th>\n",
       "      <th>Age</th>\n",
       "      <th>VIP</th>\n",
       "      <th>RoomService</th>\n",
       "      <th>FoodCourt</th>\n",
       "      <th>ShoppingMall</th>\n",
       "      <th>Spa</th>\n",
       "      <th>VRDeck</th>\n",
       "      <th>Name</th>\n",
       "    </tr>\n",
       "  </thead>\n",
       "  <tbody>\n",
       "    <tr>\n",
       "      <th>0</th>\n",
       "      <td>0013_01</td>\n",
       "      <td>Earth</td>\n",
       "      <td>True</td>\n",
       "      <td>G/3/S</td>\n",
       "      <td>TRAPPIST-1e</td>\n",
       "      <td>27.00</td>\n",
       "      <td>False</td>\n",
       "      <td>0.00</td>\n",
       "      <td>0.00</td>\n",
       "      <td>0.00</td>\n",
       "      <td>0.00</td>\n",
       "      <td>0.00</td>\n",
       "      <td>Nelly Carsoning</td>\n",
       "    </tr>\n",
       "    <tr>\n",
       "      <th>1</th>\n",
       "      <td>0018_01</td>\n",
       "      <td>Earth</td>\n",
       "      <td>False</td>\n",
       "      <td>F/4/S</td>\n",
       "      <td>TRAPPIST-1e</td>\n",
       "      <td>19.00</td>\n",
       "      <td>False</td>\n",
       "      <td>0.00</td>\n",
       "      <td>9.00</td>\n",
       "      <td>0.00</td>\n",
       "      <td>2823.00</td>\n",
       "      <td>0.00</td>\n",
       "      <td>Lerome Peckers</td>\n",
       "    </tr>\n",
       "    <tr>\n",
       "      <th>2</th>\n",
       "      <td>0019_01</td>\n",
       "      <td>Europa</td>\n",
       "      <td>True</td>\n",
       "      <td>C/0/S</td>\n",
       "      <td>55 Cancri e</td>\n",
       "      <td>31.00</td>\n",
       "      <td>False</td>\n",
       "      <td>0.00</td>\n",
       "      <td>0.00</td>\n",
       "      <td>0.00</td>\n",
       "      <td>0.00</td>\n",
       "      <td>0.00</td>\n",
       "      <td>Sabih Unhearfus</td>\n",
       "    </tr>\n",
       "    <tr>\n",
       "      <th>3</th>\n",
       "      <td>0021_01</td>\n",
       "      <td>Europa</td>\n",
       "      <td>False</td>\n",
       "      <td>C/1/S</td>\n",
       "      <td>TRAPPIST-1e</td>\n",
       "      <td>38.00</td>\n",
       "      <td>False</td>\n",
       "      <td>0.00</td>\n",
       "      <td>6652.00</td>\n",
       "      <td>0.00</td>\n",
       "      <td>181.00</td>\n",
       "      <td>585.00</td>\n",
       "      <td>Meratz Caltilter</td>\n",
       "    </tr>\n",
       "    <tr>\n",
       "      <th>4</th>\n",
       "      <td>0023_01</td>\n",
       "      <td>Earth</td>\n",
       "      <td>False</td>\n",
       "      <td>F/5/S</td>\n",
       "      <td>TRAPPIST-1e</td>\n",
       "      <td>20.00</td>\n",
       "      <td>False</td>\n",
       "      <td>10.00</td>\n",
       "      <td>0.00</td>\n",
       "      <td>635.00</td>\n",
       "      <td>0.00</td>\n",
       "      <td>0.00</td>\n",
       "      <td>Brence Harperez</td>\n",
       "    </tr>\n",
       "  </tbody>\n",
       "</table>\n",
       "</div>"
      ],
      "text/plain": [
       "  PassengerId HomePlanet CryoSleep  Cabin  Destination   Age    VIP  \\\n",
       "0     0013_01      Earth      True  G/3/S  TRAPPIST-1e 27.00  False   \n",
       "1     0018_01      Earth     False  F/4/S  TRAPPIST-1e 19.00  False   \n",
       "2     0019_01     Europa      True  C/0/S  55 Cancri e 31.00  False   \n",
       "3     0021_01     Europa     False  C/1/S  TRAPPIST-1e 38.00  False   \n",
       "4     0023_01      Earth     False  F/5/S  TRAPPIST-1e 20.00  False   \n",
       "\n",
       "   RoomService  FoodCourt  ShoppingMall     Spa  VRDeck              Name  \n",
       "0         0.00       0.00          0.00    0.00    0.00   Nelly Carsoning  \n",
       "1         0.00       9.00          0.00 2823.00    0.00    Lerome Peckers  \n",
       "2         0.00       0.00          0.00    0.00    0.00   Sabih Unhearfus  \n",
       "3         0.00    6652.00          0.00  181.00  585.00  Meratz Caltilter  \n",
       "4        10.00       0.00        635.00    0.00    0.00   Brence Harperez  "
      ]
     },
     "execution_count": 9,
     "metadata": {},
     "output_type": "execute_result"
    }
   ],
   "source": [
    "test.head()"
   ]
  },
  {
   "cell_type": "code",
   "execution_count": 10,
   "id": "2d8ed5ee",
   "metadata": {
    "execution": {
     "iopub.execute_input": "2022-04-01T03:38:40.585467Z",
     "iopub.status.busy": "2022-04-01T03:38:40.577771Z",
     "iopub.status.idle": "2022-04-01T03:38:40.589026Z",
     "shell.execute_reply": "2022-04-01T03:38:40.588348Z",
     "shell.execute_reply.started": "2022-04-01T03:34:46.613622Z"
    },
    "papermill": {
     "duration": 0.055547,
     "end_time": "2022-04-01T03:38:40.589205",
     "exception": false,
     "start_time": "2022-04-01T03:38:40.533658",
     "status": "completed"
    },
    "tags": []
   },
   "outputs": [
    {
     "name": "stdout",
     "output_type": "stream",
     "text": [
      "\u001b[94mNumber of rows in test data: 4277\n",
      "\u001b[94mNumber of columns in test data: 13\n",
      "\u001b[94mNumber of values in test data: 54484\n",
      "\u001b[94mNumber of values in test data: 1117\n"
     ]
    }
   ],
   "source": [
    "print(f'\\033[94mNumber of rows in test data: {test.shape[0]}')\n",
    "print(f'\\033[94mNumber of columns in test data: {test.shape[1]}')\n",
    "print(f'\\033[94mNumber of values in test data: {test.count().sum()}')\n",
    "print(f'\\033[94mNumber of values in test data: {sum(test.isna().sum())}')      "
   ]
  },
  {
   "cell_type": "markdown",
   "id": "afa8a9d4",
   "metadata": {
    "papermill": {
     "duration": 0.032629,
     "end_time": "2022-04-01T03:38:40.655651",
     "exception": false,
     "start_time": "2022-04-01T03:38:40.623022",
     "status": "completed"
    },
    "tags": []
   },
   "source": [
    "### Column Wise missing values"
   ]
  },
  {
   "cell_type": "code",
   "execution_count": 11,
   "id": "b393a93f",
   "metadata": {
    "execution": {
     "iopub.execute_input": "2022-04-01T03:38:40.736072Z",
     "iopub.status.busy": "2022-04-01T03:38:40.733118Z",
     "iopub.status.idle": "2022-04-01T03:38:40.742532Z",
     "shell.execute_reply": "2022-04-01T03:38:40.741043Z",
     "shell.execute_reply.started": "2022-04-01T03:34:46.638767Z"
    },
    "papermill": {
     "duration": 0.05415,
     "end_time": "2022-04-01T03:38:40.742811",
     "exception": false,
     "start_time": "2022-04-01T03:38:40.688661",
     "status": "completed"
    },
    "tags": []
   },
   "outputs": [
    {
     "name": "stdout",
     "output_type": "stream",
     "text": [
      "\u001b[94m\n",
      "FoodCourt       106\n",
      "Spa             101\n",
      "Cabin           100\n",
      "ShoppingMall     98\n",
      "Name             94\n",
      "CryoSleep        93\n",
      "VIP              93\n",
      "Destination      92\n",
      "Age              91\n",
      "HomePlanet       87\n",
      "RoomService      82\n",
      "VRDeck           80\n",
      "PassengerId       0\n",
      "dtype: int64\n"
     ]
    }
   ],
   "source": [
    "print(f'\\033[94m')\n",
    "print(test.isna().sum().sort_values(ascending = False))"
   ]
  },
  {
   "cell_type": "markdown",
   "id": "9078ab5f",
   "metadata": {
    "papermill": {
     "duration": 0.035155,
     "end_time": "2022-04-01T03:38:40.812199",
     "exception": false,
     "start_time": "2022-04-01T03:38:40.777044",
     "status": "completed"
    },
    "tags": []
   },
   "source": [
    "### Basic statistics of test data\n",
    "Below is the basic statistics for each variables which contain information on count, mean, standard deviation, minimum, 1st quartile, median, 3rd quartile and maximum."
   ]
  },
  {
   "cell_type": "code",
   "execution_count": 12,
   "id": "f7a77ae4",
   "metadata": {
    "execution": {
     "iopub.execute_input": "2022-04-01T03:38:40.892085Z",
     "iopub.status.busy": "2022-04-01T03:38:40.891232Z",
     "iopub.status.idle": "2022-04-01T03:38:40.920171Z",
     "shell.execute_reply": "2022-04-01T03:38:40.919508Z",
     "shell.execute_reply.started": "2022-04-01T03:34:46.651518Z"
    },
    "papermill": {
     "duration": 0.072095,
     "end_time": "2022-04-01T03:38:40.920377",
     "exception": false,
     "start_time": "2022-04-01T03:38:40.848282",
     "status": "completed"
    },
    "tags": []
   },
   "outputs": [
    {
     "data": {
      "text/html": [
       "<div>\n",
       "<style scoped>\n",
       "    .dataframe tbody tr th:only-of-type {\n",
       "        vertical-align: middle;\n",
       "    }\n",
       "\n",
       "    .dataframe tbody tr th {\n",
       "        vertical-align: top;\n",
       "    }\n",
       "\n",
       "    .dataframe thead th {\n",
       "        text-align: right;\n",
       "    }\n",
       "</style>\n",
       "<table border=\"1\" class=\"dataframe\">\n",
       "  <thead>\n",
       "    <tr style=\"text-align: right;\">\n",
       "      <th></th>\n",
       "      <th>Age</th>\n",
       "      <th>RoomService</th>\n",
       "      <th>FoodCourt</th>\n",
       "      <th>ShoppingMall</th>\n",
       "      <th>Spa</th>\n",
       "      <th>VRDeck</th>\n",
       "    </tr>\n",
       "  </thead>\n",
       "  <tbody>\n",
       "    <tr>\n",
       "      <th>count</th>\n",
       "      <td>4186.00</td>\n",
       "      <td>4195.00</td>\n",
       "      <td>4171.00</td>\n",
       "      <td>4179.00</td>\n",
       "      <td>4176.00</td>\n",
       "      <td>4197.00</td>\n",
       "    </tr>\n",
       "    <tr>\n",
       "      <th>mean</th>\n",
       "      <td>28.66</td>\n",
       "      <td>219.27</td>\n",
       "      <td>439.48</td>\n",
       "      <td>177.30</td>\n",
       "      <td>303.05</td>\n",
       "      <td>310.71</td>\n",
       "    </tr>\n",
       "    <tr>\n",
       "      <th>std</th>\n",
       "      <td>14.18</td>\n",
       "      <td>607.01</td>\n",
       "      <td>1527.66</td>\n",
       "      <td>560.82</td>\n",
       "      <td>1117.19</td>\n",
       "      <td>1246.99</td>\n",
       "    </tr>\n",
       "    <tr>\n",
       "      <th>min</th>\n",
       "      <td>0.00</td>\n",
       "      <td>0.00</td>\n",
       "      <td>0.00</td>\n",
       "      <td>0.00</td>\n",
       "      <td>0.00</td>\n",
       "      <td>0.00</td>\n",
       "    </tr>\n",
       "    <tr>\n",
       "      <th>25%</th>\n",
       "      <td>19.00</td>\n",
       "      <td>0.00</td>\n",
       "      <td>0.00</td>\n",
       "      <td>0.00</td>\n",
       "      <td>0.00</td>\n",
       "      <td>0.00</td>\n",
       "    </tr>\n",
       "    <tr>\n",
       "      <th>50%</th>\n",
       "      <td>26.00</td>\n",
       "      <td>0.00</td>\n",
       "      <td>0.00</td>\n",
       "      <td>0.00</td>\n",
       "      <td>0.00</td>\n",
       "      <td>0.00</td>\n",
       "    </tr>\n",
       "    <tr>\n",
       "      <th>75%</th>\n",
       "      <td>37.00</td>\n",
       "      <td>53.00</td>\n",
       "      <td>78.00</td>\n",
       "      <td>33.00</td>\n",
       "      <td>50.00</td>\n",
       "      <td>36.00</td>\n",
       "    </tr>\n",
       "    <tr>\n",
       "      <th>max</th>\n",
       "      <td>79.00</td>\n",
       "      <td>11567.00</td>\n",
       "      <td>25273.00</td>\n",
       "      <td>8292.00</td>\n",
       "      <td>19844.00</td>\n",
       "      <td>22272.00</td>\n",
       "    </tr>\n",
       "  </tbody>\n",
       "</table>\n",
       "</div>"
      ],
      "text/plain": [
       "          Age  RoomService  FoodCourt  ShoppingMall      Spa   VRDeck\n",
       "count 4186.00      4195.00    4171.00       4179.00  4176.00  4197.00\n",
       "mean    28.66       219.27     439.48        177.30   303.05   310.71\n",
       "std     14.18       607.01    1527.66        560.82  1117.19  1246.99\n",
       "min      0.00         0.00       0.00          0.00     0.00     0.00\n",
       "25%     19.00         0.00       0.00          0.00     0.00     0.00\n",
       "50%     26.00         0.00       0.00          0.00     0.00     0.00\n",
       "75%     37.00        53.00      78.00         33.00    50.00    36.00\n",
       "max     79.00     11567.00   25273.00       8292.00 19844.00 22272.00"
      ]
     },
     "execution_count": 12,
     "metadata": {},
     "output_type": "execute_result"
    }
   ],
   "source": [
    "test.describe()"
   ]
  },
  {
   "cell_type": "markdown",
   "id": "9b659748",
   "metadata": {
    "papermill": {
     "duration": 0.03365,
     "end_time": "2022-04-01T03:38:40.988298",
     "exception": false,
     "start_time": "2022-04-01T03:38:40.954648",
     "status": "completed"
    },
    "tags": []
   },
   "source": [
    "## Submission File"
   ]
  },
  {
   "cell_type": "markdown",
   "id": "9fa24527",
   "metadata": {
    "papermill": {
     "duration": 0.038952,
     "end_time": "2022-04-01T03:38:41.062475",
     "exception": false,
     "start_time": "2022-04-01T03:38:41.023523",
     "status": "completed"
    },
    "tags": []
   },
   "source": [
    "### Quick view of Submission File"
   ]
  },
  {
   "cell_type": "code",
   "execution_count": 13,
   "id": "03cab5b1",
   "metadata": {
    "execution": {
     "iopub.execute_input": "2022-04-01T03:38:41.149177Z",
     "iopub.status.busy": "2022-04-01T03:38:41.141020Z",
     "iopub.status.idle": "2022-04-01T03:38:41.152457Z",
     "shell.execute_reply": "2022-04-01T03:38:41.153078Z",
     "shell.execute_reply.started": "2022-04-01T03:34:46.686960Z"
    },
    "papermill": {
     "duration": 0.053982,
     "end_time": "2022-04-01T03:38:41.153295",
     "exception": false,
     "start_time": "2022-04-01T03:38:41.099313",
     "status": "completed"
    },
    "tags": []
   },
   "outputs": [
    {
     "data": {
      "text/html": [
       "<div>\n",
       "<style scoped>\n",
       "    .dataframe tbody tr th:only-of-type {\n",
       "        vertical-align: middle;\n",
       "    }\n",
       "\n",
       "    .dataframe tbody tr th {\n",
       "        vertical-align: top;\n",
       "    }\n",
       "\n",
       "    .dataframe thead th {\n",
       "        text-align: right;\n",
       "    }\n",
       "</style>\n",
       "<table border=\"1\" class=\"dataframe\">\n",
       "  <thead>\n",
       "    <tr style=\"text-align: right;\">\n",
       "      <th></th>\n",
       "      <th>PassengerId</th>\n",
       "      <th>Transported</th>\n",
       "    </tr>\n",
       "  </thead>\n",
       "  <tbody>\n",
       "    <tr>\n",
       "      <th>0</th>\n",
       "      <td>0013_01</td>\n",
       "      <td>False</td>\n",
       "    </tr>\n",
       "    <tr>\n",
       "      <th>1</th>\n",
       "      <td>0018_01</td>\n",
       "      <td>False</td>\n",
       "    </tr>\n",
       "    <tr>\n",
       "      <th>2</th>\n",
       "      <td>0019_01</td>\n",
       "      <td>False</td>\n",
       "    </tr>\n",
       "    <tr>\n",
       "      <th>3</th>\n",
       "      <td>0021_01</td>\n",
       "      <td>False</td>\n",
       "    </tr>\n",
       "    <tr>\n",
       "      <th>4</th>\n",
       "      <td>0023_01</td>\n",
       "      <td>False</td>\n",
       "    </tr>\n",
       "  </tbody>\n",
       "</table>\n",
       "</div>"
      ],
      "text/plain": [
       "  PassengerId  Transported\n",
       "0     0013_01        False\n",
       "1     0018_01        False\n",
       "2     0019_01        False\n",
       "3     0021_01        False\n",
       "4     0023_01        False"
      ]
     },
     "execution_count": 13,
     "metadata": {},
     "output_type": "execute_result"
    }
   ],
   "source": [
    "submission.head()"
   ]
  },
  {
   "cell_type": "markdown",
   "id": "9d33b3e4",
   "metadata": {
    "papermill": {
     "duration": 0.037872,
     "end_time": "2022-04-01T03:38:41.229470",
     "exception": false,
     "start_time": "2022-04-01T03:38:41.191598",
     "status": "completed"
    },
    "tags": []
   },
   "source": [
    "# Step 2. EDA"
   ]
  },
  {
   "cell_type": "markdown",
   "id": "0f9fc16d",
   "metadata": {
    "papermill": {
     "duration": 0.035843,
     "end_time": "2022-04-01T03:38:41.303042",
     "exception": false,
     "start_time": "2022-04-01T03:38:41.267199",
     "status": "completed"
    },
    "tags": []
   },
   "source": [
    "## Overview of Data"
   ]
  },
  {
   "cell_type": "code",
   "execution_count": 14,
   "id": "4238b8e8",
   "metadata": {
    "execution": {
     "iopub.execute_input": "2022-04-01T03:38:41.376747Z",
     "iopub.status.busy": "2022-04-01T03:38:41.375917Z",
     "iopub.status.idle": "2022-04-01T03:38:41.386413Z",
     "shell.execute_reply": "2022-04-01T03:38:41.387091Z",
     "shell.execute_reply.started": "2022-04-01T03:34:46.698974Z"
    },
    "papermill": {
     "duration": 0.049305,
     "end_time": "2022-04-01T03:38:41.387314",
     "exception": false,
     "start_time": "2022-04-01T03:38:41.338009",
     "status": "completed"
    },
    "tags": []
   },
   "outputs": [],
   "source": [
    "train.drop([\"PassengerId\"], axis = 1, inplace = True)\n",
    "test.drop([\"PassengerId\"], axis = 1, inplace = True)\n",
    "TARGET = 'Transported'\n",
    "FEATURES = [col for col in train.columns if col not in ['id', TARGET]]\n",
    "RANDOM_STATE = 12"
   ]
  },
  {
   "cell_type": "markdown",
   "id": "112d5f5a",
   "metadata": {
    "papermill": {
     "duration": 0.035211,
     "end_time": "2022-04-01T03:38:41.461494",
     "exception": false,
     "start_time": "2022-04-01T03:38:41.426283",
     "status": "completed"
    },
    "tags": []
   },
   "source": [
    "# Step 3. 데이터 전처리\n",
    "- Feature Engineering\n",
    "- ML 모형을 돌리기 위해 표준화 등 / 원핫-인코딩\n",
    "- 파생변수 (도출 변수)\n",
    "    + 왜 이 변수를 만들었는지에 대한 설명 필요\n",
    "    "
   ]
  },
  {
   "cell_type": "markdown",
   "id": "02a95fc1",
   "metadata": {
    "papermill": {
     "duration": 0.03841,
     "end_time": "2022-04-01T03:38:41.537886",
     "exception": false,
     "start_time": "2022-04-01T03:38:41.499476",
     "status": "completed"
    },
    "tags": []
   },
   "source": [
    "# Step 4. 머신러닝 모형 개발\n",
    "- 모형에 대한 설명 필요\n",
    "- 모형을 1 ~ 2개 사용\n",
    "- 교차 검증\n",
    "- 하이퍼파라미터 튜닝"
   ]
  },
  {
   "cell_type": "markdown",
   "id": "9cdbfad1",
   "metadata": {
    "papermill": {
     "duration": 0.043666,
     "end_time": "2022-04-01T03:38:41.618151",
     "exception": false,
     "start_time": "2022-04-01T03:38:41.574485",
     "status": "completed"
    },
    "tags": []
   },
   "source": [
    "# Step 5. 모형 평가\n",
    "- 훈련데이터 쪼갠다. 혼련데이터 + 검증데이터 분리\n",
    "- 정확도 비교\n",
    "- 혼동행렬(Confusion Matrix) 설명\n",
    "\n"
   ]
  },
  {
   "cell_type": "markdown",
   "id": "b4d6a2fb",
   "metadata": {
    "papermill": {
     "duration": 0.038991,
     "end_time": "2022-04-01T03:38:41.693225",
     "exception": false,
     "start_time": "2022-04-01T03:38:41.654234",
     "status": "completed"
    },
    "tags": []
   },
   "source": [
    "# Step 6. 제출\n",
    "- 제출 양식은 샘플 만들어 드림"
   ]
  },
  {
   "cell_type": "markdown",
   "id": "e33521c6",
   "metadata": {
    "papermill": {
     "duration": 0.0364,
     "end_time": "2022-04-01T03:38:41.772411",
     "exception": false,
     "start_time": "2022-04-01T03:38:41.736011",
     "status": "completed"
    },
    "tags": []
   },
   "source": [
    "# Reference\n",
    "- 다른 사람의 code 설명을 쭉 따라침.\n",
    "- 노트북 표절 방지 위해, 여러분들이 참조한 코드는 반드시 링크 걸어둘 것\n",
    "- 저자 이름, 글 제목, 링크 주소"
   ]
  }
 ],
 "metadata": {
  "kernelspec": {
   "display_name": "Python 3",
   "language": "python",
   "name": "python3"
  },
  "language_info": {
   "codemirror_mode": {
    "name": "ipython",
    "version": 3
   },
   "file_extension": ".py",
   "mimetype": "text/x-python",
   "name": "python",
   "nbconvert_exporter": "python",
   "pygments_lexer": "ipython3",
   "version": "3.7.12"
  },
  "papermill": {
   "default_parameters": {},
   "duration": 105.521692,
   "end_time": "2022-04-01T03:38:43.232090",
   "environment_variables": {},
   "exception": null,
   "input_path": "__notebook__.ipynb",
   "output_path": "__notebook__.ipynb",
   "parameters": {},
   "start_time": "2022-04-01T03:36:57.710398",
   "version": "2.3.3"
  }
 },
 "nbformat": 4,
 "nbformat_minor": 5
}
