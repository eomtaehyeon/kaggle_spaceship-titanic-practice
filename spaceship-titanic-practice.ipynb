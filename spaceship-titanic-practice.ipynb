{
 "cells": [
  {
   "cell_type": "code",
   "execution_count": 1,
   "id": "94fca553",
   "metadata": {
    "_cell_guid": "04b62804-c8cc-4e05-8f8b-52d6b8d47820",
    "_uuid": "11966e95-c9f3-4842-9d0c-a0a8cc619b21",
    "collapsed": false,
    "execution": {
     "iopub.execute_input": "2022-04-04T10:10:16.474146Z",
     "iopub.status.busy": "2022-04-04T10:10:16.473109Z",
     "iopub.status.idle": "2022-04-04T10:10:16.478962Z",
     "shell.execute_reply": "2022-04-04T10:10:16.480052Z",
     "shell.execute_reply.started": "2022-04-04T10:06:33.221350Z"
    },
    "jupyter": {
     "outputs_hidden": false
    },
    "papermill": {
     "duration": 0.097468,
     "end_time": "2022-04-04T10:10:16.480511",
     "exception": false,
     "start_time": "2022-04-04T10:10:16.383043",
     "status": "completed"
    },
    "tags": []
   },
   "outputs": [
    {
     "name": "stdout",
     "output_type": "stream",
     "text": [
      "/kaggle/input/spaceship-titanic/sample_submission.csv\n",
      "/kaggle/input/spaceship-titanic/train.csv\n",
      "/kaggle/input/spaceship-titanic/test.csv\n"
     ]
    }
   ],
   "source": [
    "# This Python 3 environment comes with many helpful analytics libraries installed\n",
    "# It is defined by the kaggle/python Docker image: https://github.com/kaggle/docker-python\n",
    "# For example, here's several helpful packages to load\n",
    "\n",
    "import numpy as np # linear algebra\n",
    "import pandas as pd # data processing, CSV file I/O (e.g. pd.read_csv)\n",
    "\n",
    "# Input data files are available in the read-only \"../input/\" directory\n",
    "# For example, running this (by clicking run or pressing Shift+Enter) will list all files under the input directory\n",
    "\n",
    "import os\n",
    "for dirname, _, filenames in os.walk('/kaggle/input'):\n",
    "    for filename in filenames:\n",
    "        print(os.path.join(dirname, filename))\n",
    "\n",
    "# You can write up to 20GB to the current directory (/kaggle/working/) that gets preserved as output when you create a version using \"Save & Run All\" \n",
    "# You can also write temporary files to /kaggle/temp/, but they won't be saved outside of the current session"
   ]
  },
  {
   "cell_type": "markdown",
   "id": "b16e3ee7",
   "metadata": {
    "_cell_guid": "6d530913-860b-414d-aed1-ba7ea7ffe081",
    "_uuid": "bc17bd10-0913-448f-8e23-662eac6b7492",
    "papermill": {
     "duration": 0.073263,
     "end_time": "2022-04-04T10:10:16.632028",
     "exception": false,
     "start_time": "2022-04-04T10:10:16.558765",
     "status": "completed"
    },
    "tags": []
   },
   "source": [
    "# Loading Libraries And Data"
   ]
  },
  {
   "cell_type": "markdown",
   "id": "a7d94dc7",
   "metadata": {
    "papermill": {
     "duration": 0.084551,
     "end_time": "2022-04-04T10:10:16.791577",
     "exception": false,
     "start_time": "2022-04-04T10:10:16.707026",
     "status": "completed"
    },
    "tags": []
   },
   "source": [
    "## Libraies"
   ]
  },
  {
   "cell_type": "code",
   "execution_count": 2,
   "id": "29514e39",
   "metadata": {
    "_cell_guid": "f6c76447-0ea2-4b32-83b2-2809c9118825",
    "_uuid": "910c9cad-c3b6-46f5-bb27-c6ed35233750",
    "collapsed": false,
    "execution": {
     "iopub.execute_input": "2022-04-04T10:10:16.974632Z",
     "iopub.status.busy": "2022-04-04T10:10:16.969166Z",
     "iopub.status.idle": "2022-04-04T10:10:19.316751Z",
     "shell.execute_reply": "2022-04-04T10:10:19.316014Z",
     "shell.execute_reply.started": "2022-04-04T10:06:33.239439Z"
    },
    "jupyter": {
     "outputs_hidden": false
    },
    "papermill": {
     "duration": 2.425869,
     "end_time": "2022-04-04T10:10:19.317014",
     "exception": false,
     "start_time": "2022-04-04T10:10:16.891145",
     "status": "completed"
    },
    "tags": []
   },
   "outputs": [
    {
     "name": "stdout",
     "output_type": "stream",
     "text": [
      "Version Pandas 1.3.5\n",
      "Version Matplotlib 3.5.1\n",
      "Version Numpy 1.20.3\n",
      "Version Seaborn 0.11.2\n",
      "Version Sklearn 1.0.1\n"
     ]
    }
   ],
   "source": [
    "import pandas as pd\n",
    "import numpy as np\n",
    "import matplotlib\n",
    "import matplotlib.pyplot as plt\n",
    "import plotly.express as px\n",
    "import seaborn as sns\n",
    "import os\n",
    "import sklearn\n",
    "import warnings\n",
    "warnings.filterwarnings('ignore')\n",
    "\n",
    "from sklearn.pipeline import Pipeline\n",
    "from sklearn.model_selection import train_test_split\n",
    "from sklearn.metrics import accuracy_score, confusion_matrix, recall_score, precision_score, f1_score\n",
    "from sklearn.preprocessing import StandardScaler, MinMaxScaler, OneHotEncoder, LabelEncoder\n",
    "from sklearn.compose import ColumnTransformer\n",
    "from sklearn.metrics import roc_curve, roc_auc_score\n",
    "from sklearn.model_selection import StratifiedKFold\n",
    "from sklearn.model_selection import cross_validate\n",
    "\n",
    "\n",
    "\n",
    "print(\"Version Pandas\", pd.__version__)\n",
    "print(\"Version Matplotlib\", matplotlib.__version__)\n",
    "print(\"Version Numpy\", np.__version__)\n",
    "print(\"Version Seaborn\", sns.__version__)\n",
    "print(\"Version Sklearn\",sklearn.__version__)"
   ]
  },
  {
   "cell_type": "markdown",
   "id": "4b76ed81",
   "metadata": {
    "_cell_guid": "96401305-208e-4c62-8c79-edff82261b85",
    "_uuid": "79a69d6a-cb05-44e3-9b49-a8a9d3ca7615",
    "papermill": {
     "duration": 0.0761,
     "end_time": "2022-04-04T10:10:19.469591",
     "exception": false,
     "start_time": "2022-04-04T10:10:19.393491",
     "status": "completed"
    },
    "tags": []
   },
   "source": [
    "## Data\n",
    "\n",
    "- train.csv - Personal records for about two-thirds (~8700) of the passengers, to be used as training data.\n",
    "- test.csv - Personal records for the remaining one-third (~4300) of the passengers, to be used as test\n",
    "- sample_submission.csv - A submission file in the correct format.\n",
    "    + PassengerId - Id for each passenger in the test set.\n",
    "    + Transported - The target. For each passenger, predict either True or False.\n"
   ]
  },
  {
   "cell_type": "code",
   "execution_count": 3,
   "id": "110266a0",
   "metadata": {
    "_cell_guid": "a0e5d263-8ff8-4860-823d-221103726a5a",
    "_uuid": "33431145-e7b8-4bf9-b45c-65c206a3c421",
    "collapsed": false,
    "execution": {
     "iopub.execute_input": "2022-04-04T10:10:19.623743Z",
     "iopub.status.busy": "2022-04-04T10:10:19.623081Z",
     "iopub.status.idle": "2022-04-04T10:10:19.723502Z",
     "shell.execute_reply": "2022-04-04T10:10:19.724098Z",
     "shell.execute_reply.started": "2022-04-04T10:06:34.526662Z"
    },
    "jupyter": {
     "outputs_hidden": false
    },
    "papermill": {
     "duration": 0.178608,
     "end_time": "2022-04-04T10:10:19.724303",
     "exception": false,
     "start_time": "2022-04-04T10:10:19.545695",
     "status": "completed"
    },
    "tags": []
   },
   "outputs": [],
   "source": [
    "train = pd.read_csv(\"../input/spaceship-titanic/train.csv\")\n",
    "test = pd.read_csv(\"../input/spaceship-titanic/test.csv\")\n",
    "submission = pd.read_csv(\"../input/spaceship-titanic/sample_submission.csv\")\n",
    "\n",
    "all_data = pd.concat([train, test], axis=0)"
   ]
  },
  {
   "cell_type": "markdown",
   "id": "12460e7d",
   "metadata": {
    "_cell_guid": "1be408ef-1fc1-4e70-9234-5a6e021c72ac",
    "_uuid": "e7875d9c-c222-4ddf-b723-9a1318f83cdc",
    "papermill": {
     "duration": 0.074653,
     "end_time": "2022-04-04T10:10:19.873728",
     "exception": false,
     "start_time": "2022-04-04T10:10:19.799075",
     "status": "completed"
    },
    "tags": []
   },
   "source": [
    "## Feature descriptions: \n",
    "\n",
    "- PassengerId - A unique Id for each passenger. Each Id takes the form gggg_pp where gggg indicates a group the passenger is travelling with and pp is their number within the group. People in a group are often family members, but not always.\n",
    "- HomePlanet - The planet the passenger departed from, typically their planet of permanent residence.\n",
    "- CryoSleep - Indicates whether the passenger elected to be put into suspended animation for the duration of the voyage. Passengers in cryosleep are confined to their cabins.\n",
    "- Cabin - The cabin number where the passenger is staying. Takes the form deck/num/side, where side can be either P for Port or S for Starboard.\n",
    "- Destination - The planet the passenger will be debarking to.\n",
    "- Age - The age of the passenger.\n",
    "- VIP - Whether the passenger has paid for special VIP service during the voyage.\n",
    "- RoomService, FoodCourt, ShoppingMall, Spa, VRDeck - Amount the passenger has billed at each of the Spaceship Titanic's many luxury amenities.\n",
    "- Name - The first and last names of the passenger.\n",
    "- Transported - Whether the passenger was transported to another dimension. This is the target, the column you are trying to predict.\n",
    "\n",
    "    - Reference : https://www.kaggle.com/competitions/spaceship-titanic/data\n"
   ]
  },
  {
   "cell_type": "markdown",
   "id": "d38ddedd",
   "metadata": {
    "papermill": {
     "duration": 0.07353,
     "end_time": "2022-04-04T10:10:20.022117",
     "exception": false,
     "start_time": "2022-04-04T10:10:19.948587",
     "status": "completed"
    },
    "tags": []
   },
   "source": [
    "## Check Train Data"
   ]
  },
  {
   "cell_type": "code",
   "execution_count": 4,
   "id": "a81711b7",
   "metadata": {
    "execution": {
     "iopub.execute_input": "2022-04-04T10:10:20.174650Z",
     "iopub.status.busy": "2022-04-04T10:10:20.173964Z",
     "iopub.status.idle": "2022-04-04T10:10:20.176953Z",
     "shell.execute_reply": "2022-04-04T10:10:20.177500Z",
     "shell.execute_reply.started": "2022-04-04T10:06:34.602200Z"
    },
    "papermill": {
     "duration": 0.082272,
     "end_time": "2022-04-04T10:10:20.177678",
     "exception": false,
     "start_time": "2022-04-04T10:10:20.095406",
     "status": "completed"
    },
    "tags": []
   },
   "outputs": [
    {
     "name": "stdout",
     "output_type": "stream",
     "text": [
      "Train Data shape : (8693, 14)\n"
     ]
    }
   ],
   "source": [
    "# Train Data shape\n",
    "\n",
    "print('Train Data shape :', train.shape)"
   ]
  },
  {
   "cell_type": "code",
   "execution_count": 5,
   "id": "f77eaca8",
   "metadata": {
    "execution": {
     "iopub.execute_input": "2022-04-04T10:10:20.336362Z",
     "iopub.status.busy": "2022-04-04T10:10:20.335293Z",
     "iopub.status.idle": "2022-04-04T10:10:20.365960Z",
     "shell.execute_reply": "2022-04-04T10:10:20.366504Z",
     "shell.execute_reply.started": "2022-04-04T10:06:34.610251Z"
    },
    "papermill": {
     "duration": 0.114533,
     "end_time": "2022-04-04T10:10:20.366685",
     "exception": false,
     "start_time": "2022-04-04T10:10:20.252152",
     "status": "completed"
    },
    "tags": []
   },
   "outputs": [
    {
     "data": {
      "text/html": [
       "<div>\n",
       "<style scoped>\n",
       "    .dataframe tbody tr th:only-of-type {\n",
       "        vertical-align: middle;\n",
       "    }\n",
       "\n",
       "    .dataframe tbody tr th {\n",
       "        vertical-align: top;\n",
       "    }\n",
       "\n",
       "    .dataframe thead th {\n",
       "        text-align: right;\n",
       "    }\n",
       "</style>\n",
       "<table border=\"1\" class=\"dataframe\">\n",
       "  <thead>\n",
       "    <tr style=\"text-align: right;\">\n",
       "      <th></th>\n",
       "      <th>PassengerId</th>\n",
       "      <th>HomePlanet</th>\n",
       "      <th>CryoSleep</th>\n",
       "      <th>Cabin</th>\n",
       "      <th>Destination</th>\n",
       "      <th>Age</th>\n",
       "      <th>VIP</th>\n",
       "      <th>RoomService</th>\n",
       "      <th>FoodCourt</th>\n",
       "      <th>ShoppingMall</th>\n",
       "      <th>Spa</th>\n",
       "      <th>VRDeck</th>\n",
       "      <th>Name</th>\n",
       "      <th>Transported</th>\n",
       "    </tr>\n",
       "  </thead>\n",
       "  <tbody>\n",
       "    <tr>\n",
       "      <th>0</th>\n",
       "      <td>0001_01</td>\n",
       "      <td>Europa</td>\n",
       "      <td>False</td>\n",
       "      <td>B/0/P</td>\n",
       "      <td>TRAPPIST-1e</td>\n",
       "      <td>39.0</td>\n",
       "      <td>False</td>\n",
       "      <td>0.0</td>\n",
       "      <td>0.0</td>\n",
       "      <td>0.0</td>\n",
       "      <td>0.0</td>\n",
       "      <td>0.0</td>\n",
       "      <td>Maham Ofracculy</td>\n",
       "      <td>False</td>\n",
       "    </tr>\n",
       "    <tr>\n",
       "      <th>1</th>\n",
       "      <td>0002_01</td>\n",
       "      <td>Earth</td>\n",
       "      <td>False</td>\n",
       "      <td>F/0/S</td>\n",
       "      <td>TRAPPIST-1e</td>\n",
       "      <td>24.0</td>\n",
       "      <td>False</td>\n",
       "      <td>109.0</td>\n",
       "      <td>9.0</td>\n",
       "      <td>25.0</td>\n",
       "      <td>549.0</td>\n",
       "      <td>44.0</td>\n",
       "      <td>Juanna Vines</td>\n",
       "      <td>True</td>\n",
       "    </tr>\n",
       "    <tr>\n",
       "      <th>2</th>\n",
       "      <td>0003_01</td>\n",
       "      <td>Europa</td>\n",
       "      <td>False</td>\n",
       "      <td>A/0/S</td>\n",
       "      <td>TRAPPIST-1e</td>\n",
       "      <td>58.0</td>\n",
       "      <td>True</td>\n",
       "      <td>43.0</td>\n",
       "      <td>3576.0</td>\n",
       "      <td>0.0</td>\n",
       "      <td>6715.0</td>\n",
       "      <td>49.0</td>\n",
       "      <td>Altark Susent</td>\n",
       "      <td>False</td>\n",
       "    </tr>\n",
       "    <tr>\n",
       "      <th>3</th>\n",
       "      <td>0003_02</td>\n",
       "      <td>Europa</td>\n",
       "      <td>False</td>\n",
       "      <td>A/0/S</td>\n",
       "      <td>TRAPPIST-1e</td>\n",
       "      <td>33.0</td>\n",
       "      <td>False</td>\n",
       "      <td>0.0</td>\n",
       "      <td>1283.0</td>\n",
       "      <td>371.0</td>\n",
       "      <td>3329.0</td>\n",
       "      <td>193.0</td>\n",
       "      <td>Solam Susent</td>\n",
       "      <td>False</td>\n",
       "    </tr>\n",
       "    <tr>\n",
       "      <th>4</th>\n",
       "      <td>0004_01</td>\n",
       "      <td>Earth</td>\n",
       "      <td>False</td>\n",
       "      <td>F/1/S</td>\n",
       "      <td>TRAPPIST-1e</td>\n",
       "      <td>16.0</td>\n",
       "      <td>False</td>\n",
       "      <td>303.0</td>\n",
       "      <td>70.0</td>\n",
       "      <td>151.0</td>\n",
       "      <td>565.0</td>\n",
       "      <td>2.0</td>\n",
       "      <td>Willy Santantines</td>\n",
       "      <td>True</td>\n",
       "    </tr>\n",
       "    <tr>\n",
       "      <th>5</th>\n",
       "      <td>0005_01</td>\n",
       "      <td>Earth</td>\n",
       "      <td>False</td>\n",
       "      <td>F/0/P</td>\n",
       "      <td>PSO J318.5-22</td>\n",
       "      <td>44.0</td>\n",
       "      <td>False</td>\n",
       "      <td>0.0</td>\n",
       "      <td>483.0</td>\n",
       "      <td>0.0</td>\n",
       "      <td>291.0</td>\n",
       "      <td>0.0</td>\n",
       "      <td>Sandie Hinetthews</td>\n",
       "      <td>True</td>\n",
       "    </tr>\n",
       "    <tr>\n",
       "      <th>6</th>\n",
       "      <td>0006_01</td>\n",
       "      <td>Earth</td>\n",
       "      <td>False</td>\n",
       "      <td>F/2/S</td>\n",
       "      <td>TRAPPIST-1e</td>\n",
       "      <td>26.0</td>\n",
       "      <td>False</td>\n",
       "      <td>42.0</td>\n",
       "      <td>1539.0</td>\n",
       "      <td>3.0</td>\n",
       "      <td>0.0</td>\n",
       "      <td>0.0</td>\n",
       "      <td>Billex Jacostaffey</td>\n",
       "      <td>True</td>\n",
       "    </tr>\n",
       "    <tr>\n",
       "      <th>7</th>\n",
       "      <td>0006_02</td>\n",
       "      <td>Earth</td>\n",
       "      <td>True</td>\n",
       "      <td>G/0/S</td>\n",
       "      <td>TRAPPIST-1e</td>\n",
       "      <td>28.0</td>\n",
       "      <td>False</td>\n",
       "      <td>0.0</td>\n",
       "      <td>0.0</td>\n",
       "      <td>0.0</td>\n",
       "      <td>0.0</td>\n",
       "      <td>NaN</td>\n",
       "      <td>Candra Jacostaffey</td>\n",
       "      <td>True</td>\n",
       "    </tr>\n",
       "    <tr>\n",
       "      <th>8</th>\n",
       "      <td>0007_01</td>\n",
       "      <td>Earth</td>\n",
       "      <td>False</td>\n",
       "      <td>F/3/S</td>\n",
       "      <td>TRAPPIST-1e</td>\n",
       "      <td>35.0</td>\n",
       "      <td>False</td>\n",
       "      <td>0.0</td>\n",
       "      <td>785.0</td>\n",
       "      <td>17.0</td>\n",
       "      <td>216.0</td>\n",
       "      <td>0.0</td>\n",
       "      <td>Andona Beston</td>\n",
       "      <td>True</td>\n",
       "    </tr>\n",
       "    <tr>\n",
       "      <th>9</th>\n",
       "      <td>0008_01</td>\n",
       "      <td>Europa</td>\n",
       "      <td>True</td>\n",
       "      <td>B/1/P</td>\n",
       "      <td>55 Cancri e</td>\n",
       "      <td>14.0</td>\n",
       "      <td>False</td>\n",
       "      <td>0.0</td>\n",
       "      <td>0.0</td>\n",
       "      <td>0.0</td>\n",
       "      <td>0.0</td>\n",
       "      <td>0.0</td>\n",
       "      <td>Erraiam Flatic</td>\n",
       "      <td>True</td>\n",
       "    </tr>\n",
       "  </tbody>\n",
       "</table>\n",
       "</div>"
      ],
      "text/plain": [
       "  PassengerId HomePlanet CryoSleep  Cabin    Destination   Age    VIP  \\\n",
       "0     0001_01     Europa     False  B/0/P    TRAPPIST-1e  39.0  False   \n",
       "1     0002_01      Earth     False  F/0/S    TRAPPIST-1e  24.0  False   \n",
       "2     0003_01     Europa     False  A/0/S    TRAPPIST-1e  58.0   True   \n",
       "3     0003_02     Europa     False  A/0/S    TRAPPIST-1e  33.0  False   \n",
       "4     0004_01      Earth     False  F/1/S    TRAPPIST-1e  16.0  False   \n",
       "5     0005_01      Earth     False  F/0/P  PSO J318.5-22  44.0  False   \n",
       "6     0006_01      Earth     False  F/2/S    TRAPPIST-1e  26.0  False   \n",
       "7     0006_02      Earth      True  G/0/S    TRAPPIST-1e  28.0  False   \n",
       "8     0007_01      Earth     False  F/3/S    TRAPPIST-1e  35.0  False   \n",
       "9     0008_01     Europa      True  B/1/P    55 Cancri e  14.0  False   \n",
       "\n",
       "   RoomService  FoodCourt  ShoppingMall     Spa  VRDeck                Name  \\\n",
       "0          0.0        0.0           0.0     0.0     0.0     Maham Ofracculy   \n",
       "1        109.0        9.0          25.0   549.0    44.0        Juanna Vines   \n",
       "2         43.0     3576.0           0.0  6715.0    49.0       Altark Susent   \n",
       "3          0.0     1283.0         371.0  3329.0   193.0        Solam Susent   \n",
       "4        303.0       70.0         151.0   565.0     2.0   Willy Santantines   \n",
       "5          0.0      483.0           0.0   291.0     0.0   Sandie Hinetthews   \n",
       "6         42.0     1539.0           3.0     0.0     0.0  Billex Jacostaffey   \n",
       "7          0.0        0.0           0.0     0.0     NaN  Candra Jacostaffey   \n",
       "8          0.0      785.0          17.0   216.0     0.0       Andona Beston   \n",
       "9          0.0        0.0           0.0     0.0     0.0      Erraiam Flatic   \n",
       "\n",
       "   Transported  \n",
       "0        False  \n",
       "1         True  \n",
       "2        False  \n",
       "3        False  \n",
       "4         True  \n",
       "5         True  \n",
       "6         True  \n",
       "7         True  \n",
       "8         True  \n",
       "9         True  "
      ]
     },
     "execution_count": 5,
     "metadata": {},
     "output_type": "execute_result"
    }
   ],
   "source": [
    "train.head(10)"
   ]
  },
  {
   "cell_type": "markdown",
   "id": "8f3a62ba",
   "metadata": {
    "papermill": {
     "duration": 0.075301,
     "end_time": "2022-04-04T10:10:20.518267",
     "exception": false,
     "start_time": "2022-04-04T10:10:20.442966",
     "status": "completed"
    },
    "tags": []
   },
   "source": [
    "- 행 : 8693개, 열 : 14개 , 값 : 119378개, 결측치 : 2324개\n",
    "- CryoSleep이 217개로 결측값이 가장 많다.\n",
    "- PassengerId, Transported 를 제외하고 179개 이상의 결측값을 가지고 있다."
   ]
  },
  {
   "cell_type": "code",
   "execution_count": 6,
   "id": "dceca4b8",
   "metadata": {
    "execution": {
     "iopub.execute_input": "2022-04-04T10:10:20.683482Z",
     "iopub.status.busy": "2022-04-04T10:10:20.682384Z",
     "iopub.status.idle": "2022-04-04T10:10:20.700361Z",
     "shell.execute_reply": "2022-04-04T10:10:20.700889Z",
     "shell.execute_reply.started": "2022-04-04T10:06:34.648918Z"
    },
    "papermill": {
     "duration": 0.107017,
     "end_time": "2022-04-04T10:10:20.701074",
     "exception": false,
     "start_time": "2022-04-04T10:10:20.594057",
     "status": "completed"
    },
    "tags": []
   },
   "outputs": [
    {
     "name": "stdout",
     "output_type": "stream",
     "text": [
      "<class 'pandas.core.frame.DataFrame'>\n",
      "RangeIndex: 8693 entries, 0 to 8692\n",
      "Data columns (total 14 columns):\n",
      " #   Column        Non-Null Count  Dtype  \n",
      "---  ------        --------------  -----  \n",
      " 0   PassengerId   8693 non-null   object \n",
      " 1   HomePlanet    8492 non-null   object \n",
      " 2   CryoSleep     8476 non-null   object \n",
      " 3   Cabin         8494 non-null   object \n",
      " 4   Destination   8511 non-null   object \n",
      " 5   Age           8514 non-null   float64\n",
      " 6   VIP           8490 non-null   object \n",
      " 7   RoomService   8512 non-null   float64\n",
      " 8   FoodCourt     8510 non-null   float64\n",
      " 9   ShoppingMall  8485 non-null   float64\n",
      " 10  Spa           8510 non-null   float64\n",
      " 11  VRDeck        8505 non-null   float64\n",
      " 12  Name          8493 non-null   object \n",
      " 13  Transported   8693 non-null   bool   \n",
      "dtypes: bool(1), float64(6), object(7)\n",
      "memory usage: 891.5+ KB\n"
     ]
    }
   ],
   "source": [
    "train.info()"
   ]
  },
  {
   "cell_type": "code",
   "execution_count": 7,
   "id": "28b3aa8e",
   "metadata": {
    "execution": {
     "iopub.execute_input": "2022-04-04T10:10:20.857418Z",
     "iopub.status.busy": "2022-04-04T10:10:20.856386Z",
     "iopub.status.idle": "2022-04-04T10:10:20.878199Z",
     "shell.execute_reply": "2022-04-04T10:10:20.878765Z",
     "shell.execute_reply.started": "2022-04-04T10:06:34.669738Z"
    },
    "papermill": {
     "duration": 0.102657,
     "end_time": "2022-04-04T10:10:20.878976",
     "exception": false,
     "start_time": "2022-04-04T10:10:20.776319",
     "status": "completed"
    },
    "tags": []
   },
   "outputs": [
    {
     "name": "stdout",
     "output_type": "stream",
     "text": [
      "Train Data total missing values : 2324\n",
      "\n",
      "Train Data missing values :\n",
      "CryoSleep       217\n",
      "ShoppingMall    208\n",
      "VIP             203\n",
      "HomePlanet      201\n",
      "Name            200\n",
      "Cabin           199\n",
      "VRDeck          188\n",
      "FoodCourt       183\n",
      "Spa             183\n",
      "Destination     182\n",
      "RoomService     181\n",
      "Age             179\n",
      "PassengerId       0\n",
      "Transported       0\n",
      "dtype: int64\n"
     ]
    }
   ],
   "source": [
    "print('Train Data total missing values :', sum(train.isna().sum()))\n",
    "print('')\n",
    "print('Train Data missing values :')\n",
    "print(train.isna().sum().sort_values(ascending = False))\n"
   ]
  },
  {
   "cell_type": "code",
   "execution_count": 8,
   "id": "f08b36a0",
   "metadata": {
    "execution": {
     "iopub.execute_input": "2022-04-04T10:10:21.036028Z",
     "iopub.status.busy": "2022-04-04T10:10:21.035346Z",
     "iopub.status.idle": "2022-04-04T10:10:21.056690Z",
     "shell.execute_reply": "2022-04-04T10:10:21.056052Z",
     "shell.execute_reply.started": "2022-04-04T10:06:34.698459Z"
    },
    "papermill": {
     "duration": 0.101697,
     "end_time": "2022-04-04T10:10:21.056887",
     "exception": false,
     "start_time": "2022-04-04T10:10:20.955190",
     "status": "completed"
    },
    "tags": []
   },
   "outputs": [
    {
     "data": {
      "text/plain": [
       "PassengerId     8693\n",
       "HomePlanet         3\n",
       "CryoSleep          2\n",
       "Cabin           6560\n",
       "Destination        3\n",
       "Age               80\n",
       "VIP                2\n",
       "RoomService     1273\n",
       "FoodCourt       1507\n",
       "ShoppingMall    1115\n",
       "Spa             1327\n",
       "VRDeck          1306\n",
       "Name            8473\n",
       "Transported        2\n",
       "dtype: int64"
      ]
     },
     "execution_count": 8,
     "metadata": {},
     "output_type": "execute_result"
    }
   ],
   "source": [
    "train.nunique()"
   ]
  },
  {
   "cell_type": "markdown",
   "id": "5ec541f1",
   "metadata": {
    "papermill": {
     "duration": 0.076295,
     "end_time": "2022-04-04T10:10:21.209963",
     "exception": false,
     "start_time": "2022-04-04T10:10:21.133668",
     "status": "completed"
    },
    "tags": []
   },
   "source": [
    "## Check Test Data\n",
    "- Transported 값은 훈련데이터에만 있다."
   ]
  },
  {
   "cell_type": "code",
   "execution_count": 9,
   "id": "9cf0bbce",
   "metadata": {
    "execution": {
     "iopub.execute_input": "2022-04-04T10:10:21.371872Z",
     "iopub.status.busy": "2022-04-04T10:10:21.371040Z",
     "iopub.status.idle": "2022-04-04T10:10:21.375056Z",
     "shell.execute_reply": "2022-04-04T10:10:21.375630Z",
     "shell.execute_reply.started": "2022-04-04T10:06:34.724069Z"
    },
    "papermill": {
     "duration": 0.087585,
     "end_time": "2022-04-04T10:10:21.375864",
     "exception": false,
     "start_time": "2022-04-04T10:10:21.288279",
     "status": "completed"
    },
    "tags": []
   },
   "outputs": [
    {
     "name": "stdout",
     "output_type": "stream",
     "text": [
      "Test Data shape : (4277, 13)\n"
     ]
    }
   ],
   "source": [
    "# Test Data shape\n",
    "\n",
    "print('Test Data shape :', test.shape)"
   ]
  },
  {
   "cell_type": "code",
   "execution_count": 10,
   "id": "1b7fcf79",
   "metadata": {
    "execution": {
     "iopub.execute_input": "2022-04-04T10:10:21.535373Z",
     "iopub.status.busy": "2022-04-04T10:10:21.534329Z",
     "iopub.status.idle": "2022-04-04T10:10:21.556936Z",
     "shell.execute_reply": "2022-04-04T10:10:21.557553Z",
     "shell.execute_reply.started": "2022-04-04T10:06:34.731958Z"
    },
    "papermill": {
     "duration": 0.10326,
     "end_time": "2022-04-04T10:10:21.557739",
     "exception": false,
     "start_time": "2022-04-04T10:10:21.454479",
     "status": "completed"
    },
    "tags": []
   },
   "outputs": [
    {
     "data": {
      "text/html": [
       "<div>\n",
       "<style scoped>\n",
       "    .dataframe tbody tr th:only-of-type {\n",
       "        vertical-align: middle;\n",
       "    }\n",
       "\n",
       "    .dataframe tbody tr th {\n",
       "        vertical-align: top;\n",
       "    }\n",
       "\n",
       "    .dataframe thead th {\n",
       "        text-align: right;\n",
       "    }\n",
       "</style>\n",
       "<table border=\"1\" class=\"dataframe\">\n",
       "  <thead>\n",
       "    <tr style=\"text-align: right;\">\n",
       "      <th></th>\n",
       "      <th>PassengerId</th>\n",
       "      <th>HomePlanet</th>\n",
       "      <th>CryoSleep</th>\n",
       "      <th>Cabin</th>\n",
       "      <th>Destination</th>\n",
       "      <th>Age</th>\n",
       "      <th>VIP</th>\n",
       "      <th>RoomService</th>\n",
       "      <th>FoodCourt</th>\n",
       "      <th>ShoppingMall</th>\n",
       "      <th>Spa</th>\n",
       "      <th>VRDeck</th>\n",
       "      <th>Name</th>\n",
       "    </tr>\n",
       "  </thead>\n",
       "  <tbody>\n",
       "    <tr>\n",
       "      <th>0</th>\n",
       "      <td>0013_01</td>\n",
       "      <td>Earth</td>\n",
       "      <td>True</td>\n",
       "      <td>G/3/S</td>\n",
       "      <td>TRAPPIST-1e</td>\n",
       "      <td>27.0</td>\n",
       "      <td>False</td>\n",
       "      <td>0.0</td>\n",
       "      <td>0.0</td>\n",
       "      <td>0.0</td>\n",
       "      <td>0.0</td>\n",
       "      <td>0.0</td>\n",
       "      <td>Nelly Carsoning</td>\n",
       "    </tr>\n",
       "    <tr>\n",
       "      <th>1</th>\n",
       "      <td>0018_01</td>\n",
       "      <td>Earth</td>\n",
       "      <td>False</td>\n",
       "      <td>F/4/S</td>\n",
       "      <td>TRAPPIST-1e</td>\n",
       "      <td>19.0</td>\n",
       "      <td>False</td>\n",
       "      <td>0.0</td>\n",
       "      <td>9.0</td>\n",
       "      <td>0.0</td>\n",
       "      <td>2823.0</td>\n",
       "      <td>0.0</td>\n",
       "      <td>Lerome Peckers</td>\n",
       "    </tr>\n",
       "    <tr>\n",
       "      <th>2</th>\n",
       "      <td>0019_01</td>\n",
       "      <td>Europa</td>\n",
       "      <td>True</td>\n",
       "      <td>C/0/S</td>\n",
       "      <td>55 Cancri e</td>\n",
       "      <td>31.0</td>\n",
       "      <td>False</td>\n",
       "      <td>0.0</td>\n",
       "      <td>0.0</td>\n",
       "      <td>0.0</td>\n",
       "      <td>0.0</td>\n",
       "      <td>0.0</td>\n",
       "      <td>Sabih Unhearfus</td>\n",
       "    </tr>\n",
       "    <tr>\n",
       "      <th>3</th>\n",
       "      <td>0021_01</td>\n",
       "      <td>Europa</td>\n",
       "      <td>False</td>\n",
       "      <td>C/1/S</td>\n",
       "      <td>TRAPPIST-1e</td>\n",
       "      <td>38.0</td>\n",
       "      <td>False</td>\n",
       "      <td>0.0</td>\n",
       "      <td>6652.0</td>\n",
       "      <td>0.0</td>\n",
       "      <td>181.0</td>\n",
       "      <td>585.0</td>\n",
       "      <td>Meratz Caltilter</td>\n",
       "    </tr>\n",
       "    <tr>\n",
       "      <th>4</th>\n",
       "      <td>0023_01</td>\n",
       "      <td>Earth</td>\n",
       "      <td>False</td>\n",
       "      <td>F/5/S</td>\n",
       "      <td>TRAPPIST-1e</td>\n",
       "      <td>20.0</td>\n",
       "      <td>False</td>\n",
       "      <td>10.0</td>\n",
       "      <td>0.0</td>\n",
       "      <td>635.0</td>\n",
       "      <td>0.0</td>\n",
       "      <td>0.0</td>\n",
       "      <td>Brence Harperez</td>\n",
       "    </tr>\n",
       "  </tbody>\n",
       "</table>\n",
       "</div>"
      ],
      "text/plain": [
       "  PassengerId HomePlanet CryoSleep  Cabin  Destination   Age    VIP  \\\n",
       "0     0013_01      Earth      True  G/3/S  TRAPPIST-1e  27.0  False   \n",
       "1     0018_01      Earth     False  F/4/S  TRAPPIST-1e  19.0  False   \n",
       "2     0019_01     Europa      True  C/0/S  55 Cancri e  31.0  False   \n",
       "3     0021_01     Europa     False  C/1/S  TRAPPIST-1e  38.0  False   \n",
       "4     0023_01      Earth     False  F/5/S  TRAPPIST-1e  20.0  False   \n",
       "\n",
       "   RoomService  FoodCourt  ShoppingMall     Spa  VRDeck              Name  \n",
       "0          0.0        0.0           0.0     0.0     0.0   Nelly Carsoning  \n",
       "1          0.0        9.0           0.0  2823.0     0.0    Lerome Peckers  \n",
       "2          0.0        0.0           0.0     0.0     0.0   Sabih Unhearfus  \n",
       "3          0.0     6652.0           0.0   181.0   585.0  Meratz Caltilter  \n",
       "4         10.0        0.0         635.0     0.0     0.0   Brence Harperez  "
      ]
     },
     "execution_count": 10,
     "metadata": {},
     "output_type": "execute_result"
    }
   ],
   "source": [
    "test.head()"
   ]
  },
  {
   "cell_type": "markdown",
   "id": "d3ff31e2",
   "metadata": {
    "papermill": {
     "duration": 0.079643,
     "end_time": "2022-04-04T10:10:21.717275",
     "exception": false,
     "start_time": "2022-04-04T10:10:21.637632",
     "status": "completed"
    },
    "tags": []
   },
   "source": [
    "- 행 : 4277개, 열 : 13개, 값 : 54484개, 결측값 : 1117개\n",
    "- FoodCourt가 결측값이 106개로 가장 많다.\n",
    "- PassengerId 를 제외하고 80개 이상 결측값을 가지고 있다."
   ]
  },
  {
   "cell_type": "code",
   "execution_count": 11,
   "id": "08ce3a94",
   "metadata": {
    "execution": {
     "iopub.execute_input": "2022-04-04T10:10:21.890332Z",
     "iopub.status.busy": "2022-04-04T10:10:21.883114Z",
     "iopub.status.idle": "2022-04-04T10:10:21.894827Z",
     "shell.execute_reply": "2022-04-04T10:10:21.895336Z",
     "shell.execute_reply.started": "2022-04-04T10:06:34.760748Z"
    },
    "papermill": {
     "duration": 0.099019,
     "end_time": "2022-04-04T10:10:21.895521",
     "exception": false,
     "start_time": "2022-04-04T10:10:21.796502",
     "status": "completed"
    },
    "tags": []
   },
   "outputs": [
    {
     "name": "stdout",
     "output_type": "stream",
     "text": [
      "<class 'pandas.core.frame.DataFrame'>\n",
      "RangeIndex: 4277 entries, 0 to 4276\n",
      "Data columns (total 13 columns):\n",
      " #   Column        Non-Null Count  Dtype  \n",
      "---  ------        --------------  -----  \n",
      " 0   PassengerId   4277 non-null   object \n",
      " 1   HomePlanet    4190 non-null   object \n",
      " 2   CryoSleep     4184 non-null   object \n",
      " 3   Cabin         4177 non-null   object \n",
      " 4   Destination   4185 non-null   object \n",
      " 5   Age           4186 non-null   float64\n",
      " 6   VIP           4184 non-null   object \n",
      " 7   RoomService   4195 non-null   float64\n",
      " 8   FoodCourt     4171 non-null   float64\n",
      " 9   ShoppingMall  4179 non-null   float64\n",
      " 10  Spa           4176 non-null   float64\n",
      " 11  VRDeck        4197 non-null   float64\n",
      " 12  Name          4183 non-null   object \n",
      "dtypes: float64(6), object(7)\n",
      "memory usage: 434.5+ KB\n"
     ]
    }
   ],
   "source": [
    "test.info()"
   ]
  },
  {
   "cell_type": "code",
   "execution_count": 12,
   "id": "c5c3283c",
   "metadata": {
    "execution": {
     "iopub.execute_input": "2022-04-04T10:10:22.057185Z",
     "iopub.status.busy": "2022-04-04T10:10:22.056449Z",
     "iopub.status.idle": "2022-04-04T10:10:22.071712Z",
     "shell.execute_reply": "2022-04-04T10:10:22.072342Z",
     "shell.execute_reply.started": "2022-04-04T10:06:34.783501Z"
    },
    "papermill": {
     "duration": 0.097221,
     "end_time": "2022-04-04T10:10:22.072525",
     "exception": false,
     "start_time": "2022-04-04T10:10:21.975304",
     "status": "completed"
    },
    "tags": []
   },
   "outputs": [
    {
     "name": "stdout",
     "output_type": "stream",
     "text": [
      "Test Data total missing values : 1117\n",
      "\n",
      "Test Data missing vlues :\n",
      "FoodCourt       106\n",
      "Spa             101\n",
      "Cabin           100\n",
      "ShoppingMall     98\n",
      "Name             94\n",
      "CryoSleep        93\n",
      "VIP              93\n",
      "Destination      92\n",
      "Age              91\n",
      "HomePlanet       87\n",
      "RoomService      82\n",
      "VRDeck           80\n",
      "PassengerId       0\n",
      "dtype: int64\n"
     ]
    }
   ],
   "source": [
    "print('Test Data total missing values :', sum(test.isna().sum()))\n",
    "print('')\n",
    "print('Test Data missing vlues :')\n",
    "print(test.isna().sum().sort_values(ascending = False))\n"
   ]
  },
  {
   "cell_type": "markdown",
   "id": "6a22262d",
   "metadata": {
    "_cell_guid": "d4213885-4020-4213-908b-1451d9e2674a",
    "_uuid": "71373e97-db26-4c8c-b59d-52f9767a9788",
    "papermill": {
     "duration": 0.079298,
     "end_time": "2022-04-04T10:10:22.232854",
     "exception": false,
     "start_time": "2022-04-04T10:10:22.153556",
     "status": "completed"
    },
    "tags": []
   },
   "source": [
    "# EDA"
   ]
  },
  {
   "cell_type": "markdown",
   "id": "54518120",
   "metadata": {
    "papermill": {
     "duration": 0.080735,
     "end_time": "2022-04-04T10:10:22.396447",
     "exception": false,
     "start_time": "2022-04-04T10:10:22.315712",
     "status": "completed"
    },
    "tags": []
   },
   "source": [
    " ## Cardinality of features\n",
    " \n",
    " - Target Features : Transported\n",
    " - Continuous Features : Age, Roomservice, Foodcourt, ShoppingMall, Spa, VRDeck\n",
    " - Categorical Features : HomePlanet, CryoSleep, Destination, VIP\n",
    " - descriptive/qualitative features : PassengerId, Cabin, Name\n"
   ]
  },
  {
   "cell_type": "markdown",
   "id": "d2615008",
   "metadata": {
    "papermill": {
     "duration": 0.079399,
     "end_time": "2022-04-04T10:10:22.556056",
     "exception": false,
     "start_time": "2022-04-04T10:10:22.476657",
     "status": "completed"
    },
    "tags": []
   },
   "source": [
    "### Target Feature\n",
    "- Transported 값은 True : 50.4% , False : 49.6% 로 나타난다.(Train Data만 있음.)"
   ]
  },
  {
   "cell_type": "code",
   "execution_count": 13,
   "id": "8b077032",
   "metadata": {
    "execution": {
     "iopub.execute_input": "2022-04-04T10:10:22.719315Z",
     "iopub.status.busy": "2022-04-04T10:10:22.718604Z",
     "iopub.status.idle": "2022-04-04T10:10:23.192632Z",
     "shell.execute_reply": "2022-04-04T10:10:23.193219Z",
     "shell.execute_reply.started": "2022-04-04T10:06:34.809276Z"
    },
    "papermill": {
     "duration": 0.556173,
     "end_time": "2022-04-04T10:10:23.193407",
     "exception": false,
     "start_time": "2022-04-04T10:10:22.637234",
     "status": "completed"
    },
    "tags": []
   },
   "outputs": [
    {
     "data": {
      "image/png": "[encoded data removed]",
      "text/plain": [
       "<Figure size 1440x720 with 1 Axes>"
      ]
     },
     "metadata": {},
     "output_type": "display_data"
    }
   ],
   "source": [
    "# Transported 값의 True 와 False 값\n",
    "\n",
    "plt.subplots(figsize=(20, 10))\n",
    "plt.pie(train.Transported.value_counts(), shadow=True, explode=[.03,.03], autopct='%1.1f%%',\n",
    "        textprops={'fontsize': 20, 'color': 'white'})\n",
    "plt.title('Transported Distribution', size=20)\n",
    "plt.legend(['True', 'False'], loc='best', fontsize=12)\n",
    "plt.show()"
   ]
  },
  {
   "cell_type": "markdown",
   "id": "4e6f4d4b",
   "metadata": {
    "papermill": {
     "duration": 0.081583,
     "end_time": "2022-04-04T10:10:23.357839",
     "exception": false,
     "start_time": "2022-04-04T10:10:23.276256",
     "status": "completed"
    },
    "tags": []
   },
   "source": [
    "## Categorical Features\n",
    "- HomePlanet에서 Earth에서 False 값이 가장 많고, 다음으로 True 값이 많다.\n",
    "- Cryosleep에서 False에서 False 값이 가장 많고, 다음으로 True 에서 True 값이 많다.\n",
    "- Destination에서 TRAPPIST-1e 에서 False 값이 가장 많고, 다음으로 True 값이 많다.\n",
    "- VIP에서 False와 True 값이 상반되게 보여지고 있다. "
   ]
  },
  {
   "cell_type": "code",
   "execution_count": 14,
   "id": "538d0959",
   "metadata": {
    "execution": {
     "iopub.execute_input": "2022-04-04T10:10:23.547376Z",
     "iopub.status.busy": "2022-04-04T10:10:23.546138Z",
     "iopub.status.idle": "2022-04-04T10:10:24.367085Z",
     "shell.execute_reply": "2022-04-04T10:10:24.367764Z",
     "shell.execute_reply.started": "2022-04-04T10:06:35.225772Z"
    },
    "papermill": {
     "duration": 0.92875,
     "end_time": "2022-04-04T10:10:24.368029",
     "exception": false,
     "start_time": "2022-04-04T10:10:23.439279",
     "status": "completed"
    },
    "tags": []
   },
   "outputs": [
    {
     "data": {
      "image/png": "[encoded data removed]",
      "text/plain": [
       "<Figure size 720x1440 with 4 Axes>"
      ]
     },
     "metadata": {
      "needs_background": "light"
     },
     "output_type": "display_data"
    }
   ],
   "source": [
    "# Categoricl features\n",
    "cat_feats=['HomePlanet', 'CryoSleep', 'Destination', 'VIP']\n",
    "\n",
    "# Plot categorical features\n",
    "fig=plt.figure(figsize=(10,20))\n",
    "for i, var_name in enumerate(cat_feats):\n",
    "    ax=fig.add_subplot(4,2,i+1)\n",
    "    sns.countplot(data=train, x=var_name, axes=ax, hue='Transported')\n",
    "    ax.set_title(var_name)\n",
    "fig.tight_layout()  # Improves appearance a bit\n",
    "plt.show()"
   ]
  },
  {
   "cell_type": "markdown",
   "id": "a3ec25bc",
   "metadata": {
    "papermill": {
     "duration": 0.084684,
     "end_time": "2022-04-04T10:10:24.536991",
     "exception": false,
     "start_time": "2022-04-04T10:10:24.452307",
     "status": "completed"
    },
    "tags": []
   },
   "source": [
    "## Continuous features\n",
    "- Continuous features 중 'RoomService', 'FoodCourt', 'ShoppingMall', 'Spa', 'VRDeck'를 Expenditure features로 묶었다.\n",
    "- Expenditure features 값은 공통적으로 0 값이 많다.\n",
    "- Age는 20~40대 비율이 많다."
   ]
  },
  {
   "cell_type": "code",
   "execution_count": 15,
   "id": "66afb227",
   "metadata": {
    "execution": {
     "iopub.execute_input": "2022-04-04T10:10:24.706113Z",
     "iopub.status.busy": "2022-04-04T10:10:24.705413Z",
     "iopub.status.idle": "2022-04-04T10:10:29.237087Z",
     "shell.execute_reply": "2022-04-04T10:10:29.237622Z",
     "shell.execute_reply.started": "2022-04-04T10:06:35.933514Z"
    },
    "papermill": {
     "duration": 4.617611,
     "end_time": "2022-04-04T10:10:29.237827",
     "exception": false,
     "start_time": "2022-04-04T10:10:24.620216",
     "status": "completed"
    },
    "tags": []
   },
   "outputs": [
    {
     "data": {
      "image/png": "[encoded data removed]",
      "text/plain": [
       "<Figure size 720x1440 with 10 Axes>"
      ]
     },
     "metadata": {
      "needs_background": "light"
     },
     "output_type": "display_data"
    }
   ],
   "source": [
    "# Expenditure features\n",
    "exp_feats=['RoomService', 'FoodCourt', 'ShoppingMall', 'Spa', 'VRDeck']\n",
    "\n",
    "# Plot expenditure features\n",
    "fig=plt.figure(figsize=(10,20))\n",
    "for i, var_name in enumerate(exp_feats):\n",
    "    # Left plot\n",
    "    ax=fig.add_subplot(5,2,2*i+1)\n",
    "    sns.histplot(data=train, x=var_name, axes=ax, bins=30, kde=False, hue='Transported')\n",
    "    ax.set_title(var_name)\n",
    "    \n",
    "    # Right plot (truncated)\n",
    "    ax=fig.add_subplot(5,2,2*i+2)\n",
    "    sns.histplot(data=train, x=var_name, axes=ax, bins=30, kde=True, hue='Transported')\n",
    "    plt.ylim([0,100])\n",
    "    ax.set_title(var_name)\n",
    "fig.tight_layout()  # Improves appearance a bit\n",
    "plt.show()"
   ]
  },
  {
   "cell_type": "code",
   "execution_count": 16,
   "id": "289d80f8",
   "metadata": {
    "execution": {
     "iopub.execute_input": "2022-04-04T10:10:29.415434Z",
     "iopub.status.busy": "2022-04-04T10:10:29.414735Z",
     "iopub.status.idle": "2022-04-04T10:10:29.829853Z",
     "shell.execute_reply": "2022-04-04T10:10:29.829067Z",
     "shell.execute_reply.started": "2022-04-04T10:06:39.752319Z"
    },
    "papermill": {
     "duration": 0.507659,
     "end_time": "2022-04-04T10:10:29.830006",
     "exception": false,
     "start_time": "2022-04-04T10:10:29.322347",
     "status": "completed"
    },
    "tags": []
   },
   "outputs": [
    {
     "data": {
      "image/png": "[encoded data removed]",
      "text/plain": [
       "<Figure size 931.125x216 with 1 Axes>"
      ]
     },
     "metadata": {
      "needs_background": "light"
     },
     "output_type": "display_data"
    }
   ],
   "source": [
    "facet = sns.FacetGrid(train, hue=\"Transported\", aspect=4)\n",
    "facet.map(sns.kdeplot,'Age',shade=True)\n",
    "facet.set(xlim=(0, train['Age'].max()))\n",
    "facet.add_legend()\n",
    "\n",
    "plt.show()"
   ]
  },
  {
   "cell_type": "markdown",
   "id": "658850b2",
   "metadata": {
    "papermill": {
     "duration": 0.08724,
     "end_time": "2022-04-04T10:10:30.003823",
     "exception": false,
     "start_time": "2022-04-04T10:10:29.916583",
     "status": "completed"
    },
    "tags": []
   },
   "source": [
    "## Qualitative features\n",
    "- PassengerId는 그룹과 번호로 나누어서 분석할 필요가 있다.\n",
    "- Cabin은 갑판/번호/사이드로 나누어서 분석할 필요가 있다.\n",
    "- Name은 성이 같은 사람끼리 가족구성원으로 생각하여 가족구성원이 몇명인지 분석해봐야 한다."
   ]
  },
  {
   "cell_type": "code",
   "execution_count": 17,
   "id": "629b0102",
   "metadata": {
    "execution": {
     "iopub.execute_input": "2022-04-04T10:10:30.182838Z",
     "iopub.status.busy": "2022-04-04T10:10:30.182131Z",
     "iopub.status.idle": "2022-04-04T10:10:30.195130Z",
     "shell.execute_reply": "2022-04-04T10:10:30.194552Z",
     "shell.execute_reply.started": "2022-04-04T10:06:40.177075Z"
    },
    "papermill": {
     "duration": 0.103161,
     "end_time": "2022-04-04T10:10:30.195285",
     "exception": false,
     "start_time": "2022-04-04T10:10:30.092124",
     "status": "completed"
    },
    "tags": []
   },
   "outputs": [
    {
     "data": {
      "text/html": [
       "<div>\n",
       "<style scoped>\n",
       "    .dataframe tbody tr th:only-of-type {\n",
       "        vertical-align: middle;\n",
       "    }\n",
       "\n",
       "    .dataframe tbody tr th {\n",
       "        vertical-align: top;\n",
       "    }\n",
       "\n",
       "    .dataframe thead th {\n",
       "        text-align: right;\n",
       "    }\n",
       "</style>\n",
       "<table border=\"1\" class=\"dataframe\">\n",
       "  <thead>\n",
       "    <tr style=\"text-align: right;\">\n",
       "      <th></th>\n",
       "      <th>PassengerId</th>\n",
       "      <th>Cabin</th>\n",
       "      <th>Name</th>\n",
       "    </tr>\n",
       "  </thead>\n",
       "  <tbody>\n",
       "    <tr>\n",
       "      <th>0</th>\n",
       "      <td>0001_01</td>\n",
       "      <td>B/0/P</td>\n",
       "      <td>Maham Ofracculy</td>\n",
       "    </tr>\n",
       "    <tr>\n",
       "      <th>1</th>\n",
       "      <td>0002_01</td>\n",
       "      <td>F/0/S</td>\n",
       "      <td>Juanna Vines</td>\n",
       "    </tr>\n",
       "    <tr>\n",
       "      <th>2</th>\n",
       "      <td>0003_01</td>\n",
       "      <td>A/0/S</td>\n",
       "      <td>Altark Susent</td>\n",
       "    </tr>\n",
       "    <tr>\n",
       "      <th>3</th>\n",
       "      <td>0003_02</td>\n",
       "      <td>A/0/S</td>\n",
       "      <td>Solam Susent</td>\n",
       "    </tr>\n",
       "    <tr>\n",
       "      <th>4</th>\n",
       "      <td>0004_01</td>\n",
       "      <td>F/1/S</td>\n",
       "      <td>Willy Santantines</td>\n",
       "    </tr>\n",
       "  </tbody>\n",
       "</table>\n",
       "</div>"
      ],
      "text/plain": [
       "  PassengerId  Cabin               Name\n",
       "0     0001_01  B/0/P    Maham Ofracculy\n",
       "1     0002_01  F/0/S       Juanna Vines\n",
       "2     0003_01  A/0/S      Altark Susent\n",
       "3     0003_02  A/0/S       Solam Susent\n",
       "4     0004_01  F/1/S  Willy Santantines"
      ]
     },
     "execution_count": 17,
     "metadata": {},
     "output_type": "execute_result"
    }
   ],
   "source": [
    "# Qualitative features\n",
    "qual_feats=['PassengerId', 'Cabin' ,'Name']\n",
    "\n",
    "# Preview qualitative features\n",
    "train[qual_feats].head()"
   ]
  },
  {
   "cell_type": "markdown",
   "id": "cf0d8bad",
   "metadata": {
    "papermill": {
     "duration": 0.087447,
     "end_time": "2022-04-04T10:10:30.370117",
     "exception": false,
     "start_time": "2022-04-04T10:10:30.282670",
     "status": "completed"
    },
    "tags": []
   },
   "source": [
    "# Data Preprocessing \n",
    "- Feature Engineering\n",
    "- ML 모형을 돌리기 위해 표준화 등 / 원핫-인코딩\n",
    "- 파생변수 (도출 변수)\n",
    "    + 왜 이 변수를 만들었는지에 대한 설명 필요"
   ]
  },
  {
   "cell_type": "markdown",
   "id": "82ab9dd4",
   "metadata": {
    "papermill": {
     "duration": 0.086427,
     "end_time": "2022-04-04T10:10:30.544087",
     "exception": false,
     "start_time": "2022-04-04T10:10:30.457660",
     "status": "completed"
    },
    "tags": []
   },
   "source": [
    "## Missing Values \n",
    "- Continuous features 는 중간값을 이용. age는 3 그룹정도로 나누고, 시설이용료는 다른 그룹화를 하는 것이 좋다.\n",
    "- Categorical features는 빈번한 쪽으로 처리하는게 좋을 것 같다.\n",
    "- PassengerId를 통해 그룹별로 나누고 번호를 통해 혼자인지, 아닌지를 판별하기 좋다.\n",
    "- Cabin을 통해 Deck/Number/Side 별로 나눠서 그룹화 하여 판별하기 좋다.\n"
   ]
  },
  {
   "cell_type": "markdown",
   "id": "a64694c9",
   "metadata": {
    "papermill": {
     "duration": 0.086749,
     "end_time": "2022-04-04T10:10:30.718219",
     "exception": false,
     "start_time": "2022-04-04T10:10:30.631470",
     "status": "completed"
    },
    "tags": []
   },
   "source": [
    "### Continuous data\n",
    "- describe() 를 이용하면 count, mean, std, min, 25%, 50%, 75%, max 값인 기본통계량을 알 수 있다."
   ]
  },
  {
   "cell_type": "code",
   "execution_count": 18,
   "id": "6fe7f4a0",
   "metadata": {
    "execution": {
     "iopub.execute_input": "2022-04-04T10:10:30.900503Z",
     "iopub.status.busy": "2022-04-04T10:10:30.899752Z",
     "iopub.status.idle": "2022-04-04T10:10:30.944523Z",
     "shell.execute_reply": "2022-04-04T10:10:30.945539Z",
     "shell.execute_reply.started": "2022-04-04T10:06:40.190827Z"
    },
    "papermill": {
     "duration": 0.140499,
     "end_time": "2022-04-04T10:10:30.945829",
     "exception": false,
     "start_time": "2022-04-04T10:10:30.805330",
     "status": "completed"
    },
    "tags": []
   },
   "outputs": [
    {
     "name": "stdout",
     "output_type": "stream",
     "text": [
      "               Age   RoomService     FoodCourt  ShoppingMall           Spa  \\\n",
      "count  8514.000000   8512.000000   8510.000000   8485.000000   8510.000000   \n",
      "mean     28.827930    224.687617    458.077203    173.729169    311.138778   \n",
      "std      14.489021    666.717663   1611.489240    604.696458   1136.705535   \n",
      "min       0.000000      0.000000      0.000000      0.000000      0.000000   \n",
      "25%      19.000000      0.000000      0.000000      0.000000      0.000000   \n",
      "50%      27.000000      0.000000      0.000000      0.000000      0.000000   \n",
      "75%      38.000000     47.000000     76.000000     27.000000     59.000000   \n",
      "max      79.000000  14327.000000  29813.000000  23492.000000  22408.000000   \n",
      "\n",
      "             VRDeck  \n",
      "count   8505.000000  \n",
      "mean     304.854791  \n",
      "std     1145.717189  \n",
      "min        0.000000  \n",
      "25%        0.000000  \n",
      "50%        0.000000  \n",
      "75%       46.000000  \n",
      "max    24133.000000  \n",
      "               Age   RoomService     FoodCourt  ShoppingMall           Spa  \\\n",
      "count  4186.000000   4195.000000   4171.000000   4179.000000   4176.000000   \n",
      "mean     28.658146    219.266269    439.484296    177.295525    303.052443   \n",
      "std      14.179072    607.011289   1527.663045    560.821123   1117.186015   \n",
      "min       0.000000      0.000000      0.000000      0.000000      0.000000   \n",
      "25%      19.000000      0.000000      0.000000      0.000000      0.000000   \n",
      "50%      26.000000      0.000000      0.000000      0.000000      0.000000   \n",
      "75%      37.000000     53.000000     78.000000     33.000000     50.000000   \n",
      "max      79.000000  11567.000000  25273.000000   8292.000000  19844.000000   \n",
      "\n",
      "             VRDeck  \n",
      "count   4197.000000  \n",
      "mean     310.710031  \n",
      "std     1246.994742  \n",
      "min        0.000000  \n",
      "25%        0.000000  \n",
      "50%        0.000000  \n",
      "75%       36.000000  \n",
      "max    22272.000000  \n"
     ]
    }
   ],
   "source": [
    "print(train.describe())\n",
    "print(test.describe())"
   ]
  },
  {
   "cell_type": "code",
   "execution_count": 19,
   "id": "6cbd7c40",
   "metadata": {
    "execution": {
     "iopub.execute_input": "2022-04-04T10:10:31.133405Z",
     "iopub.status.busy": "2022-04-04T10:10:31.132653Z",
     "iopub.status.idle": "2022-04-04T10:10:31.140738Z",
     "shell.execute_reply": "2022-04-04T10:10:31.141285Z",
     "shell.execute_reply.started": "2022-04-04T10:06:40.234908Z"
    },
    "papermill": {
     "duration": 0.10579,
     "end_time": "2022-04-04T10:10:31.141476",
     "exception": false,
     "start_time": "2022-04-04T10:10:31.035686",
     "status": "completed"
    },
    "tags": []
   },
   "outputs": [],
   "source": [
    "# Impute median (for continuous data)\n",
    "train[\"Age\"].fillna(train[\"Age\"].median(), inplace=True)\n",
    "test[\"Age\"].fillna(train[\"Age\"].median(), inplace=True) \n",
    "train[\"FoodCourt\"].fillna(train[\"FoodCourt\"].median(), inplace=True)\n",
    "test[\"FoodCourt\"].fillna(train[\"FoodCourt\"].median(), inplace=True) \n",
    "train[\"ShoppingMall\"].fillna(train[\"ShoppingMall\"].median(), inplace=True)\n",
    "test[\"ShoppingMall\"].fillna(train[\"ShoppingMall\"].median(), inplace=True) \n",
    "train[\"Spa\"].fillna(train[\"Spa\"].median(), inplace=True)\n",
    "test[\"Spa\"].fillna(train[\"Spa\"].median(), inplace=True) \n",
    "train[\"VRDeck\"].fillna(train[\"VRDeck\"].median(), inplace=True)\n",
    "test[\"VRDeck\"].fillna(train[\"VRDeck\"].median(), inplace=True) \n",
    "train[\"RoomService\"].fillna(train[\"RoomService\"].median(), inplace=True)\n",
    "test[\"RoomService\"].fillna(train[\"RoomService\"].median(), inplace=True) \n"
   ]
  },
  {
   "cell_type": "markdown",
   "id": "a0cc7ae5",
   "metadata": {
    "papermill": {
     "duration": 0.089944,
     "end_time": "2022-04-04T10:10:31.319675",
     "exception": false,
     "start_time": "2022-04-04T10:10:31.229731",
     "status": "completed"
    },
    "tags": []
   },
   "source": [
    "### Categorical data\n",
    "- mode() 를 이용하면 빈도가 많은 값을 알 수 있다.\n",
    "- 'HomePlanet','CryoSleep','Destination','VIP' 는 가장 빈번한값으로 처리하였다."
   ]
  },
  {
   "cell_type": "code",
   "execution_count": 20,
   "id": "f89e415c",
   "metadata": {
    "execution": {
     "iopub.execute_input": "2022-04-04T10:10:31.516666Z",
     "iopub.status.busy": "2022-04-04T10:10:31.515813Z",
     "iopub.status.idle": "2022-04-04T10:10:31.519377Z",
     "shell.execute_reply": "2022-04-04T10:10:31.519890Z",
     "shell.execute_reply.started": "2022-04-04T10:06:40.252359Z"
    },
    "papermill": {
     "duration": 0.111363,
     "end_time": "2022-04-04T10:10:31.520069",
     "exception": false,
     "start_time": "2022-04-04T10:10:31.408706",
     "status": "completed"
    },
    "tags": []
   },
   "outputs": [
    {
     "data": {
      "text/html": [
       "<div>\n",
       "<style scoped>\n",
       "    .dataframe tbody tr th:only-of-type {\n",
       "        vertical-align: middle;\n",
       "    }\n",
       "\n",
       "    .dataframe tbody tr th {\n",
       "        vertical-align: top;\n",
       "    }\n",
       "\n",
       "    .dataframe thead th {\n",
       "        text-align: right;\n",
       "    }\n",
       "</style>\n",
       "<table border=\"1\" class=\"dataframe\">\n",
       "  <thead>\n",
       "    <tr style=\"text-align: right;\">\n",
       "      <th></th>\n",
       "      <th>HomePlanet</th>\n",
       "      <th>CryoSleep</th>\n",
       "      <th>Destination</th>\n",
       "      <th>VIP</th>\n",
       "    </tr>\n",
       "  </thead>\n",
       "  <tbody>\n",
       "    <tr>\n",
       "      <th>0</th>\n",
       "      <td>Earth</td>\n",
       "      <td>False</td>\n",
       "      <td>TRAPPIST-1e</td>\n",
       "      <td>False</td>\n",
       "    </tr>\n",
       "  </tbody>\n",
       "</table>\n",
       "</div>"
      ],
      "text/plain": [
       "  HomePlanet CryoSleep  Destination    VIP\n",
       "0      Earth     False  TRAPPIST-1e  False"
      ]
     },
     "execution_count": 20,
     "metadata": {},
     "output_type": "execute_result"
    }
   ],
   "source": [
    "# mode()를 사용하여 빈번한 값을 찾았다.\n",
    "train[['HomePlanet','CryoSleep','Destination','VIP']].mode()"
   ]
  },
  {
   "cell_type": "code",
   "execution_count": 21,
   "id": "0825d864",
   "metadata": {
    "execution": {
     "iopub.execute_input": "2022-04-04T10:10:31.709234Z",
     "iopub.status.busy": "2022-04-04T10:10:31.708497Z",
     "iopub.status.idle": "2022-04-04T10:10:31.719070Z",
     "shell.execute_reply": "2022-04-04T10:10:31.718478Z",
     "shell.execute_reply.started": "2022-04-04T10:06:40.271614Z"
    },
    "papermill": {
     "duration": 0.112175,
     "end_time": "2022-04-04T10:10:31.719237",
     "exception": false,
     "start_time": "2022-04-04T10:10:31.607062",
     "status": "completed"
    },
    "tags": []
   },
   "outputs": [],
   "source": [
    "# 빈번한 값으로 대체\n",
    "train['HomePlanet'].fillna('Earth', inplace=True)\n",
    "test['HomePlanet'].fillna('Earth', inplace=True)\n",
    "\n",
    "train['CryoSleep'].fillna(False, inplace=True)\n",
    "test['CryoSleep'].fillna(False, inplace=True)\n",
    "\n",
    "train['Destination'].fillna('TRAPPIST-1e', inplace=True)\n",
    "test['Destination'].fillna('TRAPPIST-1e', inplace=True)\n",
    "\n",
    "train['VIP'].fillna(False, inplace=True)\n",
    "test['VIP'].fillna(False, inplace=True)\n"
   ]
  },
  {
   "cell_type": "markdown",
   "id": "203974ff",
   "metadata": {
    "papermill": {
     "duration": 0.087198,
     "end_time": "2022-04-04T10:10:31.895903",
     "exception": false,
     "start_time": "2022-04-04T10:10:31.808705",
     "status": "completed"
    },
    "tags": []
   },
   "source": [
    "### Qualitative data\n",
    "- Qualitative data는 새로운 값으로 지정하였다."
   ]
  },
  {
   "cell_type": "code",
   "execution_count": 22,
   "id": "b9b32874",
   "metadata": {
    "execution": {
     "iopub.execute_input": "2022-04-04T10:10:32.088849Z",
     "iopub.status.busy": "2022-04-04T10:10:32.088135Z",
     "iopub.status.idle": "2022-04-04T10:10:32.092598Z",
     "shell.execute_reply": "2022-04-04T10:10:32.091966Z",
     "shell.execute_reply.started": "2022-04-04T10:06:40.292963Z"
    },
    "papermill": {
     "duration": 0.102262,
     "end_time": "2022-04-04T10:10:32.092752",
     "exception": false,
     "start_time": "2022-04-04T10:10:31.990490",
     "status": "completed"
    },
    "tags": []
   },
   "outputs": [],
   "source": [
    "# Impute outliers (for qualitative data)\n",
    "train['Cabin'].fillna('Z/9999/Z', inplace=True)\n",
    "test['Cabin'].fillna('Z/9999/Z', inplace=True)\n",
    "\n",
    "train['Name'].fillna('No Name', inplace=True)\n",
    "test['Name'].fillna('No Name', inplace=True)"
   ]
  },
  {
   "cell_type": "code",
   "execution_count": 23,
   "id": "f868d184",
   "metadata": {
    "execution": {
     "iopub.execute_input": "2022-04-04T10:10:32.289337Z",
     "iopub.status.busy": "2022-04-04T10:10:32.283433Z",
     "iopub.status.idle": "2022-04-04T10:10:32.297405Z",
     "shell.execute_reply": "2022-04-04T10:10:32.296653Z",
     "shell.execute_reply.started": "2022-04-04T10:06:40.304719Z"
    },
    "papermill": {
     "duration": 0.115938,
     "end_time": "2022-04-04T10:10:32.297566",
     "exception": false,
     "start_time": "2022-04-04T10:10:32.181628",
     "status": "completed"
    },
    "tags": []
   },
   "outputs": [
    {
     "name": "stdout",
     "output_type": "stream",
     "text": [
      "Train Data values:\n",
      "PassengerId     0\n",
      "HomePlanet      0\n",
      "CryoSleep       0\n",
      "Cabin           0\n",
      "Destination     0\n",
      "Age             0\n",
      "VIP             0\n",
      "RoomService     0\n",
      "FoodCourt       0\n",
      "ShoppingMall    0\n",
      "Spa             0\n",
      "VRDeck          0\n",
      "Name            0\n",
      "Transported     0\n",
      "dtype: int64\n",
      "\n",
      "Test Data values:\n",
      "PassengerId     0\n",
      "HomePlanet      0\n",
      "CryoSleep       0\n",
      "Cabin           0\n",
      "Destination     0\n",
      "Age             0\n",
      "VIP             0\n",
      "RoomService     0\n",
      "FoodCourt       0\n",
      "ShoppingMall    0\n",
      "Spa             0\n",
      "VRDeck          0\n",
      "Name            0\n",
      "dtype: int64\n"
     ]
    }
   ],
   "source": [
    "print('Train Data values:')\n",
    "print(train.isna().sum().sort_values(ascending = False))\n",
    "print(\"\")\n",
    "print('Test Data values:')\n",
    "print(test.isna().sum().sort_values(ascending = False))"
   ]
  },
  {
   "cell_type": "markdown",
   "id": "04ab414f",
   "metadata": {
    "papermill": {
     "duration": 0.090816,
     "end_time": "2022-04-04T10:10:32.482153",
     "exception": false,
     "start_time": "2022-04-04T10:10:32.391337",
     "status": "completed"
    },
    "tags": []
   },
   "source": [
    "## Feature Engineering"
   ]
  },
  {
   "cell_type": "markdown",
   "id": "ae96982a",
   "metadata": {
    "papermill": {
     "duration": 0.089782,
     "end_time": "2022-04-04T10:10:32.664339",
     "exception": false,
     "start_time": "2022-04-04T10:10:32.574557",
     "status": "completed"
    },
    "tags": []
   },
   "source": [
    "### Age Status\n",
    "- 0 ~ 20세, 20 ~ 40세, 41세 이상 으로 그룹화 하였다."
   ]
  },
  {
   "cell_type": "code",
   "execution_count": 24,
   "id": "9b8bec6a",
   "metadata": {
    "execution": {
     "iopub.execute_input": "2022-04-04T10:10:32.864617Z",
     "iopub.status.busy": "2022-04-04T10:10:32.846547Z",
     "iopub.status.idle": "2022-04-04T10:10:33.075171Z",
     "shell.execute_reply": "2022-04-04T10:10:33.074555Z",
     "shell.execute_reply.started": "2022-04-04T10:06:40.326551Z"
    },
    "papermill": {
     "duration": 0.319763,
     "end_time": "2022-04-04T10:10:33.075330",
     "exception": false,
     "start_time": "2022-04-04T10:10:32.755567",
     "status": "completed"
    },
    "tags": []
   },
   "outputs": [
    {
     "data": {
      "image/png": "[encoded data removed]",
      "text/plain": [
       "<Figure size 720x360 with 1 Axes>"
      ]
     },
     "metadata": {
      "needs_background": "light"
     },
     "output_type": "display_data"
    }
   ],
   "source": [
    "# New features - training set\n",
    "train['teenager']=(train['Age']<20).astype(int)\n",
    "train['20_to_40']=((train['Age']>=20) & (train['Age']<=40)).astype(int)\n",
    "train['senior']=(train['Age']>40).astype(int)\n",
    "\n",
    "# New features - test set\n",
    "test['teenager']=(test['Age']<20).astype(int)\n",
    "test['20_to_40']=((test['Age']>=20) & (test['Age']<=40)).astype(int)\n",
    "test['senior']=(test['Age']>40).astype(int)\n",
    "\n",
    "# Plot distribution of new features\n",
    "train['Age_plot']=train['teenager']+2*train['20_to_40']+3*train['senior']\n",
    "plt.figure(figsize=(10,5))\n",
    "g=sns.countplot(data=train, x='Age_plot', hue='Transported')\n",
    "plt.title('Age status distribution')\n",
    "g.set_xticklabels(['teenager', '20_to_40', 'senior'])\n",
    "train.drop('Age_plot', axis=1, inplace=True)"
   ]
  },
  {
   "cell_type": "markdown",
   "id": "dd1e2f96",
   "metadata": {
    "papermill": {
     "duration": 0.091536,
     "end_time": "2022-04-04T10:10:33.257036",
     "exception": false,
     "start_time": "2022-04-04T10:10:33.165500",
     "status": "completed"
    },
    "tags": []
   },
   "source": [
    "### Expenditure Status\n",
    "- Expenditure Features 갑을 다 더하여서 0과 1로 그룹화를 하였다.\n"
   ]
  },
  {
   "cell_type": "code",
   "execution_count": 25,
   "id": "68e8d57f",
   "metadata": {
    "execution": {
     "iopub.execute_input": "2022-04-04T10:10:33.448228Z",
     "iopub.status.busy": "2022-04-04T10:10:33.447520Z",
     "iopub.status.idle": "2022-04-04T10:10:35.307510Z",
     "shell.execute_reply": "2022-04-04T10:10:35.308060Z",
     "shell.execute_reply.started": "2022-04-04T10:06:40.571655Z"
    },
    "papermill": {
     "duration": 1.960342,
     "end_time": "2022-04-04T10:10:35.308239",
     "exception": false,
     "start_time": "2022-04-04T10:10:33.347897",
     "status": "completed"
    },
    "tags": []
   },
   "outputs": [
    {
     "data": {
      "text/plain": [
       "Text(0.5, 1.0, 'No spending indicator')"
      ]
     },
     "execution_count": 25,
     "metadata": {},
     "output_type": "execute_result"
    },
    {
     "data": {
      "image/png": "[encoded data removed]",
      "text/plain": [
       "<Figure size 864x288 with 2 Axes>"
      ]
     },
     "metadata": {
      "needs_background": "light"
     },
     "output_type": "display_data"
    }
   ],
   "source": [
    "# New features - training set\n",
    "train['Expenditure']=train[exp_feats].sum(axis=1)\n",
    "train['No_spending']=(train['Expenditure']==0).astype(int)\n",
    "\n",
    "# New features - test set\n",
    "test['Expenditure']=test[exp_feats].sum(axis=1)\n",
    "test['No_spending']=(test['Expenditure']==0).astype(int)\n",
    "\n",
    "# Plot distribution of new features\n",
    "plt.figure(figsize=(12,4))\n",
    "plt.subplot(1,2,1)\n",
    "sns.histplot(data=train, x='Expenditure', hue='Transported', bins=200)\n",
    "plt.title('Total expenditure (truncated)')\n",
    "plt.ylim([0,200])\n",
    "plt.xlim([0,20000])\n",
    "\n",
    "plt.subplot(1,2,2)\n",
    "sns.countplot(data=train, x='No_spending', hue='Transported')\n",
    "plt.title('No spending indicator')"
   ]
  },
  {
   "cell_type": "markdown",
   "id": "5e3ef8dc",
   "metadata": {
    "papermill": {
     "duration": 0.091063,
     "end_time": "2022-04-04T10:10:35.491202",
     "exception": false,
     "start_time": "2022-04-04T10:10:35.400139",
     "status": "completed"
    },
    "tags": []
   },
   "source": [
    "### Passenger group\n",
    "    - PassengerId에서 승객 그룹 및 그룹 크기를 추출하였다."
   ]
  },
  {
   "cell_type": "code",
   "execution_count": 26,
   "id": "7fa3dd45",
   "metadata": {
    "execution": {
     "iopub.execute_input": "2022-04-04T10:10:35.677407Z",
     "iopub.status.busy": "2022-04-04T10:10:35.676347Z",
     "iopub.status.idle": "2022-04-04T10:11:59.581305Z",
     "shell.execute_reply": "2022-04-04T10:11:59.581890Z",
     "shell.execute_reply.started": "2022-04-04T10:06:42.033746Z"
    },
    "papermill": {
     "duration": 83.999829,
     "end_time": "2022-04-04T10:11:59.582087",
     "exception": false,
     "start_time": "2022-04-04T10:10:35.582258",
     "status": "completed"
    },
    "tags": []
   },
   "outputs": [
    {
     "data": {
      "image/png": "[encoded data removed]",
      "text/plain": [
       "<Figure size 1440x288 with 2 Axes>"
      ]
     },
     "metadata": {
      "needs_background": "light"
     },
     "output_type": "display_data"
    }
   ],
   "source": [
    "# New features - training set\n",
    "train['Group'] = train['PassengerId'].apply(lambda x: x.split('_')[0]).astype(int)\n",
    "train['Group_size']=train['Group'].map(lambda x: train['Group'].value_counts()[x])\n",
    "\n",
    "# New features - test set\n",
    "test['Group'] = test['PassengerId'].apply(lambda x: x.split('_')[0]).astype(int)\n",
    "test['Group_size']=test['Group'].map(lambda x: test['Group'].value_counts()[x])\n",
    "\n",
    "# Plot distribution of new features\n",
    "plt.figure(figsize=(20,4))\n",
    "plt.subplot(1,2,1)\n",
    "sns.histplot(data=train, x='Group', hue='Transported', binwidth=1)\n",
    "plt.title('Group')\n",
    "\n",
    "plt.subplot(1,2,2)\n",
    "sns.countplot(data=train, x='Group_size', hue='Transported')\n",
    "plt.title('Group size')\n",
    "fig.tight_layout()"
   ]
  },
  {
   "cell_type": "markdown",
   "id": "8887ddd7",
   "metadata": {
    "papermill": {
     "duration": 0.093122,
     "end_time": "2022-04-04T10:11:59.768664",
     "exception": false,
     "start_time": "2022-04-04T10:11:59.675542",
     "status": "completed"
    },
    "tags": []
   },
   "source": [
    "- 그룹 사이즈를 통해 혼자인 사람과 아닌사람을 나눴다."
   ]
  },
  {
   "cell_type": "code",
   "execution_count": 27,
   "id": "e77239f6",
   "metadata": {
    "execution": {
     "iopub.execute_input": "2022-04-04T10:11:59.962737Z",
     "iopub.status.busy": "2022-04-04T10:11:59.961619Z",
     "iopub.status.idle": "2022-04-04T10:12:00.209941Z",
     "shell.execute_reply": "2022-04-04T10:12:00.210433Z",
     "shell.execute_reply.started": "2022-04-04T10:07:48.774817Z"
    },
    "papermill": {
     "duration": 0.349351,
     "end_time": "2022-04-04T10:12:00.210611",
     "exception": false,
     "start_time": "2022-04-04T10:11:59.861260",
     "status": "completed"
    },
    "tags": []
   },
   "outputs": [
    {
     "data": {
      "text/plain": [
       "(0.0, 3000.0)"
      ]
     },
     "execution_count": 27,
     "metadata": {},
     "output_type": "execute_result"
    },
    {
     "data": {
      "image/png": "[encoded data removed]",
      "text/plain": [
       "<Figure size 720x288 with 1 Axes>"
      ]
     },
     "metadata": {
      "needs_background": "light"
     },
     "output_type": "display_data"
    }
   ],
   "source": [
    "# New feature\n",
    "train['Solo']=(train['Group_size']==1).astype(int)\n",
    "test['Solo']=(test['Group_size']==1).astype(int)\n",
    "\n",
    "# New feature distribution\n",
    "plt.figure(figsize=(10,4))\n",
    "sns.countplot(data=train, x='Solo', hue='Transported')\n",
    "plt.title('Passenger travelling solo or not')\n",
    "plt.ylim([0,3000])"
   ]
  },
  {
   "cell_type": "markdown",
   "id": "ce34533f",
   "metadata": {
    "papermill": {
     "duration": 0.09501,
     "end_time": "2022-04-04T10:12:00.399353",
     "exception": false,
     "start_time": "2022-04-04T10:12:00.304343",
     "status": "completed"
    },
    "tags": []
   },
   "source": [
    "### Cabin location\n",
    "- Cabin을 갑판/ 번호 / 사이드 값으로 나눴다.\n",
    "- 번호 값을 300으로 나눠 다시 그룹화 하였다."
   ]
  },
  {
   "cell_type": "code",
   "execution_count": 28,
   "id": "a3c97c4c",
   "metadata": {
    "execution": {
     "iopub.execute_input": "2022-04-04T10:12:00.595265Z",
     "iopub.status.busy": "2022-04-04T10:12:00.594151Z",
     "iopub.status.idle": "2022-04-04T10:12:05.257023Z",
     "shell.execute_reply": "2022-04-04T10:12:05.256320Z",
     "shell.execute_reply.started": "2022-04-04T10:07:49.000705Z"
    },
    "papermill": {
     "duration": 4.761635,
     "end_time": "2022-04-04T10:12:05.257177",
     "exception": false,
     "start_time": "2022-04-04T10:12:00.495542",
     "status": "completed"
    },
    "tags": []
   },
   "outputs": [
    {
     "data": {
      "image/png": "[encoded data removed]",
      "text/plain": [
       "<Figure size 720x864 with 3 Axes>"
      ]
     },
     "metadata": {
      "needs_background": "light"
     },
     "output_type": "display_data"
    }
   ],
   "source": [
    "# New features - training set\n",
    "train['Cabin_deck'] = train['Cabin'].apply(lambda x: x.split('/')[0])\n",
    "train['Cabin_number'] = train['Cabin'].apply(lambda x: x.split('/')[1]).astype(int)\n",
    "train['Cabin_side'] = train['Cabin'].apply(lambda x: x.split('/')[2])\n",
    "\n",
    "# New features - test set\n",
    "test['Cabin_deck'] = test['Cabin'].apply(lambda x: x.split('/')[0])\n",
    "test['Cabin_number'] = test['Cabin'].apply(lambda x: x.split('/')[1]).astype(int)\n",
    "test['Cabin_side'] = test['Cabin'].apply(lambda x: x.split('/')[2])\n",
    "\n",
    "# Plot distribution of new features\n",
    "fig=plt.figure(figsize=(10,12))\n",
    "plt.subplot(3,1,1)\n",
    "sns.countplot(data=train, x='Cabin_deck', hue='Transported', order=['A','B','C','D','E','F','G','T','Z'])\n",
    "plt.title('Cabin deck')\n",
    "\n",
    "plt.subplot(3,1,2)\n",
    "sns.histplot(data=train, x='Cabin_number', hue='Transported',binwidth=20)\n",
    "plt.vlines(300, ymin=0, ymax=200, color='black')\n",
    "plt.vlines(600, ymin=0, ymax=200, color='black')\n",
    "plt.vlines(900, ymin=0, ymax=200, color='black')\n",
    "plt.vlines(1200, ymin=0, ymax=200, color='black')\n",
    "plt.vlines(1500, ymin=0, ymax=200, color='black')\n",
    "plt.vlines(1800, ymin=0, ymax=200, color='black')\n",
    "plt.title('Cabin number')\n",
    "plt.xlim([0,2000])\n",
    "\n",
    "plt.subplot(3,1,3)\n",
    "sns.countplot(data=train, x='Cabin_side', hue='Transported')\n",
    "plt.title('Cabin side')\n",
    "fig.tight_layout()"
   ]
  },
  {
   "cell_type": "code",
   "execution_count": 29,
   "id": "e36957ea",
   "metadata": {
    "execution": {
     "iopub.execute_input": "2022-04-04T10:12:05.458549Z",
     "iopub.status.busy": "2022-04-04T10:12:05.457464Z",
     "iopub.status.idle": "2022-04-04T10:12:05.817831Z",
     "shell.execute_reply": "2022-04-04T10:12:05.818464Z",
     "shell.execute_reply.started": "2022-04-04T10:07:52.629423Z"
    },
    "papermill": {
     "duration": 0.462787,
     "end_time": "2022-04-04T10:12:05.818647",
     "exception": false,
     "start_time": "2022-04-04T10:12:05.355860",
     "status": "completed"
    },
    "tags": []
   },
   "outputs": [
    {
     "data": {
      "image/png": "[encoded data removed]",
      "text/plain": [
       "<Figure size 720x288 with 1 Axes>"
      ]
     },
     "metadata": {
      "needs_background": "light"
     },
     "output_type": "display_data"
    }
   ],
   "source": [
    "# New features - training set\n",
    "train['Cabin_region1']=(train['Cabin_number']<300).astype(int)   # one-hot encoding\n",
    "train['Cabin_region2']=((train['Cabin_number']>=300) & (train['Cabin_number']<600)).astype(int)\n",
    "train['Cabin_region3']=((train['Cabin_number']>=600) & (train['Cabin_number']<900)).astype(int)\n",
    "train['Cabin_region4']=((train['Cabin_number']>=900) & (train['Cabin_number']<1200)).astype(int)\n",
    "train['Cabin_region5']=((train['Cabin_number']>=1200) & (train['Cabin_number']<1500)).astype(int)\n",
    "train['Cabin_region6']=((train['Cabin_number']>=1500) & (train['Cabin_number']<1800)).astype(int)\n",
    "train['Cabin_region7']=(train['Cabin_number']>=1800).astype(int)\n",
    "\n",
    "# New features - test set\n",
    "test['Cabin_region1']=(test['Cabin_number']<300).astype(int)   # one-hot encoding\n",
    "test['Cabin_region2']=((test['Cabin_number']>=300) & (test['Cabin_number']<600)).astype(int)\n",
    "test['Cabin_region3']=((test['Cabin_number']>=600) & (test['Cabin_number']<900)).astype(int)\n",
    "test['Cabin_region4']=((test['Cabin_number']>=900) & (test['Cabin_number']<1200)).astype(int)\n",
    "test['Cabin_region5']=((test['Cabin_number']>=1200) & (test['Cabin_number']<1500)).astype(int)\n",
    "test['Cabin_region6']=((test['Cabin_number']>=1500) & (test['Cabin_number']<1800)).astype(int)\n",
    "test['Cabin_region7']=(test['Cabin_number']>=1800).astype(int)\n",
    "\n",
    "# Plot distribution of new features\n",
    "plt.figure(figsize=(10,4))\n",
    "train['Cabin_regions_plot']=(train['Cabin_region1']+2*train['Cabin_region2']+3*train['Cabin_region3']+4*train['Cabin_region4']+5*train['Cabin_region5']+6*train['Cabin_region6']+7*train['Cabin_region7']).astype(int)\n",
    "sns.countplot(data=train, x='Cabin_regions_plot', hue='Transported')\n",
    "plt.title('Cabin regions')\n",
    "train.drop('Cabin_regions_plot', axis=1, inplace=True)"
   ]
  },
  {
   "cell_type": "markdown",
   "id": "84e36cd3",
   "metadata": {
    "papermill": {
     "duration": 0.096274,
     "end_time": "2022-04-04T10:12:06.010960",
     "exception": false,
     "start_time": "2022-04-04T10:12:05.914686",
     "status": "completed"
    },
    "tags": []
   },
   "source": [
    "### Last name\n",
    "- Name의 성으로 Family_sizy 그룹화 하였다."
   ]
  },
  {
   "cell_type": "code",
   "execution_count": 30,
   "id": "201b1fd1",
   "metadata": {
    "execution": {
     "iopub.execute_input": "2022-04-04T10:12:06.212389Z",
     "iopub.status.busy": "2022-04-04T10:12:06.211298Z",
     "iopub.status.idle": "2022-04-04T10:12:37.142271Z",
     "shell.execute_reply": "2022-04-04T10:12:37.141556Z",
     "shell.execute_reply.started": "2022-04-04T10:07:52.949858Z"
    },
    "papermill": {
     "duration": 31.032785,
     "end_time": "2022-04-04T10:12:37.142440",
     "exception": false,
     "start_time": "2022-04-04T10:12:06.109655",
     "status": "completed"
    },
    "tags": []
   },
   "outputs": [
    {
     "data": {
      "text/plain": [
       "Text(0.5, 1.0, 'Family size')"
      ]
     },
     "execution_count": 30,
     "metadata": {},
     "output_type": "execute_result"
    },
    {
     "data": {
      "image/png": "[encoded data removed]",
      "text/plain": [
       "<Figure size 720x288 with 1 Axes>"
      ]
     },
     "metadata": {
      "needs_background": "light"
     },
     "output_type": "display_data"
    }
   ],
   "source": [
    "# New features - training set\n",
    "train['Surname']=train['Name'].str.split().str[-1]\n",
    "train['Family_size']=train['Surname'].map(lambda x: train['Surname'].value_counts()[x])\n",
    "\n",
    "# New features - test set\n",
    "test['Surname']=test['Name'].str.split().str[-1]\n",
    "test['Family_size']=test['Surname'].map(lambda x: test['Surname'].value_counts()[x])\n",
    "\n",
    "# Set outliers (no name) to have no family\n",
    "train.loc[train['Family_size']==200,'Family_size']=0\n",
    "test.loc[test['Family_size']==200,'Family_size']=0\n",
    "\n",
    "# New feature distribution\n",
    "plt.figure(figsize=(10,4))\n",
    "sns.countplot(data=train, x='Family_size', hue='Transported')\n",
    "plt.title('Family size')"
   ]
  },
  {
   "cell_type": "markdown",
   "id": "98941edc",
   "metadata": {
    "papermill": {
     "duration": 0.107429,
     "end_time": "2022-04-04T10:12:37.350395",
     "exception": false,
     "start_time": "2022-04-04T10:12:37.242966",
     "status": "completed"
    },
    "tags": []
   },
   "source": [
    "### Drop unwanted features\n",
    "- 세부적으로 그룹화를 진행한 칼럼을 없앴다."
   ]
  },
  {
   "cell_type": "code",
   "execution_count": 31,
   "id": "13140eca",
   "metadata": {
    "execution": {
     "iopub.execute_input": "2022-04-04T10:12:37.560593Z",
     "iopub.status.busy": "2022-04-04T10:12:37.559851Z",
     "iopub.status.idle": "2022-04-04T10:12:37.592593Z",
     "shell.execute_reply": "2022-04-04T10:12:37.593341Z",
     "shell.execute_reply.started": "2022-04-04T10:08:24.774264Z"
    },
    "papermill": {
     "duration": 0.141344,
     "end_time": "2022-04-04T10:12:37.593547",
     "exception": false,
     "start_time": "2022-04-04T10:12:37.452203",
     "status": "completed"
    },
    "tags": []
   },
   "outputs": [
    {
     "data": {
      "text/html": [
       "<div>\n",
       "<style scoped>\n",
       "    .dataframe tbody tr th:only-of-type {\n",
       "        vertical-align: middle;\n",
       "    }\n",
       "\n",
       "    .dataframe tbody tr th {\n",
       "        vertical-align: top;\n",
       "    }\n",
       "\n",
       "    .dataframe thead th {\n",
       "        text-align: right;\n",
       "    }\n",
       "</style>\n",
       "<table border=\"1\" class=\"dataframe\">\n",
       "  <thead>\n",
       "    <tr style=\"text-align: right;\">\n",
       "      <th></th>\n",
       "      <th>HomePlanet</th>\n",
       "      <th>CryoSleep</th>\n",
       "      <th>Destination</th>\n",
       "      <th>Age</th>\n",
       "      <th>VIP</th>\n",
       "      <th>RoomService</th>\n",
       "      <th>FoodCourt</th>\n",
       "      <th>ShoppingMall</th>\n",
       "      <th>Spa</th>\n",
       "      <th>VRDeck</th>\n",
       "      <th>...</th>\n",
       "      <th>Cabin_deck</th>\n",
       "      <th>Cabin_side</th>\n",
       "      <th>Cabin_region1</th>\n",
       "      <th>Cabin_region2</th>\n",
       "      <th>Cabin_region3</th>\n",
       "      <th>Cabin_region4</th>\n",
       "      <th>Cabin_region5</th>\n",
       "      <th>Cabin_region6</th>\n",
       "      <th>Cabin_region7</th>\n",
       "      <th>Family_size</th>\n",
       "    </tr>\n",
       "  </thead>\n",
       "  <tbody>\n",
       "    <tr>\n",
       "      <th>0</th>\n",
       "      <td>Europa</td>\n",
       "      <td>False</td>\n",
       "      <td>TRAPPIST-1e</td>\n",
       "      <td>39.0</td>\n",
       "      <td>False</td>\n",
       "      <td>0.0</td>\n",
       "      <td>0.0</td>\n",
       "      <td>0.0</td>\n",
       "      <td>0.0</td>\n",
       "      <td>0.0</td>\n",
       "      <td>...</td>\n",
       "      <td>B</td>\n",
       "      <td>P</td>\n",
       "      <td>1</td>\n",
       "      <td>0</td>\n",
       "      <td>0</td>\n",
       "      <td>0</td>\n",
       "      <td>0</td>\n",
       "      <td>0</td>\n",
       "      <td>0</td>\n",
       "      <td>1</td>\n",
       "    </tr>\n",
       "    <tr>\n",
       "      <th>1</th>\n",
       "      <td>Earth</td>\n",
       "      <td>False</td>\n",
       "      <td>TRAPPIST-1e</td>\n",
       "      <td>24.0</td>\n",
       "      <td>False</td>\n",
       "      <td>109.0</td>\n",
       "      <td>9.0</td>\n",
       "      <td>25.0</td>\n",
       "      <td>549.0</td>\n",
       "      <td>44.0</td>\n",
       "      <td>...</td>\n",
       "      <td>F</td>\n",
       "      <td>S</td>\n",
       "      <td>1</td>\n",
       "      <td>0</td>\n",
       "      <td>0</td>\n",
       "      <td>0</td>\n",
       "      <td>0</td>\n",
       "      <td>0</td>\n",
       "      <td>0</td>\n",
       "      <td>4</td>\n",
       "    </tr>\n",
       "    <tr>\n",
       "      <th>2</th>\n",
       "      <td>Europa</td>\n",
       "      <td>False</td>\n",
       "      <td>TRAPPIST-1e</td>\n",
       "      <td>58.0</td>\n",
       "      <td>True</td>\n",
       "      <td>43.0</td>\n",
       "      <td>3576.0</td>\n",
       "      <td>0.0</td>\n",
       "      <td>6715.0</td>\n",
       "      <td>49.0</td>\n",
       "      <td>...</td>\n",
       "      <td>A</td>\n",
       "      <td>S</td>\n",
       "      <td>1</td>\n",
       "      <td>0</td>\n",
       "      <td>0</td>\n",
       "      <td>0</td>\n",
       "      <td>0</td>\n",
       "      <td>0</td>\n",
       "      <td>0</td>\n",
       "      <td>6</td>\n",
       "    </tr>\n",
       "    <tr>\n",
       "      <th>3</th>\n",
       "      <td>Europa</td>\n",
       "      <td>False</td>\n",
       "      <td>TRAPPIST-1e</td>\n",
       "      <td>33.0</td>\n",
       "      <td>False</td>\n",
       "      <td>0.0</td>\n",
       "      <td>1283.0</td>\n",
       "      <td>371.0</td>\n",
       "      <td>3329.0</td>\n",
       "      <td>193.0</td>\n",
       "      <td>...</td>\n",
       "      <td>A</td>\n",
       "      <td>S</td>\n",
       "      <td>1</td>\n",
       "      <td>0</td>\n",
       "      <td>0</td>\n",
       "      <td>0</td>\n",
       "      <td>0</td>\n",
       "      <td>0</td>\n",
       "      <td>0</td>\n",
       "      <td>6</td>\n",
       "    </tr>\n",
       "    <tr>\n",
       "      <th>4</th>\n",
       "      <td>Earth</td>\n",
       "      <td>False</td>\n",
       "      <td>TRAPPIST-1e</td>\n",
       "      <td>16.0</td>\n",
       "      <td>False</td>\n",
       "      <td>303.0</td>\n",
       "      <td>70.0</td>\n",
       "      <td>151.0</td>\n",
       "      <td>565.0</td>\n",
       "      <td>2.0</td>\n",
       "      <td>...</td>\n",
       "      <td>F</td>\n",
       "      <td>S</td>\n",
       "      <td>1</td>\n",
       "      <td>0</td>\n",
       "      <td>0</td>\n",
       "      <td>0</td>\n",
       "      <td>0</td>\n",
       "      <td>0</td>\n",
       "      <td>0</td>\n",
       "      <td>6</td>\n",
       "    </tr>\n",
       "  </tbody>\n",
       "</table>\n",
       "<p>5 rows × 28 columns</p>\n",
       "</div>"
      ],
      "text/plain": [
       "  HomePlanet  CryoSleep  Destination   Age    VIP  RoomService  FoodCourt  \\\n",
       "0     Europa      False  TRAPPIST-1e  39.0  False          0.0        0.0   \n",
       "1      Earth      False  TRAPPIST-1e  24.0  False        109.0        9.0   \n",
       "2     Europa      False  TRAPPIST-1e  58.0   True         43.0     3576.0   \n",
       "3     Europa      False  TRAPPIST-1e  33.0  False          0.0     1283.0   \n",
       "4      Earth      False  TRAPPIST-1e  16.0  False        303.0       70.0   \n",
       "\n",
       "   ShoppingMall     Spa  VRDeck  ...  Cabin_deck  Cabin_side  Cabin_region1  \\\n",
       "0           0.0     0.0     0.0  ...           B           P              1   \n",
       "1          25.0   549.0    44.0  ...           F           S              1   \n",
       "2           0.0  6715.0    49.0  ...           A           S              1   \n",
       "3         371.0  3329.0   193.0  ...           A           S              1   \n",
       "4         151.0   565.0     2.0  ...           F           S              1   \n",
       "\n",
       "   Cabin_region2  Cabin_region3  Cabin_region4  Cabin_region5  Cabin_region6  \\\n",
       "0              0              0              0              0              0   \n",
       "1              0              0              0              0              0   \n",
       "2              0              0              0              0              0   \n",
       "3              0              0              0              0              0   \n",
       "4              0              0              0              0              0   \n",
       "\n",
       "  Cabin_region7 Family_size  \n",
       "0             0           1  \n",
       "1             0           4  \n",
       "2             0           6  \n",
       "3             0           6  \n",
       "4             0           6  \n",
       "\n",
       "[5 rows x 28 columns]"
      ]
     },
     "execution_count": 31,
     "metadata": {},
     "output_type": "execute_result"
    }
   ],
   "source": [
    "# Drop qualitative/redundant/high cardinality features\n",
    "train.drop(['PassengerId', 'Cabin', 'Name', 'Surname', 'Group', 'Cabin_number'], axis=1, inplace=True)\n",
    "test.drop(['PassengerId', 'Cabin', 'Name', 'Surname', 'Group', 'Cabin_number'], axis=1, inplace=True)\n",
    "\n",
    "# Preview resulting training set\n",
    "train.head()"
   ]
  },
  {
   "cell_type": "markdown",
   "id": "0d7c5d2d",
   "metadata": {
    "papermill": {
     "duration": 0.102547,
     "end_time": "2022-04-04T10:12:37.796651",
     "exception": false,
     "start_time": "2022-04-04T10:12:37.694104",
     "status": "completed"
    },
    "tags": []
   },
   "source": [
    "### reference :\n",
    "- SAMUEL CORTINHAS  . Spaceship Titanic: A complete guide : https://www.kaggle.com/code/samuelcortinhas/spaceship-titanic-a-complete-guide#EDA"
   ]
  },
  {
   "cell_type": "markdown",
   "id": "6c49ca05",
   "metadata": {
    "papermill": {
     "duration": 0.099737,
     "end_time": "2022-04-04T10:12:37.995654",
     "exception": false,
     "start_time": "2022-04-04T10:12:37.895917",
     "status": "completed"
    },
    "tags": []
   },
   "source": [
    "## One-Hot Encoding\n",
    "- 머신러닝에선 문자열을 사용할 수 없기 때문에 get_dummies를 이용해 원핫인코딩을 진행하였다."
   ]
  },
  {
   "cell_type": "code",
   "execution_count": 32,
   "id": "c012aba9",
   "metadata": {
    "execution": {
     "iopub.execute_input": "2022-04-04T10:12:38.200482Z",
     "iopub.status.busy": "2022-04-04T10:12:38.199743Z",
     "iopub.status.idle": "2022-04-04T10:12:38.259755Z",
     "shell.execute_reply": "2022-04-04T10:12:38.260458Z",
     "shell.execute_reply.started": "2022-04-04T10:08:24.815104Z"
    },
    "papermill": {
     "duration": 0.163443,
     "end_time": "2022-04-04T10:12:38.260645",
     "exception": false,
     "start_time": "2022-04-04T10:12:38.097202",
     "status": "completed"
    },
    "tags": []
   },
   "outputs": [],
   "source": [
    " def dummy_data(data, columns):\n",
    "        for column in columns:\n",
    "            data = pd.concat([data, pd.get_dummies(data[column], prefix = column)], axis=1)\n",
    "            data = data.drop(column, axis=1)\n",
    "        return data\n",
    "    \n",
    "dummy_columns = ['HomePlanet','Destination','Cabin_deck','Cabin_side']\n",
    "train = dummy_data(train, dummy_columns)\n",
    "test = dummy_data(test, dummy_columns)\n",
    "train['Transported'] = train['Transported'].map({True: 1, False: 0})\n",
    "train['CryoSleep'] = train['CryoSleep'].map({True: 1, False: 0})\n",
    "train['VIP'] = train['VIP'].map({True: 1, False: 0})\n"
   ]
  },
  {
   "cell_type": "code",
   "execution_count": 33,
   "id": "dede6137",
   "metadata": {
    "execution": {
     "iopub.execute_input": "2022-04-04T10:12:38.468454Z",
     "iopub.status.busy": "2022-04-04T10:12:38.467700Z",
     "iopub.status.idle": "2022-04-04T10:12:38.496834Z",
     "shell.execute_reply": "2022-04-04T10:12:38.497824Z",
     "shell.execute_reply.started": "2022-04-04T10:08:24.872768Z"
    },
    "papermill": {
     "duration": 0.135565,
     "end_time": "2022-04-04T10:12:38.498018",
     "exception": false,
     "start_time": "2022-04-04T10:12:38.362453",
     "status": "completed"
    },
    "tags": []
   },
   "outputs": [
    {
     "name": "stdout",
     "output_type": "stream",
     "text": [
      "<class 'pandas.core.frame.DataFrame'>\n",
      "RangeIndex: 8693 entries, 0 to 8692\n",
      "Data columns (total 42 columns):\n",
      " #   Column                     Non-Null Count  Dtype  \n",
      "---  ------                     --------------  -----  \n",
      " 0   CryoSleep                  8693 non-null   int64  \n",
      " 1   Age                        8693 non-null   float64\n",
      " 2   VIP                        8693 non-null   int64  \n",
      " 3   RoomService                8693 non-null   float64\n",
      " 4   FoodCourt                  8693 non-null   float64\n",
      " 5   ShoppingMall               8693 non-null   float64\n",
      " 6   Spa                        8693 non-null   float64\n",
      " 7   VRDeck                     8693 non-null   float64\n",
      " 8   Transported                8693 non-null   int64  \n",
      " 9   teenager                   8693 non-null   int64  \n",
      " 10  20_to_40                   8693 non-null   int64  \n",
      " 11  senior                     8693 non-null   int64  \n",
      " 12  Expenditure                8693 non-null   float64\n",
      " 13  No_spending                8693 non-null   int64  \n",
      " 14  Group_size                 8693 non-null   int64  \n",
      " 15  Solo                       8693 non-null   int64  \n",
      " 16  Cabin_region1              8693 non-null   int64  \n",
      " 17  Cabin_region2              8693 non-null   int64  \n",
      " 18  Cabin_region3              8693 non-null   int64  \n",
      " 19  Cabin_region4              8693 non-null   int64  \n",
      " 20  Cabin_region5              8693 non-null   int64  \n",
      " 21  Cabin_region6              8693 non-null   int64  \n",
      " 22  Cabin_region7              8693 non-null   int64  \n",
      " 23  Family_size                8693 non-null   int64  \n",
      " 24  HomePlanet_Earth           8693 non-null   uint8  \n",
      " 25  HomePlanet_Europa          8693 non-null   uint8  \n",
      " 26  HomePlanet_Mars            8693 non-null   uint8  \n",
      " 27  Destination_55 Cancri e    8693 non-null   uint8  \n",
      " 28  Destination_PSO J318.5-22  8693 non-null   uint8  \n",
      " 29  Destination_TRAPPIST-1e    8693 non-null   uint8  \n",
      " 30  Cabin_deck_A               8693 non-null   uint8  \n",
      " 31  Cabin_deck_B               8693 non-null   uint8  \n",
      " 32  Cabin_deck_C               8693 non-null   uint8  \n",
      " 33  Cabin_deck_D               8693 non-null   uint8  \n",
      " 34  Cabin_deck_E               8693 non-null   uint8  \n",
      " 35  Cabin_deck_F               8693 non-null   uint8  \n",
      " 36  Cabin_deck_G               8693 non-null   uint8  \n",
      " 37  Cabin_deck_T               8693 non-null   uint8  \n",
      " 38  Cabin_deck_Z               8693 non-null   uint8  \n",
      " 39  Cabin_side_P               8693 non-null   uint8  \n",
      " 40  Cabin_side_S               8693 non-null   uint8  \n",
      " 41  Cabin_side_Z               8693 non-null   uint8  \n",
      "dtypes: float64(7), int64(17), uint8(18)\n",
      "memory usage: 1.7 MB\n",
      "None\n",
      "\n",
      "<class 'pandas.core.frame.DataFrame'>\n",
      "RangeIndex: 4277 entries, 0 to 4276\n",
      "Data columns (total 41 columns):\n",
      " #   Column                     Non-Null Count  Dtype  \n",
      "---  ------                     --------------  -----  \n",
      " 0   CryoSleep                  4277 non-null   bool   \n",
      " 1   Age                        4277 non-null   float64\n",
      " 2   VIP                        4277 non-null   bool   \n",
      " 3   RoomService                4277 non-null   float64\n",
      " 4   FoodCourt                  4277 non-null   float64\n",
      " 5   ShoppingMall               4277 non-null   float64\n",
      " 6   Spa                        4277 non-null   float64\n",
      " 7   VRDeck                     4277 non-null   float64\n",
      " 8   teenager                   4277 non-null   int64  \n",
      " 9   20_to_40                   4277 non-null   int64  \n",
      " 10  senior                     4277 non-null   int64  \n",
      " 11  Expenditure                4277 non-null   float64\n",
      " 12  No_spending                4277 non-null   int64  \n",
      " 13  Group_size                 4277 non-null   int64  \n",
      " 14  Solo                       4277 non-null   int64  \n",
      " 15  Cabin_region1              4277 non-null   int64  \n",
      " 16  Cabin_region2              4277 non-null   int64  \n",
      " 17  Cabin_region3              4277 non-null   int64  \n",
      " 18  Cabin_region4              4277 non-null   int64  \n",
      " 19  Cabin_region5              4277 non-null   int64  \n",
      " 20  Cabin_region6              4277 non-null   int64  \n",
      " 21  Cabin_region7              4277 non-null   int64  \n",
      " 22  Family_size                4277 non-null   int64  \n",
      " 23  HomePlanet_Earth           4277 non-null   uint8  \n",
      " 24  HomePlanet_Europa          4277 non-null   uint8  \n",
      " 25  HomePlanet_Mars            4277 non-null   uint8  \n",
      " 26  Destination_55 Cancri e    4277 non-null   uint8  \n",
      " 27  Destination_PSO J318.5-22  4277 non-null   uint8  \n",
      " 28  Destination_TRAPPIST-1e    4277 non-null   uint8  \n",
      " 29  Cabin_deck_A               4277 non-null   uint8  \n",
      " 30  Cabin_deck_B               4277 non-null   uint8  \n",
      " 31  Cabin_deck_C               4277 non-null   uint8  \n",
      " 32  Cabin_deck_D               4277 non-null   uint8  \n",
      " 33  Cabin_deck_E               4277 non-null   uint8  \n",
      " 34  Cabin_deck_F               4277 non-null   uint8  \n",
      " 35  Cabin_deck_G               4277 non-null   uint8  \n",
      " 36  Cabin_deck_T               4277 non-null   uint8  \n",
      " 37  Cabin_deck_Z               4277 non-null   uint8  \n",
      " 38  Cabin_side_P               4277 non-null   uint8  \n",
      " 39  Cabin_side_S               4277 non-null   uint8  \n",
      " 40  Cabin_side_Z               4277 non-null   uint8  \n",
      "dtypes: bool(2), float64(7), int64(14), uint8(18)\n",
      "memory usage: 785.4 KB\n",
      "None\n"
     ]
    }
   ],
   "source": [
    "# Check Encoding\n",
    "print(train.info())\n",
    "print(\"\")\n",
    "print(test.info())"
   ]
  },
  {
   "cell_type": "markdown",
   "id": "2d66b719",
   "metadata": {
    "papermill": {
     "duration": 0.099992,
     "end_time": "2022-04-04T10:12:38.699871",
     "exception": false,
     "start_time": "2022-04-04T10:12:38.599879",
     "status": "completed"
    },
    "tags": []
   },
   "source": [
    "# Machine Learning\n",
    "- HistGradientBoostingClassifier \n",
    "- XGBoost\n",
    "- LightGBM"
   ]
  },
  {
   "cell_type": "code",
   "execution_count": 34,
   "id": "f9973713",
   "metadata": {
    "execution": {
     "iopub.execute_input": "2022-04-04T10:12:38.906405Z",
     "iopub.status.busy": "2022-04-04T10:12:38.905621Z",
     "iopub.status.idle": "2022-04-04T10:12:39.120402Z",
     "shell.execute_reply": "2022-04-04T10:12:39.120952Z",
     "shell.execute_reply.started": "2022-04-04T10:08:24.901997Z"
    },
    "papermill": {
     "duration": 0.318257,
     "end_time": "2022-04-04T10:12:39.121131",
     "exception": false,
     "start_time": "2022-04-04T10:12:38.802874",
     "status": "completed"
    },
    "tags": []
   },
   "outputs": [
    {
     "data": {
      "text/plain": [
       "HistGradientBoostingClassifier(random_state=42)"
      ]
     },
     "execution_count": 34,
     "metadata": {},
     "output_type": "execute_result"
    }
   ],
   "source": [
    "# HistGradientBoostingClassifier\n",
    "\n",
    "from sklearn.experimental import enable_hist_gradient_boosting\n",
    "from sklearn.ensemble import HistGradientBoostingClassifier\n",
    "\n",
    "hgb = HistGradientBoostingClassifier(random_state=42)\n",
    "hgb"
   ]
  },
  {
   "cell_type": "code",
   "execution_count": 35,
   "id": "562bb3b2",
   "metadata": {
    "execution": {
     "iopub.execute_input": "2022-04-04T10:12:39.328050Z",
     "iopub.status.busy": "2022-04-04T10:12:39.326990Z",
     "iopub.status.idle": "2022-04-04T10:12:39.419407Z",
     "shell.execute_reply": "2022-04-04T10:12:39.418719Z",
     "shell.execute_reply.started": "2022-04-04T10:08:24.961664Z"
    },
    "papermill": {
     "duration": 0.197606,
     "end_time": "2022-04-04T10:12:39.419557",
     "exception": false,
     "start_time": "2022-04-04T10:12:39.221951",
     "status": "completed"
    },
    "tags": []
   },
   "outputs": [
    {
     "data": {
      "text/plain": [
       "XGBClassifier(base_score=None, booster=None, colsample_bylevel=None,\n",
       "              colsample_bynode=None, colsample_bytree=None,\n",
       "              enable_categorical=False, gamma=None, gpu_id=None,\n",
       "              importance_type=None, interaction_constraints=None,\n",
       "              learning_rate=None, max_delta_step=None, max_depth=None,\n",
       "              min_child_weight=None, missing=nan, monotone_constraints=None,\n",
       "              n_estimators=100, n_jobs=None, num_parallel_tree=None,\n",
       "              predictor=None, random_state=42, reg_alpha=None, reg_lambda=None,\n",
       "              scale_pos_weight=None, subsample=None, tree_method='hist',\n",
       "              validate_parameters=None, verbosity=None)"
      ]
     },
     "execution_count": 35,
     "metadata": {},
     "output_type": "execute_result"
    }
   ],
   "source": [
    "# XGBoost\n",
    "\n",
    "from xgboost import XGBClassifier\n",
    "xgb = XGBClassifier(tree_method='hist', random_state=42)\n",
    "xgb"
   ]
  },
  {
   "cell_type": "code",
   "execution_count": 36,
   "id": "a0617a1a",
   "metadata": {
    "execution": {
     "iopub.execute_input": "2022-04-04T10:12:39.627590Z",
     "iopub.status.busy": "2022-04-04T10:12:39.626916Z",
     "iopub.status.idle": "2022-04-04T10:12:39.913595Z",
     "shell.execute_reply": "2022-04-04T10:12:39.914156Z",
     "shell.execute_reply.started": "2022-04-04T10:08:24.994593Z"
    },
    "papermill": {
     "duration": 0.394375,
     "end_time": "2022-04-04T10:12:39.914340",
     "exception": false,
     "start_time": "2022-04-04T10:12:39.519965",
     "status": "completed"
    },
    "tags": []
   },
   "outputs": [
    {
     "data": {
      "text/html": [
       "<style type='text/css'>\n",
       ".datatable table.frame { margin-bottom: 0; }\n",
       ".datatable table.frame thead { border-bottom: none; }\n",
       ".datatable table.frame tr.coltypes td {  color: #FFFFFF;  line-height: 6px;  padding: 0 0.5em;}\n",
       ".datatable .bool    { background: #DDDD99; }\n",
       ".datatable .object  { background: #565656; }\n",
       ".datatable .int     { background: #5D9E5D; }\n",
       ".datatable .float   { background: #4040CC; }\n",
       ".datatable .str     { background: #CC4040; }\n",
       ".datatable .time    { background: #40CC40; }\n",
       ".datatable .row_index {  background: var(--jp-border-color3);  border-right: 1px solid var(--jp-border-color0);  color: var(--jp-ui-font-color3);  font-size: 9px;}\n",
       ".datatable .frame tbody td { text-align: left; }\n",
       ".datatable .frame tr.coltypes .row_index {  background: var(--jp-border-color0);}\n",
       ".datatable th:nth-child(2) { padding-left: 12px; }\n",
       ".datatable .hellipsis {  color: var(--jp-cell-editor-border-color);}\n",
       ".datatable .vellipsis {  background: var(--jp-layout-color0);  color: var(--jp-cell-editor-border-color);}\n",
       ".datatable .na {  color: var(--jp-cell-editor-border-color);  font-size: 80%;}\n",
       ".datatable .sp {  opacity: 0.25;}\n",
       ".datatable .footer { font-size: 9px; }\n",
       ".datatable .frame_dimensions {  background: var(--jp-border-color3);  border-top: 1px solid var(--jp-border-color0);  color: var(--jp-ui-font-color3);  display: inline-block;  opacity: 0.6;  padding: 1px 10px 1px 5px;}\n",
       "</style>\n"
      ],
      "text/plain": [
       "<IPython.core.display.HTML object>"
      ]
     },
     "metadata": {},
     "output_type": "display_data"
    },
    {
     "data": {
      "text/plain": [
       "LGBMClassifier(random_state=42)"
      ]
     },
     "execution_count": 36,
     "metadata": {},
     "output_type": "execute_result"
    }
   ],
   "source": [
    "# LightGBM\n",
    "\n",
    "from lightgbm import LGBMClassifier\n",
    "\n",
    "lgb = LGBMClassifier(random_state=42)\n",
    "lgb"
   ]
  },
  {
   "cell_type": "markdown",
   "id": "14bebc64",
   "metadata": {
    "papermill": {
     "duration": 0.103182,
     "end_time": "2022-04-04T10:12:40.123241",
     "exception": false,
     "start_time": "2022-04-04T10:12:40.020059",
     "status": "completed"
    },
    "tags": []
   },
   "source": [
    "# Model Evaluation\n",
    "- 검증 점수 : lgb > hgb > xgb(과대적합)\n",
    "- 정확도 : xgb > hgb > lgb"
   ]
  },
  {
   "cell_type": "markdown",
   "id": "2212c3ef",
   "metadata": {
    "papermill": {
     "duration": 0.106335,
     "end_time": "2022-04-04T10:12:40.332850",
     "exception": false,
     "start_time": "2022-04-04T10:12:40.226515",
     "status": "completed"
    },
    "tags": []
   },
   "source": [
    "## Train Test Split\n",
    "- 교차 검증 3회만 한다."
   ]
  },
  {
   "cell_type": "code",
   "execution_count": 37,
   "id": "11f46b3e",
   "metadata": {
    "execution": {
     "iopub.execute_input": "2022-04-04T10:12:40.542380Z",
     "iopub.status.busy": "2022-04-04T10:12:40.541665Z",
     "iopub.status.idle": "2022-04-04T10:12:40.551005Z",
     "shell.execute_reply": "2022-04-04T10:12:40.551545Z",
     "shell.execute_reply.started": "2022-04-04T10:08:25.150415Z"
    },
    "papermill": {
     "duration": 0.116329,
     "end_time": "2022-04-04T10:12:40.551725",
     "exception": false,
     "start_time": "2022-04-04T10:12:40.435396",
     "status": "completed"
    },
    "tags": []
   },
   "outputs": [],
   "source": [
    "X_cols = test.columns\n",
    "X = train[X_cols].to_numpy()\n",
    "y = train['Transported'].to_numpy()"
   ]
  },
  {
   "cell_type": "code",
   "execution_count": 38,
   "id": "c1545642",
   "metadata": {
    "execution": {
     "iopub.execute_input": "2022-04-04T10:12:40.761318Z",
     "iopub.status.busy": "2022-04-04T10:12:40.760608Z",
     "iopub.status.idle": "2022-04-04T10:12:40.772029Z",
     "shell.execute_reply": "2022-04-04T10:12:40.772566Z",
     "shell.execute_reply.started": "2022-04-04T10:08:25.162998Z"
    },
    "papermill": {
     "duration": 0.11731,
     "end_time": "2022-04-04T10:12:40.772764",
     "exception": false,
     "start_time": "2022-04-04T10:12:40.655454",
     "status": "completed"
    },
    "tags": []
   },
   "outputs": [
    {
     "data": {
      "text/plain": [
       "((6085, 41), (2608, 41), (6085,), (2608,))"
      ]
     },
     "execution_count": 38,
     "metadata": {},
     "output_type": "execute_result"
    }
   ],
   "source": [
    "# train_test_split 를 이용하여 훈련데이터세트와 검증데이터세트를 만듬.\n",
    "X_train, X_val, y_train, y_val = train_test_split(X, y, test_size=0.3, random_state=42)\n",
    "X_train.shape, X_val.shape, y_train.shape, y_val.shape"
   ]
  },
  {
   "cell_type": "markdown",
   "id": "4c7ca0ea",
   "metadata": {
    "papermill": {
     "duration": 0.107058,
     "end_time": "2022-04-04T10:12:40.984674",
     "exception": false,
     "start_time": "2022-04-04T10:12:40.877616",
     "status": "completed"
    },
    "tags": []
   },
   "source": [
    "## HistGradientBoostingClassifier\n",
    "- 훈련 평균점수 : 0.9079704190632704\n",
    "- 검증 평균점수 : 0.8108463434675433\n",
    "- 검증 정확도 : 0.8017638036809815"
   ]
  },
  {
   "cell_type": "code",
   "execution_count": 39,
   "id": "d8ea1bbe",
   "metadata": {
    "execution": {
     "iopub.execute_input": "2022-04-04T10:12:41.200215Z",
     "iopub.status.busy": "2022-04-04T10:12:41.199475Z",
     "iopub.status.idle": "2022-04-04T10:12:45.399931Z",
     "shell.execute_reply": "2022-04-04T10:12:45.399361Z",
     "shell.execute_reply.started": "2022-04-04T10:08:25.178910Z"
    },
    "papermill": {
     "duration": 4.308004,
     "end_time": "2022-04-04T10:12:45.400087",
     "exception": false,
     "start_time": "2022-04-04T10:12:41.092083",
     "status": "completed"
    },
    "tags": []
   },
   "outputs": [
    {
     "name": "stdout",
     "output_type": "stream",
     "text": [
      "train Acc. 0.9079704190632704\n",
      "test Acc. 0.8108463434675433\n"
     ]
    }
   ],
   "source": [
    "splitter = StratifiedKFold(n_splits = 5, shuffle = True, random_state=42)\n",
    "scores = cross_validate(hgb, X_train, y_train, return_train_score = True, cv=splitter)\n",
    "\n",
    "print(\"train Acc.\", np.mean(scores['train_score']))\n",
    "print(\"test Acc.\", np.mean(scores['test_score']))"
   ]
  },
  {
   "cell_type": "code",
   "execution_count": 40,
   "id": "3e6b42d7",
   "metadata": {
    "execution": {
     "iopub.execute_input": "2022-04-04T10:12:45.615396Z",
     "iopub.status.busy": "2022-04-04T10:12:45.614365Z",
     "iopub.status.idle": "2022-04-04T10:12:46.467113Z",
     "shell.execute_reply": "2022-04-04T10:12:46.466407Z",
     "shell.execute_reply.started": "2022-04-04T10:08:28.570414Z"
    },
    "papermill": {
     "duration": 0.962165,
     "end_time": "2022-04-04T10:12:46.467294",
     "exception": false,
     "start_time": "2022-04-04T10:12:45.505129",
     "status": "completed"
    },
    "tags": []
   },
   "outputs": [
    {
     "name": "stdout",
     "output_type": "stream",
     "text": [
      "Acc. 0.8017638036809815\n"
     ]
    }
   ],
   "source": [
    "hgb.fit(X_train, y_train)\n",
    "y_pred = hgb.predict(X_val)\n",
    "print(\"Acc.\", accuracy_score(y_val, y_pred))"
   ]
  },
  {
   "cell_type": "markdown",
   "id": "e9cd93ec",
   "metadata": {
    "papermill": {
     "duration": 0.106718,
     "end_time": "2022-04-04T10:12:46.679479",
     "exception": false,
     "start_time": "2022-04-04T10:12:46.572761",
     "status": "completed"
    },
    "tags": []
   },
   "source": [
    "## XGBoost\n",
    "- 훈련 평균점수 : 0.9539441248972885\n",
    "- 검증 평균점수 : 0.8060805258833197\n",
    "- 검증 정확도 : 0.8029141104294478\n",
    "- 과대적합에 가깝다."
   ]
  },
  {
   "cell_type": "code",
   "execution_count": 41,
   "id": "9c1b944b",
   "metadata": {
    "execution": {
     "iopub.execute_input": "2022-04-04T10:12:46.900378Z",
     "iopub.status.busy": "2022-04-04T10:12:46.899603Z",
     "iopub.status.idle": "2022-04-04T10:12:50.040345Z",
     "shell.execute_reply": "2022-04-04T10:12:50.039748Z",
     "shell.execute_reply.started": "2022-04-04T10:08:29.228954Z"
    },
    "papermill": {
     "duration": 3.253845,
     "end_time": "2022-04-04T10:12:50.040499",
     "exception": false,
     "start_time": "2022-04-04T10:12:46.786654",
     "status": "completed"
    },
    "tags": []
   },
   "outputs": [
    {
     "name": "stdout",
     "output_type": "stream",
     "text": [
      "[10:12:46] WARNING: ../src/learner.cc:1115: Starting in XGBoost 1.3.0, the default evaluation metric used with the objective 'binary:logistic' was changed from 'error' to 'logloss'. Explicitly set eval_metric if you'd like to restore the old behavior.\n",
      "[10:12:47] WARNING: ../src/learner.cc:1115: Starting in XGBoost 1.3.0, the default evaluation metric used with the objective 'binary:logistic' was changed from 'error' to 'logloss'. Explicitly set eval_metric if you'd like to restore the old behavior.\n",
      "[10:12:48] WARNING: ../src/learner.cc:1115: Starting in XGBoost 1.3.0, the default evaluation metric used with the objective 'binary:logistic' was changed from 'error' to 'logloss'. Explicitly set eval_metric if you'd like to restore the old behavior.\n",
      "[10:12:48] WARNING: ../src/learner.cc:1115: Starting in XGBoost 1.3.0, the default evaluation metric used with the objective 'binary:logistic' was changed from 'error' to 'logloss'. Explicitly set eval_metric if you'd like to restore the old behavior.\n",
      "[10:12:49] WARNING: ../src/learner.cc:1115: Starting in XGBoost 1.3.0, the default evaluation metric used with the objective 'binary:logistic' was changed from 'error' to 'logloss'. Explicitly set eval_metric if you'd like to restore the old behavior.\n",
      "train Acc. 0.9539441248972885\n",
      "test Acc. 0.8060805258833197\n"
     ]
    }
   ],
   "source": [
    "scores = cross_validate(xgb, X_train, y_train, return_train_score = True, cv=splitter)\n",
    "\n",
    "print(\"train Acc.\", np.mean(scores['train_score']))\n",
    "print(\"test Acc.\", np.mean(scores['test_score']))"
   ]
  },
  {
   "cell_type": "code",
   "execution_count": 42,
   "id": "c88c1ada",
   "metadata": {
    "execution": {
     "iopub.execute_input": "2022-04-04T10:12:50.262064Z",
     "iopub.status.busy": "2022-04-04T10:12:50.261355Z",
     "iopub.status.idle": "2022-04-04T10:12:51.001140Z",
     "shell.execute_reply": "2022-04-04T10:12:51.000542Z",
     "shell.execute_reply.started": "2022-04-04T10:08:32.119700Z"
    },
    "papermill": {
     "duration": 0.852123,
     "end_time": "2022-04-04T10:12:51.001292",
     "exception": false,
     "start_time": "2022-04-04T10:12:50.149169",
     "status": "completed"
    },
    "tags": []
   },
   "outputs": [
    {
     "name": "stdout",
     "output_type": "stream",
     "text": [
      "[10:12:50] WARNING: ../src/learner.cc:1115: Starting in XGBoost 1.3.0, the default evaluation metric used with the objective 'binary:logistic' was changed from 'error' to 'logloss'. Explicitly set eval_metric if you'd like to restore the old behavior.\n",
      "Acc. 0.8029141104294478\n"
     ]
    }
   ],
   "source": [
    "xgb.fit(X_train, y_train)\n",
    "y_pred = xgb.predict(X_val)\n",
    "print(\"Acc.\", accuracy_score(y_val, y_pred))"
   ]
  },
  {
   "cell_type": "markdown",
   "id": "5224a601",
   "metadata": {
    "papermill": {
     "duration": 0.107817,
     "end_time": "2022-04-04T10:12:51.214271",
     "exception": false,
     "start_time": "2022-04-04T10:12:51.106454",
     "status": "completed"
    },
    "tags": []
   },
   "source": [
    "## LightGBM\n",
    "- 훈련 평균점수 : 0.9116269515201315\n",
    "- 검증 평균점수 : 0.8121610517666392\n",
    "- 검증 정확도 : 0.8009969325153374"
   ]
  },
  {
   "cell_type": "code",
   "execution_count": 43,
   "id": "c3ca50e3",
   "metadata": {
    "execution": {
     "iopub.execute_input": "2022-04-04T10:12:51.439035Z",
     "iopub.status.busy": "2022-04-04T10:12:51.437889Z",
     "iopub.status.idle": "2022-04-04T10:12:52.428639Z",
     "shell.execute_reply": "2022-04-04T10:12:52.428081Z",
     "shell.execute_reply.started": "2022-04-04T10:08:32.711671Z"
    },
    "papermill": {
     "duration": 1.107846,
     "end_time": "2022-04-04T10:12:52.428830",
     "exception": false,
     "start_time": "2022-04-04T10:12:51.320984",
     "status": "completed"
    },
    "tags": []
   },
   "outputs": [
    {
     "name": "stdout",
     "output_type": "stream",
     "text": [
      "train Acc. 0.9116269515201315\n",
      "test Acc. 0.8121610517666392\n"
     ]
    }
   ],
   "source": [
    "scores = cross_validate(lgb, X_train, y_train, return_train_score = True, cv=splitter)\n",
    "\n",
    "print(\"train Acc.\", np.mean(scores['train_score']))\n",
    "print(\"test Acc.\", np.mean(scores['test_score']))"
   ]
  },
  {
   "cell_type": "code",
   "execution_count": 44,
   "id": "ea3101cf",
   "metadata": {
    "execution": {
     "iopub.execute_input": "2022-04-04T10:12:52.650387Z",
     "iopub.status.busy": "2022-04-04T10:12:52.649628Z",
     "iopub.status.idle": "2022-04-04T10:12:54.097056Z",
     "shell.execute_reply": "2022-04-04T10:12:54.097639Z",
     "shell.execute_reply.started": "2022-04-04T10:08:33.608599Z"
    },
    "papermill": {
     "duration": 1.560839,
     "end_time": "2022-04-04T10:12:54.097851",
     "exception": false,
     "start_time": "2022-04-04T10:12:52.537012",
     "status": "completed"
    },
    "tags": []
   },
   "outputs": [
    {
     "name": "stdout",
     "output_type": "stream",
     "text": [
      "Acc. 0.8009969325153374\n"
     ]
    }
   ],
   "source": [
    "lgb.fit(X_train, y_train)\n",
    "y_pred = lgb.predict(X_val)\n",
    "print(\"Acc.\", accuracy_score(y_val, y_pred))"
   ]
  },
  {
   "cell_type": "markdown",
   "id": "b79c18f1",
   "metadata": {
    "papermill": {
     "duration": 0.11232,
     "end_time": "2022-04-04T10:12:54.319480",
     "exception": false,
     "start_time": "2022-04-04T10:12:54.207160",
     "status": "completed"
    },
    "tags": []
   },
   "source": [
    "# Submission\n",
    "- 검증 값이 가장 높은 LightGBM을 이용하였다."
   ]
  },
  {
   "cell_type": "code",
   "execution_count": 45,
   "id": "ab8aac6a",
   "metadata": {
    "execution": {
     "iopub.execute_input": "2022-04-04T10:12:54.550837Z",
     "iopub.status.busy": "2022-04-04T10:12:54.549547Z",
     "iopub.status.idle": "2022-04-04T10:12:54.600546Z",
     "shell.execute_reply": "2022-04-04T10:12:54.599916Z",
     "shell.execute_reply.started": "2022-04-04T10:08:33.792106Z"
    },
    "papermill": {
     "duration": 0.170248,
     "end_time": "2022-04-04T10:12:54.600697",
     "exception": false,
     "start_time": "2022-04-04T10:12:54.430449",
     "status": "completed"
    },
    "tags": []
   },
   "outputs": [
    {
     "data": {
      "text/html": [
       "<div>\n",
       "<style scoped>\n",
       "    .dataframe tbody tr th:only-of-type {\n",
       "        vertical-align: middle;\n",
       "    }\n",
       "\n",
       "    .dataframe tbody tr th {\n",
       "        vertical-align: top;\n",
       "    }\n",
       "\n",
       "    .dataframe thead th {\n",
       "        text-align: right;\n",
       "    }\n",
       "</style>\n",
       "<table border=\"1\" class=\"dataframe\">\n",
       "  <thead>\n",
       "    <tr style=\"text-align: right;\">\n",
       "      <th></th>\n",
       "      <th>PassengerId</th>\n",
       "      <th>Transported</th>\n",
       "    </tr>\n",
       "  </thead>\n",
       "  <tbody>\n",
       "    <tr>\n",
       "      <th>0</th>\n",
       "      <td>0013_01</td>\n",
       "      <td>True</td>\n",
       "    </tr>\n",
       "    <tr>\n",
       "      <th>1</th>\n",
       "      <td>0018_01</td>\n",
       "      <td>False</td>\n",
       "    </tr>\n",
       "    <tr>\n",
       "      <th>2</th>\n",
       "      <td>0019_01</td>\n",
       "      <td>True</td>\n",
       "    </tr>\n",
       "    <tr>\n",
       "      <th>3</th>\n",
       "      <td>0021_01</td>\n",
       "      <td>True</td>\n",
       "    </tr>\n",
       "    <tr>\n",
       "      <th>4</th>\n",
       "      <td>0023_01</td>\n",
       "      <td>True</td>\n",
       "    </tr>\n",
       "  </tbody>\n",
       "</table>\n",
       "</div>"
      ],
      "text/plain": [
       "  PassengerId  Transported\n",
       "0     0013_01         True\n",
       "1     0018_01        False\n",
       "2     0019_01         True\n",
       "3     0021_01         True\n",
       "4     0023_01         True"
      ]
     },
     "execution_count": 45,
     "metadata": {},
     "output_type": "execute_result"
    }
   ],
   "source": [
    "test_preds = lgb.predict(test.to_numpy())\n",
    "submission['Transported'] = test_preds.astype(\"bool\")\n",
    "submission.to_csv(\"submission.csv\",index=False)\n",
    "submission.head()"
   ]
  },
  {
   "cell_type": "markdown",
   "id": "7735cccf",
   "metadata": {
    "papermill": {
     "duration": 0.117298,
     "end_time": "2022-04-04T10:12:54.828185",
     "exception": false,
     "start_time": "2022-04-04T10:12:54.710887",
     "status": "completed"
    },
    "tags": []
   },
   "source": [
    "# Reference\n",
    "- 다른 사람의 code 설명을 쭉 따라침.\n",
    "- 노트북 표절 방지 위해, 여러분들이 참조한 코드는 반드시 링크 걸어둘 것\n",
    "- 저자 이름, 글 제목, 링크 주소"
   ]
  }
 ],
 "metadata": {
  "kernelspec": {
   "display_name": "Python 3",
   "language": "python",
   "name": "python3"
  },
  "language_info": {
   "codemirror_mode": {
    "name": "ipython",
    "version": 3
   },
   "file_extension": ".py",
   "mimetype": "text/x-python",
   "name": "python",
   "nbconvert_exporter": "python",
   "pygments_lexer": "ipython3",
   "version": "3.7.12"
  },
  "papermill": {
   "default_parameters": {},
   "duration": 170.583228,
   "end_time": "2022-04-04T10:12:56.754162",
   "environment_variables": {},
   "exception": null,
   "input_path": "__notebook__.ipynb",
   "output_path": "__notebook__.ipynb",
   "parameters": {},
   "start_time": "2022-04-04T10:10:06.170934",
   "version": "2.3.3"
  }
 },
 "nbformat": 4,
 "nbformat_minor": 5
}
